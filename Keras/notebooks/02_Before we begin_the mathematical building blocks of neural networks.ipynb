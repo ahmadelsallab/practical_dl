{
 "cells": [
  {
   "cell_type": "markdown",
   "metadata": {
    "colab_type": "text",
    "id": "1O_NCUIHh7Ok"
   },
   "source": [
    "# Chapter 2: Before we begin: the mathematical building blocks of neural networks"
   ]
  },
  {
   "cell_type": "markdown",
   "metadata": {
    "colab_type": "text",
    "id": "KtZy7BTth7Or"
   },
   "source": [
    "- Hello World!\n",
    "    - Basic NN keras program blocks\n",
    "- Data representation for DL:\n",
    "    - Tensors: Rank vs. Dimension        \n",
    "    - Tensors ranks: Scalar (0D), Vector (1D), Matrix (2D), TimeSeries (3D), Image (4D), Video (5D)\n",
    "    - Data notations: Batches, Vector, Image, Time, Video\n",
    "- Basic tensor operations\n",
    "    - Digression: Tensor operations, Broadcasting, Reshape vs. Transpose\n",
    "- Gradient-based optimization\n",
    "    - Training loop\n",
    "    - Stochastic Gradient Descent (SGD)\n",
    "    - Backpropagation\n",
    "- NN Anatomy:\n",
    "    - Data\n",
    "    - Model\n",
    "    - Loss\n",
    "    - Optimizer\n",
    "    "
   ]
  },
  {
   "cell_type": "markdown",
   "metadata": {
    "colab_type": "text",
    "id": "y1ESRvSQh7Ow"
   },
   "source": [
    "## A first look at a neural network\n",
    "\n",
    "We will now take a look at a first concrete example of a neural network, which makes use of the Python library Keras to learn to classify \n",
    "hand-written digits. Unless you already have experience with Keras or similar libraries, you will not understand everything about this \n",
    "first example right away. You probably haven't even installed Keras yet. Don't worry, that is perfectly fine. In the next chapter, we will \n",
    "review each element in our example and explain them in detail. So don't worry if some steps seem arbitrary or look like magic to you! \n",
    "We've got to start somewhere.\n",
    "\n",
    "### Data\n",
    "\n",
    "The problem we are trying to solve here is to classify grayscale images of handwritten digits (28 pixels by 28 pixels), into their 10 \n",
    "categories (0 to 9). The dataset we will use is the MNIST dataset, a classic dataset in the machine learning community, which has been \n",
    "around for almost as long as the field itself and has been very intensively studied. It's a set of 60,000 training images, plus 10,000 test \n",
    "images, assembled by the National Institute of Standards and Technology (the NIST in MNIST) in the 1980s. You can think of \"solving\" MNIST \n",
    "as the \"Hello World\" of deep learning -- it's what you do to verify that your algorithms are working as expected. As you become a machine \n",
    "learning practitioner, you will see MNIST come up over and over again, in scientific papers, blog posts, and so on."
   ]
  },
  {
   "cell_type": "markdown",
   "metadata": {
    "colab_type": "text",
    "id": "RoZe9cfjh7Oz"
   },
   "source": [
    "The MNIST dataset comes pre-loaded in Keras, in the form of a set of four Numpy arrays:"
   ]
  },
  {
   "cell_type": "code",
   "execution_count": 0,
   "metadata": {
    "colab": {},
    "colab_type": "code",
    "id": "V5EEGdqxh7O3"
   },
   "outputs": [],
   "source": [
    "from keras.datasets import mnist\n",
    "\n",
    "(train_images, train_labels), (test_images, test_labels) = mnist.load_data()"
   ]
  },
  {
   "cell_type": "markdown",
   "metadata": {
    "colab_type": "text",
    "id": "50avirtah7PD"
   },
   "source": [
    "`train_images` and `train_labels` form the \"training set\", the data that the model will learn from. The model will then be tested on the \n",
    "\"test set\", `test_images` and `test_labels`. Our images are encoded as Numpy arrays, and the labels are simply an array of digits, ranging \n",
    "from 0 to 9. There is a one-to-one correspondence between the images and the labels.\n",
    "\n",
    "Let's have a look at the training data:"
   ]
  },
  {
   "cell_type": "code",
   "execution_count": 50,
   "metadata": {
    "colab": {
     "base_uri": "https://localhost:8080/",
     "height": 34
    },
    "colab_type": "code",
    "executionInfo": {
     "elapsed": 2108,
     "status": "ok",
     "timestamp": 1550481268739,
     "user": {
      "displayName": "Ahmad El Sallab",
      "photoUrl": "",
      "userId": "06251939449358079201"
     },
     "user_tz": -120
    },
    "id": "_tyOs8p0h7PG",
    "outputId": "9fcaebb0-b3a1-4fc3-d2f8-99e63216d9b8"
   },
   "outputs": [
    {
     "data": {
      "text/plain": [
       "(60000, 28, 28)"
      ]
     },
     "execution_count": 50,
     "metadata": {
      "tags": []
     },
     "output_type": "execute_result"
    }
   ],
   "source": [
    "train_images.shape"
   ]
  },
  {
   "cell_type": "code",
   "execution_count": 51,
   "metadata": {
    "colab": {
     "base_uri": "https://localhost:8080/",
     "height": 34
    },
    "colab_type": "code",
    "executionInfo": {
     "elapsed": 2087,
     "status": "ok",
     "timestamp": 1550481268742,
     "user": {
      "displayName": "Ahmad El Sallab",
      "photoUrl": "",
      "userId": "06251939449358079201"
     },
     "user_tz": -120
    },
    "id": "3g1d9QEvh7PQ",
    "outputId": "2aacd2ae-73fe-4cd4-b48f-f7ec02625ed1"
   },
   "outputs": [
    {
     "data": {
      "text/plain": [
       "60000"
      ]
     },
     "execution_count": 51,
     "metadata": {
      "tags": []
     },
     "output_type": "execute_result"
    }
   ],
   "source": [
    "len(train_labels)"
   ]
  },
  {
   "cell_type": "code",
   "execution_count": 52,
   "metadata": {
    "colab": {
     "base_uri": "https://localhost:8080/",
     "height": 34
    },
    "colab_type": "code",
    "executionInfo": {
     "elapsed": 2065,
     "status": "ok",
     "timestamp": 1550481268742,
     "user": {
      "displayName": "Ahmad El Sallab",
      "photoUrl": "",
      "userId": "06251939449358079201"
     },
     "user_tz": -120
    },
    "id": "T6gBgjKKh7Pa",
    "outputId": "8bfd448b-f45c-4304-abcd-8ba06bfa49ad"
   },
   "outputs": [
    {
     "data": {
      "text/plain": [
       "array([5, 0, 4, ..., 5, 6, 8], dtype=uint8)"
      ]
     },
     "execution_count": 52,
     "metadata": {
      "tags": []
     },
     "output_type": "execute_result"
    }
   ],
   "source": [
    "train_labels"
   ]
  },
  {
   "cell_type": "code",
   "execution_count": 53,
   "metadata": {
    "colab": {
     "base_uri": "https://localhost:8080/",
     "height": 34
    },
    "colab_type": "code",
    "executionInfo": {
     "elapsed": 2048,
     "status": "ok",
     "timestamp": 1550481268744,
     "user": {
      "displayName": "Ahmad El Sallab",
      "photoUrl": "",
      "userId": "06251939449358079201"
     },
     "user_tz": -120
    },
    "id": "LItbqeJYh7Pl",
    "outputId": "c0c1f0c9-b00e-4a99-9665-ebd160e7191f"
   },
   "outputs": [
    {
     "data": {
      "text/plain": [
       "(10000, 28, 28)"
      ]
     },
     "execution_count": 53,
     "metadata": {
      "tags": []
     },
     "output_type": "execute_result"
    }
   ],
   "source": [
    "test_images.shape"
   ]
  },
  {
   "cell_type": "code",
   "execution_count": 54,
   "metadata": {
    "colab": {
     "base_uri": "https://localhost:8080/",
     "height": 34
    },
    "colab_type": "code",
    "executionInfo": {
     "elapsed": 2026,
     "status": "ok",
     "timestamp": 1550481268744,
     "user": {
      "displayName": "Ahmad El Sallab",
      "photoUrl": "",
      "userId": "06251939449358079201"
     },
     "user_tz": -120
    },
    "id": "ZCTI-Z8Uh7Pu",
    "outputId": "520a8032-be66-404e-f28e-64e6c9796609"
   },
   "outputs": [
    {
     "data": {
      "text/plain": [
       "10000"
      ]
     },
     "execution_count": 54,
     "metadata": {
      "tags": []
     },
     "output_type": "execute_result"
    }
   ],
   "source": [
    "len(test_labels)"
   ]
  },
  {
   "cell_type": "code",
   "execution_count": 55,
   "metadata": {
    "colab": {
     "base_uri": "https://localhost:8080/",
     "height": 34
    },
    "colab_type": "code",
    "executionInfo": {
     "elapsed": 2010,
     "status": "ok",
     "timestamp": 1550481268745,
     "user": {
      "displayName": "Ahmad El Sallab",
      "photoUrl": "",
      "userId": "06251939449358079201"
     },
     "user_tz": -120
    },
    "id": "ldV8buLNh7P5",
    "outputId": "b91bebea-f294-45bc-b1d1-d998a68dae45"
   },
   "outputs": [
    {
     "data": {
      "text/plain": [
       "array([7, 2, 1, ..., 4, 5, 6], dtype=uint8)"
      ]
     },
     "execution_count": 55,
     "metadata": {
      "tags": []
     },
     "output_type": "execute_result"
    }
   ],
   "source": [
    "test_labels"
   ]
  },
  {
   "cell_type": "markdown",
   "metadata": {
    "colab_type": "text",
    "id": "3cqgZvq6h7QH"
   },
   "source": [
    "Before training, we will preprocess our data by reshaping it into the shape that the network expects, and scaling it so that all values are in \n",
    "the `[0, 1]` interval. Previously, our training images for instance were stored in an array of shape `(60000, 28, 28)` of type `uint8` with \n",
    "values in the `[0, 255]` interval. We transform it into a `float32` array of shape `(60000, 28 * 28)` with values between 0 and 1."
   ]
  },
  {
   "cell_type": "code",
   "execution_count": 0,
   "metadata": {
    "colab": {},
    "colab_type": "code",
    "id": "6HYeUCjsh7QM"
   },
   "outputs": [],
   "source": [
    "train_images = train_images.reshape((60000, 28 * 28))\n",
    "train_images = train_images.astype('float32') / 255\n",
    "\n",
    "test_images = test_images.reshape((10000, 28 * 28))\n",
    "test_images = test_images.astype('float32') / 255"
   ]
  },
  {
   "cell_type": "markdown",
   "metadata": {
    "colab_type": "text",
    "id": "fqHyVnYEh7QT"
   },
   "source": [
    "We also need to categorically encode the labels, a step which we explain in chapter 3:"
   ]
  },
  {
   "cell_type": "code",
   "execution_count": 0,
   "metadata": {
    "colab": {},
    "colab_type": "code",
    "id": "5Z5KYaJPh7QW"
   },
   "outputs": [],
   "source": [
    "from keras.utils import to_categorical\n",
    "\n",
    "train_labels = to_categorical(train_labels)\n",
    "test_labels = to_categorical(test_labels)"
   ]
  },
  {
   "cell_type": "markdown",
   "metadata": {
    "colab_type": "text",
    "id": "t9DOvj6wh7Qd"
   },
   "source": [
    "Our workflow will be as follow: first we will present our neural network with the training data, `train_images` and `train_labels`. The \n",
    "network will then learn to associate images and labels. Finally, we will ask the network to produce predictions for `test_images`, and we \n",
    "will verify if these predictions match the labels from `test_labels`.\n",
    "\n",
    "Let's build our network -- again, remember that you aren't supposed to understand everything about this example just yet."
   ]
  },
  {
   "cell_type": "markdown",
   "metadata": {
    "colab_type": "text",
    "id": "1T6GoQVjh7Qf"
   },
   "source": [
    "### Model"
   ]
  },
  {
   "cell_type": "code",
   "execution_count": 0,
   "metadata": {
    "colab": {},
    "colab_type": "code",
    "id": "iJswxjLFh7Qi"
   },
   "outputs": [],
   "source": [
    "from keras import models\n",
    "from keras import layers\n",
    "\n",
    "network = models.Sequential()\n",
    "network.add(layers.Dense(512, activation='relu', input_shape=(28 * 28,)))\n",
    "network.add(layers.Dense(10, activation='softmax'))"
   ]
  },
  {
   "cell_type": "markdown",
   "metadata": {
    "colab_type": "text",
    "id": "bdzFWF4eh7Qs"
   },
   "source": [
    "\n",
    "The core building block of neural networks is the \"layer\", a data-processing module which you can conceive as a \"filter\" for data. Some \n",
    "data comes in, and comes out in a more useful form. Precisely, layers extract _representations_ out of the data fed into them -- hopefully \n",
    "representations that are more meaningful for the problem at hand. Most of deep learning really consists of chaining together simple layers \n",
    "which will implement a form of progressive \"data distillation\". A deep learning model is like a sieve for data processing, made of a \n",
    "succession of increasingly refined data filters -- the \"layers\".\n",
    "\n",
    "Here our network consists of a sequence of two `Dense` layers, which are densely-connected (also called \"fully-connected\") neural layers. \n",
    "The second (and last) layer is a 10-way \"softmax\" layer, which means it will return an array of 10 probability scores (summing to 1). Each \n",
    "score will be the probability that the current digit image belongs to one of our 10 digit classes.\n",
    "\n",
    "### Compilation: loss + optimizer\n",
    "\n",
    "To make our network ready for training, we need to pick three more things, as part of \"compilation\" step:\n",
    "\n",
    "* A loss function: the is how the network will be able to measure how good a job it is doing on its training data, and thus how it will be \n",
    "able to steer itself in the right direction.\n",
    "* An optimizer: this is the mechanism through which the network will update itself based on the data it sees and its loss function.\n",
    "* Metrics to monitor during training and testing. Here we will only care about accuracy (the fraction of the images that were correctly \n",
    "classified).\n",
    "\n",
    "The exact purpose of the loss function and the optimizer will be made clear throughout the next two chapters."
   ]
  },
  {
   "cell_type": "code",
   "execution_count": 0,
   "metadata": {
    "colab": {},
    "colab_type": "code",
    "id": "-cfRLMyxh7Qv"
   },
   "outputs": [],
   "source": [
    "network.compile(optimizer='rmsprop',\n",
    "                loss='categorical_crossentropy',\n",
    "                metrics=['accuracy'])"
   ]
  },
  {
   "cell_type": "markdown",
   "metadata": {
    "colab_type": "text",
    "id": "5gxG_b9Gh7RD"
   },
   "source": [
    "### Learning"
   ]
  },
  {
   "cell_type": "markdown",
   "metadata": {
    "colab_type": "text",
    "id": "ApnI_EVFh7RJ"
   },
   "source": [
    "We are now ready to train our network, which in Keras is done via a call to the `fit` method of the network: \n",
    "we \"fit\" the model to its training data."
   ]
  },
  {
   "cell_type": "code",
   "execution_count": 60,
   "metadata": {
    "colab": {
     "base_uri": "https://localhost:8080/",
     "height": 210
    },
    "colab_type": "code",
    "executionInfo": {
     "elapsed": 27405,
     "status": "ok",
     "timestamp": 1550481294230,
     "user": {
      "displayName": "Ahmad El Sallab",
      "photoUrl": "",
      "userId": "06251939449358079201"
     },
     "user_tz": -120
    },
    "id": "3A0LkzQnh7RL",
    "outputId": "3f925653-aba2-4e46-9db0-f55c4a3d1374"
   },
   "outputs": [
    {
     "name": "stdout",
     "output_type": "stream",
     "text": [
      "Epoch 1/5\n",
      "60000/60000 [==============================] - 5s 85us/step - loss: 0.2568 - acc: 0.9253\n",
      "Epoch 2/5\n",
      "60000/60000 [==============================] - 5s 83us/step - loss: 0.1040 - acc: 0.9693\n",
      "Epoch 3/5\n",
      "60000/60000 [==============================] - 5s 83us/step - loss: 0.0679 - acc: 0.9790\n",
      "Epoch 4/5\n",
      "60000/60000 [==============================] - 5s 84us/step - loss: 0.0500 - acc: 0.9848\n",
      "Epoch 5/5\n",
      "60000/60000 [==============================] - 5s 83us/step - loss: 0.0376 - acc: 0.9887\n"
     ]
    },
    {
     "data": {
      "text/plain": [
       "<keras.callbacks.History at 0x7fa53f531f28>"
      ]
     },
     "execution_count": 60,
     "metadata": {
      "tags": []
     },
     "output_type": "execute_result"
    }
   ],
   "source": [
    "network.fit(train_images, train_labels, epochs=5, batch_size=128)"
   ]
  },
  {
   "cell_type": "markdown",
   "metadata": {
    "colab_type": "text",
    "id": "m4zRGeKgh7RT"
   },
   "source": [
    "Two quantities are being displayed during training: the \"loss\" of the network over the training data, and the accuracy of the network over \n",
    "the training data.\n",
    "\n",
    "We quickly reach an accuracy of 0.989 (i.e. 98.9%) on the training data. Now let's check that our model performs well on the test set too:"
   ]
  },
  {
   "cell_type": "code",
   "execution_count": 61,
   "metadata": {
    "colab": {
     "base_uri": "https://localhost:8080/",
     "height": 34
    },
    "colab_type": "code",
    "executionInfo": {
     "elapsed": 28134,
     "status": "ok",
     "timestamp": 1550481294975,
     "user": {
      "displayName": "Ahmad El Sallab",
      "photoUrl": "",
      "userId": "06251939449358079201"
     },
     "user_tz": -120
    },
    "id": "3rRATWsLh7RV",
    "outputId": "dd88a560-6c1b-4b9d-bfd6-4b3fdb16cb04"
   },
   "outputs": [
    {
     "name": "stdout",
     "output_type": "stream",
     "text": [
      "10000/10000 [==============================] - 1s 56us/step\n"
     ]
    }
   ],
   "source": [
    "test_loss, test_acc = network.evaluate(test_images, test_labels)"
   ]
  },
  {
   "cell_type": "code",
   "execution_count": 62,
   "metadata": {
    "colab": {
     "base_uri": "https://localhost:8080/",
     "height": 34
    },
    "colab_type": "code",
    "executionInfo": {
     "elapsed": 28122,
     "status": "ok",
     "timestamp": 1550481294978,
     "user": {
      "displayName": "Ahmad El Sallab",
      "photoUrl": "",
      "userId": "06251939449358079201"
     },
     "user_tz": -120
    },
    "id": "9YBsyCJ7h7Rc",
    "outputId": "89a426d6-9b5d-43d0-fb20-3bedaee38528"
   },
   "outputs": [
    {
     "name": "stdout",
     "output_type": "stream",
     "text": [
      "test_acc: 0.9772\n"
     ]
    }
   ],
   "source": [
    "print('test_acc:', test_acc)"
   ]
  },
  {
   "cell_type": "markdown",
   "metadata": {
    "colab_type": "text",
    "id": "iyo3d2oUh7Rk"
   },
   "source": [
    "\n",
    "Our test set accuracy turns out to be 97.8% -- that's quite a bit lower than the training set accuracy. \n",
    "This gap between training accuracy and test accuracy is an example of \"overfitting\", \n",
    "the fact that machine learning models tend to perform worse on new data than on their training data. \n",
    "Overfitting will be a central topic in chapter 3.\n",
    "\n",
    "This concludes our very first example -- you just saw how we could build and a train a neural network to classify handwritten digits, in \n",
    "less than 20 lines of Python code. In the next chapter, we will go in detail over every moving piece we just previewed, and clarify what is really \n",
    "going on behind the scenes. You will learn about \"tensors\", the data-storing objects going into the network, about tensor operations, which \n",
    "layers are made of, and about gradient descent, which allows our network to learn from its training examples."
   ]
  },
  {
   "cell_type": "markdown",
   "metadata": {
    "colab_type": "text",
    "id": "C7NqC4Ash7Rm"
   },
   "source": [
    "# 2.2 Data representations for neural networks\n",
    "In the previous example, we started from data stored in multidimensional Numpy\n",
    "arrays, also called tensors. In general, all current machine-learning systems use tensors\n",
    "as their basic data structure.\n",
    "## What is a tensor?\n",
    "At its core, a tensor is a container for data—almost always numerical data. So, it’s a\n",
    "container for numbers. You may be already familiar with matrices, which are 2D tensors:\n",
    "tensors are a generalization of matrices to an arbitrary number of dimensions\n",
    "(note that in the context of tensors, a dimension is often called an axis).\n",
    "\n",
    "## Tensor dimension vs. rank\n",
    "Dimension = number of entries in an axis\n",
    "Rank = number of dimensions/axes\n",
    "\n"
   ]
  },
  {
   "cell_type": "markdown",
   "metadata": {
    "colab_type": "text",
    "id": "DJ0MXWXGh7Ro"
   },
   "source": [
    "## Key attributes of tensors:\n",
    "- Rank (.ndim)\n",
    "- Shape (.shape)\n",
    "- Data type (.dtype)"
   ]
  },
  {
   "cell_type": "markdown",
   "metadata": {
    "colab_type": "text",
    "id": "Ej_u9gMYh7Rr"
   },
   "source": [
    "## Scalar (0D tensor)"
   ]
  },
  {
   "cell_type": "code",
   "execution_count": 63,
   "metadata": {
    "colab": {
     "base_uri": "https://localhost:8080/",
     "height": 70
    },
    "colab_type": "code",
    "executionInfo": {
     "elapsed": 28095,
     "status": "ok",
     "timestamp": 1550481294979,
     "user": {
      "displayName": "Ahmad El Sallab",
      "photoUrl": "",
      "userId": "06251939449358079201"
     },
     "user_tz": -120
    },
    "id": "bxQXXJlCh7Rs",
    "outputId": "28e17b36-55ed-4297-9bf9-a19eb3df7018"
   },
   "outputs": [
    {
     "name": "stdout",
     "output_type": "stream",
     "text": [
      "0\n",
      "()\n",
      "int64\n"
     ]
    }
   ],
   "source": [
    "import numpy as np\n",
    "x = np.array(12)\n",
    "print(x.ndim)\n",
    "print(x.shape)\n",
    "print(x.dtype)"
   ]
  },
  {
   "cell_type": "markdown",
   "metadata": {
    "colab_type": "text",
    "id": "QDMpP_wMh7R0"
   },
   "source": [
    "\n",
    "## Vector (1D tensor)\n"
   ]
  },
  {
   "cell_type": "code",
   "execution_count": 64,
   "metadata": {
    "colab": {
     "base_uri": "https://localhost:8080/",
     "height": 70
    },
    "colab_type": "code",
    "executionInfo": {
     "elapsed": 28075,
     "status": "ok",
     "timestamp": 1550481294980,
     "user": {
      "displayName": "Ahmad El Sallab",
      "photoUrl": "",
      "userId": "06251939449358079201"
     },
     "user_tz": -120
    },
    "id": "dsLWZOxWh7R1",
    "outputId": "f5931f89-8647-407c-a87a-8b0bbddbc805"
   },
   "outputs": [
    {
     "name": "stdout",
     "output_type": "stream",
     "text": [
      "1\n",
      "(4,)\n",
      "int64\n"
     ]
    }
   ],
   "source": [
    "x = np.array([12, 3, 6, 14])\n",
    "print(x.ndim)\n",
    "print(x.shape)\n",
    "print(x.dtype)"
   ]
  },
  {
   "cell_type": "markdown",
   "metadata": {
    "colab_type": "text",
    "id": "MgLTP_C6h7R8"
   },
   "source": [
    "## Matrix (2D tensor)\n"
   ]
  },
  {
   "cell_type": "code",
   "execution_count": 65,
   "metadata": {
    "colab": {
     "base_uri": "https://localhost:8080/",
     "height": 70
    },
    "colab_type": "code",
    "executionInfo": {
     "elapsed": 28054,
     "status": "ok",
     "timestamp": 1550481294980,
     "user": {
      "displayName": "Ahmad El Sallab",
      "photoUrl": "",
      "userId": "06251939449358079201"
     },
     "user_tz": -120
    },
    "id": "tlRkgcrjh7R-",
    "outputId": "2f8ffe5f-f2d1-4c09-d9a2-c9b98c898cb2"
   },
   "outputs": [
    {
     "name": "stdout",
     "output_type": "stream",
     "text": [
      "2\n",
      "(3, 5)\n",
      "int64\n"
     ]
    }
   ],
   "source": [
    "x = np.array([[5, 78, 2, 34, 0], [6, 79, 3, 35, 1], [7, 80, 4, 36, 2]])\n",
    "print(x.ndim)\n",
    "print(x.shape)\n",
    "print(x.dtype)"
   ]
  },
  {
   "cell_type": "markdown",
   "metadata": {
    "colab_type": "text",
    "id": "VjOiJ8LYh7SD"
   },
   "source": [
    "### 3D tensors and higher-dimensional tensors"
   ]
  },
  {
   "cell_type": "code",
   "execution_count": 66,
   "metadata": {
    "colab": {
     "base_uri": "https://localhost:8080/",
     "height": 263
    },
    "colab_type": "code",
    "executionInfo": {
     "elapsed": 28036,
     "status": "ok",
     "timestamp": 1550481294980,
     "user": {
      "displayName": "Ahmad El Sallab",
      "photoUrl": "",
      "userId": "06251939449358079201"
     },
     "user_tz": -120
    },
    "id": "_NCiQSamh7SE",
    "outputId": "c6092ec3-613d-43f2-cd82-59f9326cc0b0"
   },
   "outputs": [
    {
     "name": "stdout",
     "output_type": "stream",
     "text": [
      "[[[ 5 78  2 34  0]\n",
      "  [ 6 79  3 35  1]\n",
      "  [ 7 80  4 36  2]]\n",
      "\n",
      " [[ 5 78  2 34  0]\n",
      "  [ 6 79  3 35  1]\n",
      "  [ 7 80  4 36  2]]\n",
      "\n",
      " [[ 5 78  2 34  0]\n",
      "  [ 6 79  3 35  1]\n",
      "  [ 7 80  4 36  2]]]\n",
      "3\n",
      "(3, 3, 5)\n",
      "int64\n"
     ]
    }
   ],
   "source": [
    "x = np.array([[[5, 78, 2, 34, 0],\n",
    "[6, 79, 3, 35, 1],\n",
    "[7, 80, 4, 36, 2]],\n",
    "[[5, 78, 2, 34, 0],\n",
    "[6, 79, 3, 35, 1],\n",
    "[7, 80, 4, 36, 2]],\n",
    "[[5, 78, 2, 34, 0],\n",
    "[6, 79, 3, 35, 1],\n",
    "[7, 80, 4, 36, 2]]])\n",
    "\n",
    "print(x)\n",
    "print(x.ndim)\n",
    "print(x.shape)\n",
    "print(x.dtype)"
   ]
  },
  {
   "cell_type": "markdown",
   "metadata": {
    "colab_type": "text",
    "id": "R9WR7Yb2h7SL"
   },
   "source": [
    "### Back to MNIST"
   ]
  },
  {
   "cell_type": "code",
   "execution_count": 0,
   "metadata": {
    "colab": {},
    "colab_type": "code",
    "id": "e1j6yQWnh7SM"
   },
   "outputs": [],
   "source": [
    "from keras.datasets import mnist\n",
    "(train_images, train_labels), (test_images, test_labels) = mnist.load_data()\n"
   ]
  },
  {
   "cell_type": "code",
   "execution_count": 68,
   "metadata": {
    "colab": {
     "base_uri": "https://localhost:8080/",
     "height": 34
    },
    "colab_type": "code",
    "executionInfo": {
     "elapsed": 28311,
     "status": "ok",
     "timestamp": 1550481295284,
     "user": {
      "displayName": "Ahmad El Sallab",
      "photoUrl": "",
      "userId": "06251939449358079201"
     },
     "user_tz": -120
    },
    "id": "OJxa14JBh7SR",
    "outputId": "286cab77-33d0-4456-edf7-670aeecb7111"
   },
   "outputs": [
    {
     "name": "stdout",
     "output_type": "stream",
     "text": [
      "3\n"
     ]
    }
   ],
   "source": [
    "print(train_images.ndim)"
   ]
  },
  {
   "cell_type": "code",
   "execution_count": 69,
   "metadata": {
    "colab": {
     "base_uri": "https://localhost:8080/",
     "height": 34
    },
    "colab_type": "code",
    "executionInfo": {
     "elapsed": 28294,
     "status": "ok",
     "timestamp": 1550481295285,
     "user": {
      "displayName": "Ahmad El Sallab",
      "photoUrl": "",
      "userId": "06251939449358079201"
     },
     "user_tz": -120
    },
    "id": "OXgzP6HHh7SZ",
    "outputId": "d7f4a214-5916-4594-e342-47f01d181ea1"
   },
   "outputs": [
    {
     "name": "stdout",
     "output_type": "stream",
     "text": [
      "(60000, 28, 28)\n"
     ]
    }
   ],
   "source": [
    "print(train_images.shape)"
   ]
  },
  {
   "cell_type": "code",
   "execution_count": 70,
   "metadata": {
    "colab": {
     "base_uri": "https://localhost:8080/",
     "height": 34
    },
    "colab_type": "code",
    "executionInfo": {
     "elapsed": 28278,
     "status": "ok",
     "timestamp": 1550481295286,
     "user": {
      "displayName": "Ahmad El Sallab",
      "photoUrl": "",
      "userId": "06251939449358079201"
     },
     "user_tz": -120
    },
    "id": "ws4NdSAph7Sd",
    "outputId": "24e55efa-765b-4c78-c238-6c0cee421cb1"
   },
   "outputs": [
    {
     "name": "stdout",
     "output_type": "stream",
     "text": [
      "uint8\n"
     ]
    }
   ],
   "source": [
    "print(train_images.dtype)"
   ]
  },
  {
   "cell_type": "markdown",
   "metadata": {
    "colab_type": "text",
    "id": "4yLg6Qtyh7Sl"
   },
   "source": [
    "So what we have here is a 3D tensor of 8-bit integers. More precisely, it’s an array of\n",
    "60,000 matrices of 28 × 8 integers. Each such matrix is a grayscale image, with coefficients\n",
    "between 0 and 255."
   ]
  },
  {
   "cell_type": "markdown",
   "metadata": {
    "colab_type": "text",
    "id": "aubP76t-h7Sm"
   },
   "source": [
    "Let’s display the fourth digit in this 3D tensor, using the library Matplotlib\n"
   ]
  },
  {
   "cell_type": "code",
   "execution_count": 71,
   "metadata": {
    "colab": {
     "base_uri": "https://localhost:8080/",
     "height": 265
    },
    "colab_type": "code",
    "executionInfo": {
     "elapsed": 28670,
     "status": "ok",
     "timestamp": 1550481295698,
     "user": {
      "displayName": "Ahmad El Sallab",
      "photoUrl": "",
      "userId": "06251939449358079201"
     },
     "user_tz": -120
    },
    "id": "FHEpEuOzh7So",
    "outputId": "a347e2cf-5007-4a11-fd77-06e52ac817ac"
   },
   "outputs": [
    {
     "data": {
      "image/png": "[encoded data removed]",
      "text/plain": [
       "<Figure size 432x288 with 1 Axes>"
      ]
     },
     "metadata": {
      "tags": []
     },
     "output_type": "display_data"
    }
   ],
   "source": [
    "digit = train_images[4]\n",
    "\n",
    "import matplotlib.pyplot as plt\n",
    "%matplotlib inline\n",
    "\n",
    "plt.imshow(digit, cmap=plt.cm.binary)\n",
    "plt.show()"
   ]
  },
  {
   "cell_type": "markdown",
   "metadata": {
    "colab_type": "text",
    "id": "k3cWi6u5h7Su"
   },
   "source": [
    "### Tensors slicing\n",
    "The following example selects digits #10 to #100 (#100 isn’t included) and puts\n",
    "them in an array of shape (90, 28, 28):"
   ]
  },
  {
   "cell_type": "code",
   "execution_count": 72,
   "metadata": {
    "colab": {
     "base_uri": "https://localhost:8080/",
     "height": 34
    },
    "colab_type": "code",
    "executionInfo": {
     "elapsed": 28650,
     "status": "ok",
     "timestamp": 1550481295699,
     "user": {
      "displayName": "Ahmad El Sallab",
      "photoUrl": "",
      "userId": "06251939449358079201"
     },
     "user_tz": -120
    },
    "id": "bKtqWO1dh7Sv",
    "outputId": "c25c07bd-d500-4d9b-d07a-9360c4901919"
   },
   "outputs": [
    {
     "name": "stdout",
     "output_type": "stream",
     "text": [
      "(90, 28, 28)\n"
     ]
    }
   ],
   "source": [
    "my_slice = train_images[10:100]\n",
    "print(my_slice.shape)"
   ]
  },
  {
   "cell_type": "markdown",
   "metadata": {
    "colab_type": "text",
    "id": "7Fa67AR6h7Sz"
   },
   "source": [
    "It’s equivalent to this more detailed notation, which specifies a start index and stop\n",
    "index for the slice along each tensor axis. Note that : is equivalent to selecting the\n",
    "entire axis:"
   ]
  },
  {
   "cell_type": "code",
   "execution_count": 73,
   "metadata": {
    "colab": {
     "base_uri": "https://localhost:8080/",
     "height": 34
    },
    "colab_type": "code",
    "executionInfo": {
     "elapsed": 28637,
     "status": "ok",
     "timestamp": 1550481295700,
     "user": {
      "displayName": "Ahmad El Sallab",
      "photoUrl": "",
      "userId": "06251939449358079201"
     },
     "user_tz": -120
    },
    "id": "Hy2YALtPh7S0",
    "outputId": "9476ce5f-210c-437e-a5ca-ee0043166d18"
   },
   "outputs": [
    {
     "name": "stdout",
     "output_type": "stream",
     "text": [
      "(90, 28, 28)\n"
     ]
    }
   ],
   "source": [
    "my_slice = train_images[10:100, :, :]\n",
    "print(my_slice.shape)"
   ]
  },
  {
   "cell_type": "markdown",
   "metadata": {
    "colab_type": "text",
    "id": "a31sn4jWh7S4"
   },
   "source": [
    "In general, you may select between any two indices along each tensor axis. For\n",
    "instance, in order to select 14 × 14 pixels in the bottom-right corner of all images, you\n",
    "do this:"
   ]
  },
  {
   "cell_type": "code",
   "execution_count": 0,
   "metadata": {
    "colab": {},
    "colab_type": "code",
    "id": "ceNg0Chph7S6"
   },
   "outputs": [],
   "source": [
    "my_slice = train_images[:, 14:, 14:]"
   ]
  },
  {
   "cell_type": "markdown",
   "metadata": {
    "colab_type": "text",
    "id": "LdyQCdbIh7S9"
   },
   "source": [
    "It’s also possible to use negative indices. Much like negative indices in Python lists,\n",
    "they indicate a position relative to the end of the current axis. In order to crop the\n",
    "images to patches of 14 × 14 pixels centered in the middle, you do this:"
   ]
  },
  {
   "cell_type": "code",
   "execution_count": 0,
   "metadata": {
    "colab": {},
    "colab_type": "code",
    "id": "pYaX9o_Zh7S-"
   },
   "outputs": [],
   "source": [
    "my_slice = train_images[:, 7:-7, 7:-7]"
   ]
  },
  {
   "cell_type": "markdown",
   "metadata": {
    "colab_type": "text",
    "id": "AJPLayvRh7TB"
   },
   "source": [
    "## Batches and tensor notations in Keras/TensorFlow"
   ]
  },
  {
   "cell_type": "markdown",
   "metadata": {
    "colab_type": "text",
    "id": "mscNqL8dh7TD"
   },
   "source": [
    "### Dimension 0 = samples axis\n",
    "In general, the first axis (axis 0, because indexing starts at 0) in all data tensors you’ll\n",
    "come across in deep learning will be the samples axis (sometimes called the samples\n",
    "dimension). In the MNIST example, samples are images of digits."
   ]
  },
  {
   "cell_type": "markdown",
   "metadata": {
    "colab_type": "text",
    "id": "9WS5M97jh7TD"
   },
   "source": [
    "### Batches \n",
    "In addition, deep-learning models don’t process an entire dataset at once; rather,\n",
    "they break the data into small batches. \n",
    "\n",
    "When considering such a batch tensor, the first axis (axis 0) is called the batch axis or\n",
    "batch dimension. This is a term you’ll frequently encounter when using Keras and other\n",
    "deep-learning libraries.\n",
    "\n",
    "Concretely, here’s one batch of our MNIST digits,\n",
    "with batch size of 128:"
   ]
  },
  {
   "cell_type": "code",
   "execution_count": 0,
   "metadata": {
    "colab": {},
    "colab_type": "code",
    "id": "adq7rvrGh7TE"
   },
   "outputs": [],
   "source": [
    "batch = train_images[:128]"
   ]
  },
  {
   "cell_type": "markdown",
   "metadata": {
    "colab_type": "text",
    "id": "FOXDSOdMh7TI"
   },
   "source": [
    "And here’s the next batch:"
   ]
  },
  {
   "cell_type": "code",
   "execution_count": 0,
   "metadata": {
    "colab": {},
    "colab_type": "code",
    "id": "H2h05436h7TJ"
   },
   "outputs": [],
   "source": [
    "batch = train_images[128:256]"
   ]
  },
  {
   "cell_type": "markdown",
   "metadata": {
    "colab_type": "text",
    "id": "re41Zjkmh7TN"
   },
   "source": [
    "And the nth batch:"
   ]
  },
  {
   "cell_type": "code",
   "execution_count": 78,
   "metadata": {
    "colab": {
     "base_uri": "https://localhost:8080/",
     "height": 167
    },
    "colab_type": "code",
    "executionInfo": {
     "elapsed": 28949,
     "status": "error",
     "timestamp": 1550481296087,
     "user": {
      "displayName": "Ahmad El Sallab",
      "photoUrl": "",
      "userId": "06251939449358079201"
     },
     "user_tz": -120
    },
    "id": "AehA0Ereh7TP",
    "outputId": "1074e589-1956-476f-a7c3-bde2190737a7"
   },
   "outputs": [
    {
     "ename": "NameError",
     "evalue": "ignored",
     "output_type": "error",
     "traceback": [
      "\u001b[0;31m---------------------------------------------------------------------------\u001b[0m",
      "\u001b[0;31mNameError\u001b[0m                                 Traceback (most recent call last)",
      "\u001b[0;32m<ipython-input-78-cdcf338a2038>\u001b[0m in \u001b[0;36m<module>\u001b[0;34m()\u001b[0m\n\u001b[0;32m----> 1\u001b[0;31m \u001b[0mbatch\u001b[0m \u001b[0;34m=\u001b[0m \u001b[0mtrain_images\u001b[0m\u001b[0;34m[\u001b[0m\u001b[0;36m128\u001b[0m \u001b[0;34m*\u001b[0m \u001b[0mn\u001b[0m\u001b[0;34m:\u001b[0m\u001b[0;36m128\u001b[0m \u001b[0;34m*\u001b[0m \u001b[0;34m(\u001b[0m\u001b[0mn\u001b[0m \u001b[0;34m+\u001b[0m \u001b[0;36m1\u001b[0m\u001b[0;34m)\u001b[0m\u001b[0;34m]\u001b[0m\u001b[0;34m\u001b[0m\u001b[0;34m\u001b[0m\u001b[0m\n\u001b[0m",
      "\u001b[0;31mNameError\u001b[0m: name 'n' is not defined"
     ]
    }
   ],
   "source": [
    "batch = train_images[128 * n:128 * (n + 1)]\n"
   ]
  },
  {
   "cell_type": "markdown",
   "metadata": {
    "colab_type": "text",
    "id": "21szrcN4h7TU"
   },
   "source": [
    "## Real-world examples of data tensors"
   ]
  },
  {
   "cell_type": "markdown",
   "metadata": {
    "colab_type": "text",
    "id": "P_vA0_Nih7TW"
   },
   "source": [
    "### Vector Data\n",
    "\n",
    "2D tensors of shape (samples, features)\n",
    "samples could be the batch (size=batch_size)\n",
    "\n",
    "\n",
    "Previously we called this Matrix (2D), which is still true.\n",
    "But remember, we talk here about each entry of data, where each row is a vector.\n",
    "We have array of Vector data, so it's a Matrix, each row is Vector data.\n",
    "\n",
    "This is the most common case. In such a dataset, each single data point can be encoded\n",
    "as a vector, and thus a batch of data will be encoded as a 2D tensor (that is, an array of\n",
    "vectors), where the first axis is the samples axis and the second axis is the features axis.\n",
    "Let’s take a look at two examples:\n",
    "\n",
    "-  A dataset of people, where we consider each person’s age, ZIP code,\n",
    "and income. Each person can be characterized as a vector of 3 values, and thus\n",
    "an entire dataset of 100,000 people can be stored in a 2D tensor of shape\n",
    "(100000, 3).\n",
    "-  A dataset of text documents, where we represent each document by the counts\n",
    "of how many times each word appears in it (out of a dictionary of 20,000 common\n",
    "words). Each document can be encoded as a vector of 20,000 values (one\n",
    "count per word in the dictionary), and thus an entire dataset of 500 documents\n",
    "can be stored in a tensor of shape (500, 20000)."
   ]
  },
  {
   "cell_type": "markdown",
   "metadata": {
    "colab_type": "text",
    "id": "Owby39LPh7TW"
   },
   "source": [
    "### Timeseries data or sequence data\n",
    "3D tensors of shape (samples, timesteps,\n",
    "features)\n",
    "samples could be the batch (size=batch_size)\n",
    "\n",
    "Whenever time matters in your data (or the notion of sequence order), it makes sense\n",
    "to store it in a 3D tensor with an explicit time axis. Each sample can be encoded as a\n",
    "sequence of vectors (a 2D tensor), and thus a batch of data will be encoded as a 3D\n",
    "tensor"
   ]
  },
  {
   "cell_type": "markdown",
   "metadata": {
    "colab_type": "text",
    "id": "mnTsG7Jfh7TY"
   },
   "source": [
    "![02_3D tensors.png](https://github.com/ahmadelsallab/practical_dl/blob/master/Keras/notebooks/imgs/02_3D%20tensors.png?raw=true)"
   ]
  },
  {
   "cell_type": "markdown",
   "metadata": {
    "colab_type": "text",
    "id": "60j51U0Lh7TZ"
   },
   "source": [
    "# The time axis is always the second axis (axis of index 1), by convention.\n",
    "\n",
    "Let’s look at a\n",
    "few examples:\n",
    "-  A dataset of stock prices. Every minute, we store the current price of the stock,\n",
    "the highest price in the past minute, and the lowest price in the past minute.\n",
    "Thus every minute is encoded as a 3D vector, an entire day of trading is\n",
    "encoded as a 2D tensor of shape (390, 3) (there are 390 minutes in a trading\n",
    "day), and 250 days’ worth of data can be stored in a 3D tensor of shape (250,\n",
    "390, 3). Here, each sample would be one day’s worth of data.\n",
    "- A dataset of tweets, where we encode each tweet as a sequence of 280 characters\n",
    "out of an alphabet of 128 unique characters. In this setting, each character can\n",
    "be encoded as a binary vector of size 128 (an all-zeros vector except for a 1 entry\n",
    "at the index corresponding to the character). Then each tweet can be encoded\n",
    "as a 2D tensor of shape (280, 128), and a dataset of 1 million tweets can be\n",
    "stored in a tensor of shape (1000000, 280, 128)."
   ]
  },
  {
   "cell_type": "markdown",
   "metadata": {
    "colab_type": "text",
    "id": "MkOqA2g1h7Tb"
   },
   "source": [
    "### Image data\n",
    "4D tensors of shape (samples, height, width, channels) or (samples,\n",
    "channels, height, width)\n",
    "samples could be the batch (size=batch_size)\n",
    "\n",
    "Images typically have three dimensions: height, width, and color depth. Although\n",
    "grayscale images (like our MNIST digits) have only a single color channel and could\n",
    "thus be stored in 2D tensors, by convention image tensors are always 3D, with a onedimensional\n",
    "color channel for grayscale images. A batch of 128 grayscale images of\n",
    "size 256 × 256 could thus be stored in a tensor of shape (128, 256, 256, 1), and a\n",
    "batch of 128 color images could be stored in a tensor of shape (128, 256, 256, 3)"
   ]
  },
  {
   "cell_type": "markdown",
   "metadata": {
    "colab_type": "text",
    "id": "--m1f4cRh7Te"
   },
   "source": [
    "![02_4D tensors.png](https://github.com/ahmadelsallab/practical_dl/blob/master/Keras/notebooks/imgs/02_4D%20tensors.png?raw=true)"
   ]
  },
  {
   "cell_type": "markdown",
   "metadata": {
    "colab_type": "text",
    "id": "u_SizOWnh7Th"
   },
   "source": [
    "There are two conventions for shapes of images tensors: the channels-last convention\n",
    "(used by TensorFlow) and the channels-first convention (used by Theano). The Tensor-\n",
    "Flow machine-learning framework, from Google, places the color-depth axis at the\n",
    "end: (samples, height, width, color_depth). Meanwhile, Theano places the color\n",
    "depth axis right after the batch axis: (samples, color_depth, height, width). With the Theano convention, the previous examples would become (128, 1, 256, 256)\n",
    "and (128, 3, 256, 256). The Keras framework provides support for both formats."
   ]
  },
  {
   "cell_type": "markdown",
   "metadata": {
    "colab_type": "text",
    "id": "77ivf6cZh7Ti"
   },
   "source": [
    "### Video data\n",
    "5D tensors of shape (samples, frames, height, width, channels) or\n",
    "(samples, frames, channels, height, width)\n",
    "samples could be the batch (size=batch_size)\n",
    "\n",
    "Video data is one of the few types of real-world data for which you’ll need 5D tensors.\n",
    "A video can be understood as a sequence of frames, each frame being a color image.\n",
    "Because each frame can be stored in a 3D tensor (height, width, color_depth), a\n",
    "sequence of frames can be stored in a 4D tensor (frames, height, width, color_\n",
    "depth), and thus a batch of different videos can be stored in a 5D tensor of shape\n",
    "(samples, frames, height, width, color_depth)."
   ]
  },
  {
   "cell_type": "markdown",
   "metadata": {
    "colab_type": "text",
    "id": "FeTiF6-3h7Tk"
   },
   "source": [
    "For instance, a 60-second, 144 × 256 YouTube video clip sampled at 4 frames per\n",
    "second would have 240 frames. A batch of four such video clips would be stored in a\n",
    "tensor of shape (4, 240, 144, 256, 3). That’s a total of 106,168,320 values! If the\n",
    "dtype of the tensor was float32, then each value would be stored in 32 bits, so the\n",
    "tensor would represent 405 MB. Heavy! Videos you encounter in real life are much\n",
    "lighter, because they aren’t stored in float32, and they’re typically compressed by a\n",
    "large factor (such as in the MPEG format)."
   ]
  },
  {
   "cell_type": "markdown",
   "metadata": {
    "colab_type": "text",
    "id": "1D4ZF_yCh7Tl"
   },
   "source": [
    "## Tensors operations\n",
    "Neural networks perform transformations to input data.\n",
    "all transformations learned\n",
    "by deep neural networks can be reduced to a handful of tensor operations applied to\n",
    "tensors of numeric data. For instance, it’s possible to add tensors, multiply tensors,\n",
    "and so on.\n",
    "\n",
    "### A transformation is a Layer:\n",
    "In our initial example, we were building our network by stacking Dense layers on\n",
    "top of each other. A Keras layer instance looks like this:"
   ]
  },
  {
   "cell_type": "code",
   "execution_count": 0,
   "metadata": {
    "colab": {},
    "colab_type": "code",
    "id": "0W0SujJCh7Tm"
   },
   "outputs": [],
   "source": [
    "from keras.layers import Dense\n",
    "fully_connected_layer = Dense(512, activation='relu')\n"
   ]
  },
  {
   "cell_type": "markdown",
   "metadata": {
    "colab_type": "text",
    "id": "BDHnfjnrh7Ts"
   },
   "source": [
    "This layer can be interpreted as a function, which takes as input a 2D tensor and\n",
    "returns another 2D tensor—a new representation for the input tensor. Specifically, the\n",
    "function is as follows (where W is a 2D tensor and b is a vector, both attributes of the\n",
    "layer):"
   ]
  },
  {
   "cell_type": "markdown",
   "metadata": {
    "colab_type": "text",
    "id": "pmST1nED4ObS"
   },
   "source": [
    "```\n",
    "output = relu(dot(W, input) + b)\n",
    "```"
   ]
  },
  {
   "cell_type": "markdown",
   "metadata": {
    "colab_type": "text",
    "id": "NyM-rh7_h7Ty"
   },
   "source": [
    "Let’s unpack this. We have three tensor operations here: a dot product (dot) between\n",
    "the input tensor and a tensor named W; an addition (+) between the resulting 2D tensor\n",
    "and a vector b; and, finally, a relu operation. relu(x) is max(x, 0)."
   ]
  },
  {
   "cell_type": "markdown",
   "metadata": {
    "colab_type": "text",
    "id": "kZq4sPA-h7T0"
   },
   "source": [
    "### Element-wise operations\n",
    "The relu operation and addition are element-wise operations: operations that are\n",
    "applied independently to each entry in the tensors being considered."
   ]
  },
  {
   "cell_type": "code",
   "execution_count": 0,
   "metadata": {
    "colab": {},
    "colab_type": "code",
    "id": "FoCqt3tXh7T2"
   },
   "outputs": [],
   "source": [
    "def naive_relu(x):\n",
    "    assert len(x.shape) == 2\n",
    "    x = x.copy()\n",
    "    for i in range(x.shape[0]):\n",
    "        for j in range(x.shape[1]):\n",
    "            x[i, j] = max(x[i, j], 0)\n",
    "    return x"
   ]
  },
  {
   "cell_type": "code",
   "execution_count": 0,
   "metadata": {
    "colab": {},
    "colab_type": "code",
    "id": "aE7_5GOZh7T6"
   },
   "outputs": [],
   "source": [
    "def naive_add(x, y):\n",
    "    assert len(x.shape) == 2\n",
    "    assert x.shape == y.shape\n",
    "    x = x.copy()\n",
    "    for i in range(x.shape[0]):\n",
    "        for j in range(x.shape[1]):\n",
    "            x[i, j] += y[i, j]\n",
    "    return x"
   ]
  },
  {
   "cell_type": "markdown",
   "metadata": {
    "colab_type": "text",
    "id": "vvFOcJu3h7T-"
   },
   "source": [
    "### But in reality it's actually parallel:\n",
    "This means\n",
    "these operations are highly amenable to massively parallel implementations (vectorized\n",
    "implementations, a term that comes from the vector processor supercomputer architecture\n",
    "from the 1970–1990 period)."
   ]
  },
  {
   "cell_type": "markdown",
   "metadata": {
    "colab_type": "text",
    "id": "m_vGHYa0h7T_"
   },
   "source": [
    "## Try it yourself: measure the time for very long tensors (naive vs. GPU)\n"
   ]
  },
  {
   "cell_type": "markdown",
   "metadata": {
    "colab_type": "text",
    "id": "T16xqzX2h7UC"
   },
   "source": [
    "### BLAS\n",
    "In practice, when dealing with Numpy arrays, these operations are available as welloptimized\n",
    "built-in Numpy functions, which themselves delegate the heavy lifting to a\n",
    "Basic Linear Algebra Subprograms (BLAS) implementation if you have one installed\n",
    "(which you should). BLAS are low-level, highly parallel, efficient tensor-manipulation\n",
    "routines that are typically implemented in Fortran or C."
   ]
  },
  {
   "cell_type": "markdown",
   "metadata": {
    "colab_type": "text",
    "id": "cmmNCeJ8h7UD"
   },
   "source": [
    "# Tensor Dot\n",
    "Not same as element-wise\n",
    "Product is a scalar, for 2 vectors\n"
   ]
  },
  {
   "cell_type": "code",
   "execution_count": 0,
   "metadata": {
    "colab": {},
    "colab_type": "code",
    "id": "rg6_0uBFh7UE"
   },
   "outputs": [],
   "source": [
    "def naive_vector_dot(x, y):\n",
    "    assert len(x.shape) == 1\n",
    "    assert len(y.shape) == 1\n",
    "    assert x.shape[0] == y.shape[0]\n",
    "    z = 0.\n",
    "    for i in range(x.shape[0]):\n",
    "        z += x[i] * y[i]\n",
    "    return z"
   ]
  },
  {
   "cell_type": "markdown",
   "metadata": {
    "colab_type": "text",
    "id": "oB82rmDHh7UO"
   },
   "source": [
    "For matrix and vector, dot produces a vector, with same number of elements = number of rows of the matrix."
   ]
  },
  {
   "cell_type": "markdown",
   "metadata": {
    "colab_type": "text",
    "id": "oCpZruJuh7UP"
   },
   "source": [
    "For matrix and matrix, is a another matrix, with same number of rows as the first, and number of cols as the 2nd.\n",
    "#cols (1st) = #rows (2nd)\n",
    "\n"
   ]
  },
  {
   "cell_type": "markdown",
   "metadata": {
    "colab_type": "text",
    "id": "bqGY-HcQh7UQ"
   },
   "source": [
    "![02_tensors dot.png](https://github.com/ahmadelsallab/practical_dl/blob/master/Keras/notebooks/imgs/02_tensors%20dot.png?raw=true)"
   ]
  },
  {
   "cell_type": "markdown",
   "metadata": {
    "colab_type": "text",
    "id": "pTxukTACh7UR"
   },
   "source": [
    "# Tensor reshaping"
   ]
  },
  {
   "cell_type": "markdown",
   "metadata": {
    "colab_type": "text",
    "id": "gXWb8_7Rh7US"
   },
   "source": [
    "Reshaping a tensor means rearranging its rows and columns to match a target shape.\n",
    "Naturally, the reshaped tensor has the same total number of coefficients as the initial\n",
    "tensor."
   ]
  },
  {
   "cell_type": "markdown",
   "metadata": {
    "colab_type": "text",
    "id": "uDZ_azFmh7UT"
   },
   "source": [
    "# Why?\n",
    "Image you have as the example an input like:"
   ]
  },
  {
   "cell_type": "code",
   "execution_count": 0,
   "metadata": {
    "colab": {},
    "colab_type": "code",
    "id": "mdgVNZzph7UV"
   },
   "outputs": [],
   "source": [
    "train_images.shape"
   ]
  },
  {
   "cell_type": "markdown",
   "metadata": {
    "colab_type": "text",
    "id": "9m3mXWzMh7UZ"
   },
   "source": [
    "Since the input layer is not conv, it cannot accept 2D input (Remember LEGO where inputs should match outputs shapes for layers compatibility)"
   ]
  },
  {
   "cell_type": "code",
   "execution_count": 0,
   "metadata": {
    "colab": {},
    "colab_type": "code",
    "id": "XBPFMgSZh7Ua"
   },
   "outputs": [],
   "source": [
    "train_images = train_images.reshape((60000, 28 * 28))"
   ]
  },
  {
   "cell_type": "markdown",
   "metadata": {
    "colab_type": "text",
    "id": "ea36oJCWh7Uf"
   },
   "source": [
    "# When to reshape and when to transpose?\n",
    "Reshape is usually used to re-order the elements from a shape to another. However, elements per axis is not necessarily preserved.\n",
    "\n",
    "Imagine that you have a vector data. As mentioned above, this type of data should be 2D: (samples, features).\n",
    "Suppose that your input is mis-ordered as (featrues, samples).\n",
    "Then you want to re-oreder the axes to match Keras convention.\n"
   ]
  },
  {
   "cell_type": "markdown",
   "metadata": {
    "colab_type": "text",
    "id": "jJccKAvch7Uf"
   },
   "source": [
    "Using reshape:\n",
    "let n_samples = 3, n_features = 2"
   ]
  },
  {
   "cell_type": "code",
   "execution_count": 0,
   "metadata": {
    "colab": {},
    "colab_type": "code",
    "id": "C8X8ZbOsh7Uh"
   },
   "outputs": [],
   "source": [
    "import numpy as np\n",
    "sample_1 = [0., 1.]\n",
    "sample_2 = [2., 3.]\n",
    "sample_3 = [4., 5.]"
   ]
  },
  {
   "cell_type": "markdown",
   "metadata": {
    "colab_type": "text",
    "id": "mEjFHwPFh7Uk"
   },
   "source": [
    "Say the samples are ordered column wise"
   ]
  },
  {
   "cell_type": "code",
   "execution_count": 0,
   "metadata": {
    "colab": {},
    "colab_type": "code",
    "id": "FiKE4-Okh7Ul"
   },
   "outputs": [],
   "source": [
    "x = np.array([[0., 2., 4.], [1., 3., 5.]])\n",
    "x.shape"
   ]
  },
  {
   "cell_type": "markdown",
   "metadata": {
    "colab_type": "text",
    "id": "cralNgiqh7Uv"
   },
   "source": [
    "Let's try to fix with reshape"
   ]
  },
  {
   "cell_type": "code",
   "execution_count": 0,
   "metadata": {
    "colab": {},
    "colab_type": "code",
    "id": "664nCTvch7Uw"
   },
   "outputs": [],
   "source": [
    "x = x.reshape(3,2)\n"
   ]
  },
  {
   "cell_type": "code",
   "execution_count": 0,
   "metadata": {
    "colab": {},
    "colab_type": "code",
    "id": "3zf_Lwjfh7Uz"
   },
   "outputs": [],
   "source": [
    "x.shape"
   ]
  },
  {
   "cell_type": "markdown",
   "metadata": {
    "colab_type": "text",
    "id": "S24eyuwrh7U3"
   },
   "source": [
    "#### Is the original samples restored?\n",
    "No, why?"
   ]
  },
  {
   "cell_type": "code",
   "execution_count": 0,
   "metadata": {
    "colab": {},
    "colab_type": "code",
    "id": "Q2QI6NAKh7U4"
   },
   "outputs": [],
   "source": [
    "x"
   ]
  },
  {
   "cell_type": "markdown",
   "metadata": {
    "colab_type": "text",
    "id": "nduwF-gWh7U9"
   },
   "source": [
    "#### Because reshape works row-wise, but doesnot preserve the axes."
   ]
  },
  {
   "cell_type": "markdown",
   "metadata": {
    "colab_type": "text",
    "id": "MtjrRyB7h7U-"
   },
   "source": [
    "### Using transpose\n",
    "np.transpose will re-order the axes, keeping the element in each axis the same.\n",
    "So it's a special case of re-shape.\n",
    "We usually use it for axes re-ordering.\n",
    "\n",
    "it takes the new axes positions as input"
   ]
  },
  {
   "cell_type": "code",
   "execution_count": 0,
   "metadata": {
    "colab": {},
    "colab_type": "code",
    "id": "TT817uYMh7U_"
   },
   "outputs": [],
   "source": [
    "x = np.array([[0., 2., 4.], [1., 3., 5.]])\n",
    "x = np.transpose(x, [1,0])\n",
    "x"
   ]
  },
  {
   "cell_type": "markdown",
   "metadata": {
    "colab_type": "text",
    "id": "RWkb1z1Bh7VG"
   },
   "source": [
    "As you can see, the original samples are resotred"
   ]
  },
  {
   "cell_type": "markdown",
   "metadata": {
    "colab_type": "text",
    "id": "w0bUNBvch7VH"
   },
   "source": [
    "#### Time series example\n",
    "Imagine that you have a time series data. As mentioned above, this type of data should be 3D: (samples, time, features).\n",
    "Suppose that your input is mis-ordered as (time, samples, features).\n",
    "Then you want to re-oreder the axes to match Keras convention.\n",
    "Here you use transpose as follows:"
   ]
  },
  {
   "cell_type": "code",
   "execution_count": 0,
   "metadata": {
    "colab": {},
    "colab_type": "code",
    "id": "eHVxaxa8h7VJ"
   },
   "outputs": [],
   "source": [
    "n_samples = 10\n",
    "n_timesteps = 5\n",
    "n_features = 3\n",
    "x = np.zeros([n_samples, n_features, n_timesteps])\n",
    "print(x.shape)"
   ]
  },
  {
   "cell_type": "code",
   "execution_count": 0,
   "metadata": {
    "colab": {},
    "colab_type": "code",
    "id": "TEavvwYdh7VN"
   },
   "outputs": [],
   "source": [
    "x = np.transpose(x, [0,2,1]) # also works x = x.transpose([0,2,1])\n",
    "x.shape"
   ]
  },
  {
   "cell_type": "markdown",
   "metadata": {
    "colab_type": "text",
    "id": "yUSTi64eh7VU"
   },
   "source": [
    "### Notes:\n",
    "1. In 2D, np.transpose holds the same mathmatical meaning as matrix transpose, so no need to feed the axes order as they will normally be flipped\n",
    "2. Using reshape with the above 3D example will give the same shape, and most dangerously, the whole program will not give an error \n",
    "## But it will give wrong output and it's very hard to debug"
   ]
  },
  {
   "cell_type": "code",
   "execution_count": 79,
   "metadata": {
    "colab": {
     "base_uri": "https://localhost:8080/",
     "height": 52
    },
    "colab_type": "code",
    "executionInfo": {
     "elapsed": 741,
     "status": "ok",
     "timestamp": 1550481391798,
     "user": {
      "displayName": "Ahmad El Sallab",
      "photoUrl": "",
      "userId": "06251939449358079201"
     },
     "user_tz": -120
    },
    "id": "lOXMT9Nuh7VW",
    "outputId": "b8da88ee-a9f8-42c8-c163-308a66512055"
   },
   "outputs": [
    {
     "name": "stdout",
     "output_type": "stream",
     "text": [
      "(10, 3, 5)\n"
     ]
    },
    {
     "data": {
      "text/plain": [
       "(10, 5, 3)"
      ]
     },
     "execution_count": 79,
     "metadata": {
      "tags": []
     },
     "output_type": "execute_result"
    }
   ],
   "source": [
    "x = np.zeros([n_samples, n_features, n_timesteps])\n",
    "print(x.shape)\n",
    "x = x.reshape([n_samples, n_timesteps, n_features])\n",
    "x.shape"
   ]
  },
  {
   "cell_type": "markdown",
   "metadata": {
    "colab_type": "text",
    "id": "lpoMNPCjh7Va"
   },
   "source": [
    "# Gradient based optimization\n",
    "What we want to have at the end from a NN is a `Model`, represents an input-output relation\n",
    "![02_gd.png](https://github.com/ahmadelsallab/practical_dl/blob/master/Keras/notebooks/imgs/02_gd.png?raw=true)"
   ]
  },
  {
   "cell_type": "markdown",
   "metadata": {
    "colab_type": "text",
    "id": "3FjamPhI5LsK"
   },
   "source": [
    "output = relu(dot(W, input) + b)"
   ]
  },
  {
   "cell_type": "markdown",
   "metadata": {
    "colab_type": "text",
    "id": "sa4zolWlh7Vh"
   },
   "source": [
    "The model has `parameters` in the above case those are `W` and `b`.\n",
    "They’re called the weights or trainable parameters of the layer (the kernel and bias attributes, respectively).\n",
    "These weights contain the information learned by the network from exposure to training data.\n",
    "\n",
    "Initially, these weight matrices are filled with small random values (a step called random\n",
    "initialization). Of course, there’s no reason to expect that relu(dot(W, input) + b),\n",
    "when W and b are random, will yield any useful representations. The resulting representations\n",
    "are meaningless—but they’re a starting point. \n",
    "### Learning:\n",
    "What comes next is to gradually\n",
    "adjust these weights, based on a feedback signal. This gradual adjustment, also called\n",
    "training, is basically the learning that machine learning is all about."
   ]
  },
  {
   "cell_type": "markdown",
   "metadata": {
    "colab_type": "text",
    "id": "vL2rU4Nth7Vi"
   },
   "source": [
    "## Training loop\n",
    "\n",
    "This happens within what’s called a training loop, which works as follows. Repeat\n",
    "these steps in a loop, as long as necessary:\n",
    "\n",
    "1. Draw a batch of training samples x and corresponding targets y.\n",
    "2. Run the network on x (a step called the forward pass) to obtain predictions y_pred.\n",
    "3. Compute the loss of the network on the batch, a measure of the mismatch between y_pred and y.\n",
    "4. Update all weights of the network in a way that slightly reduces the loss on this batch.\n",
    "\n",
    "You’ll eventually end up with a network that has a very low loss on its training data: a\n",
    "low mismatch between predictions y_pred and expected targets y. The network has\n",
    "“learned” to map its inputs to correct targets. From afar, it may look like magic, but\n",
    "when you reduce it to elementary steps, it turns out to be simple.\n",
    "\n",
    "Step 1 sounds easy enough—just I/O code. Steps 2 and 3 are merely the application\n",
    "of a handful of tensor operations, so you could implement these steps purely\n",
    "from what you learned in the previous section. The difficult part is step 4: updating\n",
    "the network’s weights. \n",
    "### Given an individual weight coefficient in the network, how can you compute whether the coefficient should be increased or decreased, and by how much?\n",
    "One naive solution would be to freeze all weights in the network except the one\n",
    "scalar coefficient being considered, and try different values for this coefficient. Let’s\n",
    "say the initial value of the coefficient is 0.3. After the forward pass on a batch of data,\n",
    "the loss of the network on the batch is 0.5. If you change the coefficient’s value to 0.35\n",
    "and rerun the forward pass, the loss increases to 0.6. But if you lower the coefficient to\n",
    "0.25, the loss falls to 0.4. In this case, it seems that updating the coefficient by -0.05 would contribute to minimizing the loss. This would have to be repeated for all coefficients\n",
    "in the network. But such an approach would be horribly inefficient, because you’d need to compute\n",
    "two forward passes (which are expensive) for every individual coefficient (of\n",
    "which there are many, usually thousands and sometimes up to millions).\n",
    "\n",
    "\n",
    "## Follow the opposite gradient down: Gradient Descent\n",
    " A much better\n",
    "approach is to take advantage of the fact that all operations used in the network\n",
    "are differentiable, and compute the gradient of the loss with regard to the network’s\n",
    "coefficients. You can then move the coefficients in the opposite direction from the\n",
    "gradient, thus decreasing the loss.\n",
    "![image.png](attachment:image.png)\n",
    "\n",
    "```\n",
    "y_pred = dot(W, x)\n",
    "loss_value = loss(y_pred, y) # loss_value = f(W)\n",
    "# Let’s say the current value of W is W0.\n",
    "# Update weights opposite to the gradient of the loss at the W=W0\n",
    "W1 = W0 - step * gradient(f)(W0)# gradient(f) w.r.t. W is easily calculated in DL frameworks thanks to sybmolic auto diff.\n",
    "# Repeat for W2, W3,....W100\n",
    "```"
   ]
  },
  {
   "cell_type": "markdown",
   "metadata": {
    "colab_type": "text",
    "id": "Y6U3yPLih7Vp"
   },
   "source": [
    "## Stochastic Gradient Descent\n",
    "### GD (batch SGD)\n",
    "The above GD algorithm updates the gradient with every new sample of x.\n",
    "If X is of 1000 samples, then the delta_W[t+1] = step * gradient(f)(W[t]) is calculated and accumulated every sample, but the application of weight update is done once after all 1000 samples are fed.\n",
    "\n",
    "- Update once at the end\n",
    "- High accumulation of error, Risk of saturation\n",
    "- Slow feedback, slow convergence, but more stable\n",
    "- Take advantage of parallelism in matrix operations (comp. arch.)\n",
    "\n",
    "### SGD\n",
    "There are other options of updating:\n",
    "1. SGD: Each sample (batch_size=1)\n",
    "\n",
    "    - Fast feedback, fast convergence (corrects itself a lot) \n",
    "    - Could oscillate, unstable (tend to corrupt what it learnt)\n",
    "    - Not taking advantage of parallelism in matrix operations (comp. arch.)\n",
    "    - Not saturating\n",
    "    - Stochastic: every update is a representing sample of the true gradient \n",
    "2. Minibatch SGD: Every group of samples (batch_size=N)\n",
    "Accumulate M gradients, update every M\n",
    "    - More stable than 1 sample\n",
    "    - Faster than GD\n",
    "### Steps\n",
    "    1. Draw a batch of training samples x and corresponding targets y.\n",
    "    2. Run the network on x to obtain predictions y_pred.\n",
    "    3. Compute the loss of the network on the batch, a measure of the mismatch\n",
    "    between y_pred and y.\n",
    "    4. Compute the gradient of the loss with regard to the network’s parameters (a\n",
    "    backward pass).\n",
    "    5. Move the parameters a little in the opposite direction from the gradient—for\n",
    "    example W -= step * gradient—thus reducing the loss on the batch a bit."
   ]
  },
  {
   "cell_type": "markdown",
   "metadata": {
    "colab_type": "text",
    "id": "KAnaf5hHh7Vq"
   },
   "source": [
    "### Learning rate\n",
    "As you can see, intuitively it’s important to pick a reasonable value for the step factor.\n",
    "If it’s too small, the descent down the curve will take many iterations, and it could get\n",
    "stuck in a local minimum. If step is too large, your updates may end up taking you to\n",
    "completely random locations on the curve."
   ]
  },
  {
   "cell_type": "markdown",
   "metadata": {
    "colab_type": "text",
    "id": "JiN55Y-kh7Vr"
   },
   "source": [
    "### Momentum\n",
    "Additionally, there exist multiple variants of SGD that differ by taking into account\n",
    "previous weight updates when computing the next weight update, rather than just\n",
    "looking at the current value of the gradients. There is, for instance, SGD with momentum,\n",
    "as well as Adagrad, RMSProp, and several others. Such variants are known as optimization\n",
    "methods or optimizers. In particular, the concept of momentum, which is used in\n",
    "many of these variants, deserves your attention. Momentum addresses two issues with\n",
    "SGD: convergence speed and local minima.\n",
    "    \n",
    "Momentum draws inspiration from physics.\n",
    "A useful mental image here is to think of the optimization process as a small ball\n",
    "rolling down the loss curve. If it has enough momentum, the ball won’t get stuck in a\n",
    "ravine and will end up at the global minimum. Momentum is implemented by moving\n",
    "the ball at each step based not only on the current slope value (current acceleration)\n",
    "but also on the current velocity (resulting from past acceleration). In practice, this\n",
    "means updating the parameter w based not only on the current gradient value but also\n",
    "on the previous parameter update, such as in this naive implementation:"
   ]
  },
  {
   "cell_type": "markdown",
   "metadata": {
    "colab_type": "text",
    "id": "GMgqz0Ks56uP"
   },
   "source": [
    "```\n",
    "past_velocity = 0.\n",
    "momentum = 0.1\n",
    "while loss > 0.01:\n",
    "    w, loss, gradient = get_current_parameters()\n",
    "    velocity = past_velocity * momentum + learning_rate * gradient\n",
    "    w = w + momentum * velocity - learning_rate * gradient\n",
    "    past_velocity = velocity\n",
    "    update_parameter(w)\n",
    "```    "
   ]
  },
  {
   "cell_type": "markdown",
   "metadata": {
    "colab_type": "text",
    "id": "_7M7gH2Xh7Vu"
   },
   "source": [
    "### Momentum to avoid local min\n",
    "\n",
    "\n",
    "![02_momentum.png](https://github.com/ahmadelsallab/practical_dl/blob/master/Keras/notebooks/imgs/02_momentum.png?raw=true)\n",
    "\n",
    "You can avoid such issues by using momentum, "
   ]
  },
  {
   "cell_type": "markdown",
   "metadata": {
    "colab_type": "text",
    "id": "wfBVIBWLh7Vw"
   },
   "source": [
    "## Backprop\n",
    "In the previous algorithm, we casually assumed that because a function is differentiable,\n",
    "we can explicitly compute its derivative. In practice, a neural network function\n",
    "consists of many tensor operations chained together, each of which has a simple,\n",
    "known derivative. For instance, this is a network f composed of three tensor operations,\n",
    "a, b, and c, with weight matrices W1, W2, and W3:\n",
    "\n",
    "`f(W1, W2, W3) = a(W1, b(W2, c(W3)))`\n",
    "Calculus tells us that such a chain of functions can be derived using the following identity,\n",
    "called the chain rule: `f(g(x)) = f'(g(x)) * g'(x)`. Applying the chain rule to the\n",
    "computation of the gradient values of a neural network gives rise to an algorithm called Backpropagation (also sometimes called reverse-mode differentiation). \n",
    "\n",
    "Backpropagation starts with the final loss value and works backward from the top layers to the bottom\n",
    "layers, applying the chain rule to compute the contribution that each parameter\n",
    "had in the loss value.\n",
    "![image.png](attachment:image.png)\n",
    "\n",
    "### Symbolic differentiation\n",
    "Nowadays, and for years to come, people will implement networks in modern\n",
    "frameworks that are capable of symbolic differentiation, such as TensorFlow. This means\n",
    "that, given a chain of operations with a known derivative, they can compute a gradient\n",
    "function for the chain (by applying the chain rule) that maps network parameter values\n",
    "to gradient values. When you have access to such a function, the backward pass is\n",
    "reduced to a call to this gradient function. Thanks to symbolic differentiation, you’ll\n",
    "never have to implement the Backpropagation algorithm by hand. For this reason, we\n",
    "won’t waste your time and your focus on deriving the exact formulation of the Backpropagation\n",
    "algorithm in these pages. All you need is a good understanding of how\n",
    "gradient-based optimization works."
   ]
  },
  {
   "cell_type": "markdown",
   "metadata": {
    "colab_type": "text",
    "id": "osZxwWyQh7Vx"
   },
   "source": [
    "# NN Anatomy (Revision of 1st example)\n",
    "## 1. Data"
   ]
  },
  {
   "cell_type": "code",
   "execution_count": 0,
   "metadata": {
    "colab": {},
    "colab_type": "code",
    "id": "WB4LLHbLh7V1"
   },
   "outputs": [],
   "source": [
    "(train_images, train_labels), (test_images, test_labels) = mnist.load_data()\n",
    "train_images = train_images.reshape((60000, 28 * 28))\n",
    "train_images = train_images.astype('float32') / 255\n",
    "test_images = test_images.reshape((10000, 28 * 28))\n",
    "test_images = test_images.astype('float32') / 255"
   ]
  },
  {
   "cell_type": "markdown",
   "metadata": {
    "colab_type": "text",
    "id": "CkiFyZXKh7V3"
   },
   "source": [
    "## 2. Model"
   ]
  },
  {
   "cell_type": "code",
   "execution_count": 0,
   "metadata": {
    "colab": {},
    "colab_type": "code",
    "id": "kmKzoBaph7V4"
   },
   "outputs": [],
   "source": [
    "network = models.Sequential()\n",
    "network.add(layers.Dense(512, activation='relu', input_shape=(28 * 28,)))\n",
    "network.add(layers.Dense(10, activation='softmax'))"
   ]
  },
  {
   "cell_type": "code",
   "execution_count": 83,
   "metadata": {
    "colab": {
     "base_uri": "https://localhost:8080/",
     "height": 210
    },
    "colab_type": "code",
    "executionInfo": {
     "elapsed": 681,
     "status": "ok",
     "timestamp": 1550481644587,
     "user": {
      "displayName": "Ahmad El Sallab",
      "photoUrl": "",
      "userId": "06251939449358079201"
     },
     "user_tz": -120
    },
    "id": "ctEtM5Ej6ERz",
    "outputId": "15b30efe-18bb-4b00-cf4b-fda77be479c0"
   },
   "outputs": [
    {
     "name": "stdout",
     "output_type": "stream",
     "text": [
      "_________________________________________________________________\n",
      "Layer (type)                 Output Shape              Param #   \n",
      "=================================================================\n",
      "dense_6 (Dense)              (None, 512)               401920    \n",
      "_________________________________________________________________\n",
      "dense_7 (Dense)              (None, 10)                5130      \n",
      "=================================================================\n",
      "Total params: 407,050\n",
      "Trainable params: 407,050\n",
      "Non-trainable params: 0\n",
      "_________________________________________________________________\n"
     ]
    }
   ],
   "source": [
    "network.summary()"
   ]
  },
  {
   "cell_type": "markdown",
   "metadata": {
    "colab_type": "text",
    "id": "Vz4KU5IEh7V-"
   },
   "source": [
    "## 3. Loss\n",
    "## 4. Optimizer\n",
    "Both under one step in Keras called compile"
   ]
  },
  {
   "cell_type": "code",
   "execution_count": 0,
   "metadata": {
    "colab": {},
    "colab_type": "code",
    "id": "rv3PBD4Qh7V_"
   },
   "outputs": [],
   "source": [
    "network.compile(optimizer='rmsprop',\n",
    "loss='categorical_crossentropy',\n",
    "metrics=['accuracy'])"
   ]
  },
  {
   "cell_type": "code",
   "execution_count": 85,
   "metadata": {
    "colab": {
     "base_uri": "https://localhost:8080/",
     "height": 557
    },
    "colab_type": "code",
    "executionInfo": {
     "elapsed": 667,
     "status": "error",
     "timestamp": 1550481650901,
     "user": {
      "displayName": "Ahmad El Sallab",
      "photoUrl": "",
      "userId": "06251939449358079201"
     },
     "user_tz": -120
    },
    "id": "v72rYjuhh7WF",
    "outputId": "692b810a-1d65-4263-cd0e-9d63efae3e9f"
   },
   "outputs": [
    {
     "ename": "ValueError",
     "evalue": "ignored",
     "output_type": "error",
     "traceback": [
      "\u001b[0;31m---------------------------------------------------------------------------\u001b[0m",
      "\u001b[0;31mValueError\u001b[0m                                Traceback (most recent call last)",
      "\u001b[0;32m<ipython-input-85-8b04f355273b>\u001b[0m in \u001b[0;36m<module>\u001b[0;34m()\u001b[0m\n\u001b[0;32m----> 1\u001b[0;31m \u001b[0mnetwork\u001b[0m\u001b[0;34m.\u001b[0m\u001b[0mfit\u001b[0m\u001b[0;34m(\u001b[0m\u001b[0mtrain_images\u001b[0m\u001b[0;34m,\u001b[0m \u001b[0mtrain_labels\u001b[0m\u001b[0;34m,\u001b[0m \u001b[0mepochs\u001b[0m\u001b[0;34m=\u001b[0m\u001b[0;36m5\u001b[0m\u001b[0;34m,\u001b[0m \u001b[0mbatch_size\u001b[0m\u001b[0;34m=\u001b[0m\u001b[0;36m128\u001b[0m\u001b[0;34m)\u001b[0m\u001b[0;34m\u001b[0m\u001b[0;34m\u001b[0m\u001b[0m\n\u001b[0m",
      "\u001b[0;32m/usr/local/lib/python3.6/dist-packages/keras/engine/training.py\u001b[0m in \u001b[0;36mfit\u001b[0;34m(self, x, y, batch_size, epochs, verbose, callbacks, validation_split, validation_data, shuffle, class_weight, sample_weight, initial_epoch, steps_per_epoch, validation_steps, **kwargs)\u001b[0m\n\u001b[1;32m    950\u001b[0m             \u001b[0msample_weight\u001b[0m\u001b[0;34m=\u001b[0m\u001b[0msample_weight\u001b[0m\u001b[0;34m,\u001b[0m\u001b[0;34m\u001b[0m\u001b[0;34m\u001b[0m\u001b[0m\n\u001b[1;32m    951\u001b[0m             \u001b[0mclass_weight\u001b[0m\u001b[0;34m=\u001b[0m\u001b[0mclass_weight\u001b[0m\u001b[0;34m,\u001b[0m\u001b[0;34m\u001b[0m\u001b[0;34m\u001b[0m\u001b[0m\n\u001b[0;32m--> 952\u001b[0;31m             batch_size=batch_size)\n\u001b[0m\u001b[1;32m    953\u001b[0m         \u001b[0;31m# Prepare validation data.\u001b[0m\u001b[0;34m\u001b[0m\u001b[0;34m\u001b[0m\u001b[0;34m\u001b[0m\u001b[0m\n\u001b[1;32m    954\u001b[0m         \u001b[0mdo_validation\u001b[0m \u001b[0;34m=\u001b[0m \u001b[0;32mFalse\u001b[0m\u001b[0;34m\u001b[0m\u001b[0;34m\u001b[0m\u001b[0m\n",
      "\u001b[0;32m/usr/local/lib/python3.6/dist-packages/keras/engine/training.py\u001b[0m in \u001b[0;36m_standardize_user_data\u001b[0;34m(self, x, y, sample_weight, class_weight, check_array_lengths, batch_size)\u001b[0m\n\u001b[1;32m    787\u001b[0m                 \u001b[0mfeed_output_shapes\u001b[0m\u001b[0;34m,\u001b[0m\u001b[0;34m\u001b[0m\u001b[0;34m\u001b[0m\u001b[0m\n\u001b[1;32m    788\u001b[0m                 \u001b[0mcheck_batch_axis\u001b[0m\u001b[0;34m=\u001b[0m\u001b[0;32mFalse\u001b[0m\u001b[0;34m,\u001b[0m  \u001b[0;31m# Don't enforce the batch size.\u001b[0m\u001b[0;34m\u001b[0m\u001b[0;34m\u001b[0m\u001b[0m\n\u001b[0;32m--> 789\u001b[0;31m                 exception_prefix='target')\n\u001b[0m\u001b[1;32m    790\u001b[0m \u001b[0;34m\u001b[0m\u001b[0m\n\u001b[1;32m    791\u001b[0m             \u001b[0;31m# Generate sample-wise weight values given the `sample_weight` and\u001b[0m\u001b[0;34m\u001b[0m\u001b[0;34m\u001b[0m\u001b[0;34m\u001b[0m\u001b[0m\n",
      "\u001b[0;32m/usr/local/lib/python3.6/dist-packages/keras/engine/training_utils.py\u001b[0m in \u001b[0;36mstandardize_input_data\u001b[0;34m(data, names, shapes, check_batch_axis, exception_prefix)\u001b[0m\n\u001b[1;32m    136\u001b[0m                             \u001b[0;34m': expected '\u001b[0m \u001b[0;34m+\u001b[0m \u001b[0mnames\u001b[0m\u001b[0;34m[\u001b[0m\u001b[0mi\u001b[0m\u001b[0;34m]\u001b[0m \u001b[0;34m+\u001b[0m \u001b[0;34m' to have shape '\u001b[0m \u001b[0;34m+\u001b[0m\u001b[0;34m\u001b[0m\u001b[0;34m\u001b[0m\u001b[0m\n\u001b[1;32m    137\u001b[0m                             \u001b[0mstr\u001b[0m\u001b[0;34m(\u001b[0m\u001b[0mshape\u001b[0m\u001b[0;34m)\u001b[0m \u001b[0;34m+\u001b[0m \u001b[0;34m' but got array with shape '\u001b[0m \u001b[0;34m+\u001b[0m\u001b[0;34m\u001b[0m\u001b[0;34m\u001b[0m\u001b[0m\n\u001b[0;32m--> 138\u001b[0;31m                             str(data_shape))\n\u001b[0m\u001b[1;32m    139\u001b[0m     \u001b[0;32mreturn\u001b[0m \u001b[0mdata\u001b[0m\u001b[0;34m\u001b[0m\u001b[0;34m\u001b[0m\u001b[0m\n\u001b[1;32m    140\u001b[0m \u001b[0;34m\u001b[0m\u001b[0m\n",
      "\u001b[0;31mValueError\u001b[0m: Error when checking target: expected dense_7 to have shape (10,) but got array with shape (1,)"
     ]
    }
   ],
   "source": [
    "network.fit(train_images, train_labels, epochs=5, batch_size=128)"
   ]
  },
  {
   "cell_type": "markdown",
   "metadata": {
    "colab_type": "text",
    "id": "r1uOaaHB6Lgy"
   },
   "source": [
    "# Why the above error?\n",
    "Let's have a look on the labels"
   ]
  },
  {
   "cell_type": "code",
   "execution_count": 86,
   "metadata": {
    "colab": {
     "base_uri": "https://localhost:8080/",
     "height": 34
    },
    "colab_type": "code",
    "executionInfo": {
     "elapsed": 651,
     "status": "ok",
     "timestamp": 1550481708165,
     "user": {
      "displayName": "Ahmad El Sallab",
      "photoUrl": "",
      "userId": "06251939449358079201"
     },
     "user_tz": -120
    },
    "id": "WZTLObRH6KWd",
    "outputId": "07f423c6-f700-47c5-8771-5c7f1a170bbd"
   },
   "outputs": [
    {
     "data": {
      "text/plain": [
       "(60000,)"
      ]
     },
     "execution_count": 86,
     "metadata": {
      "tags": []
     },
     "output_type": "execute_result"
    }
   ],
   "source": [
    "train_labels.shape"
   ]
  },
  {
   "cell_type": "code",
   "execution_count": 87,
   "metadata": {
    "colab": {
     "base_uri": "https://localhost:8080/",
     "height": 34
    },
    "colab_type": "code",
    "executionInfo": {
     "elapsed": 693,
     "status": "ok",
     "timestamp": 1550481716718,
     "user": {
      "displayName": "Ahmad El Sallab",
      "photoUrl": "",
      "userId": "06251939449358079201"
     },
     "user_tz": -120
    },
    "id": "c9TcyrWR6V2z",
    "outputId": "3f7eb28c-7cc7-4059-c901-1e2e5411371b"
   },
   "outputs": [
    {
     "data": {
      "text/plain": [
       "5"
      ]
     },
     "execution_count": 87,
     "metadata": {
      "tags": []
     },
     "output_type": "execute_result"
    }
   ],
   "source": [
    "train_labels[0]"
   ]
  },
  {
   "cell_type": "markdown",
   "metadata": {
    "colab_type": "text",
    "id": "kacCLA9s6YKG"
   },
   "source": [
    "Our final activation is 'softmax', and our loss is 'categorial'.\n",
    "\n",
    "This means that, our output must be consistent with softmax output.\n",
    "\n",
    "That format is called __One-Hot Encoding__"
   ]
  },
  {
   "cell_type": "code",
   "execution_count": 90,
   "metadata": {
    "colab": {
     "base_uri": "https://localhost:8080/",
     "height": 52
    },
    "colab_type": "code",
    "executionInfo": {
     "elapsed": 674,
     "status": "ok",
     "timestamp": 1550481856202,
     "user": {
      "displayName": "Ahmad El Sallab",
      "photoUrl": "",
      "userId": "06251939449358079201"
     },
     "user_tz": -120
    },
    "id": "LdYjZvjz6oON",
    "outputId": "66429b57-fc5c-478b-e21e-9a6dbe501a2e"
   },
   "outputs": [
    {
     "name": "stdout",
     "output_type": "stream",
     "text": [
      "(60000, 10)\n",
      "[0. 0. 0. 0. 0. 1. 0. 0. 0. 0.]\n"
     ]
    }
   ],
   "source": [
    "from keras.utils import to_categorical\n",
    "train_labels = to_categorical(train_labels)\n",
    "print(train_labels.shape)\n",
    "print(train_labels[0])"
   ]
  },
  {
   "cell_type": "code",
   "execution_count": 91,
   "metadata": {
    "colab": {
     "base_uri": "https://localhost:8080/",
     "height": 210
    },
    "colab_type": "code",
    "executionInfo": {
     "elapsed": 24312,
     "status": "ok",
     "timestamp": 1550481891167,
     "user": {
      "displayName": "Ahmad El Sallab",
      "photoUrl": "",
      "userId": "06251939449358079201"
     },
     "user_tz": -120
    },
    "id": "9wU1y3a866b0",
    "outputId": "4330d5af-84cf-4dfc-96cc-b86253760a5b"
   },
   "outputs": [
    {
     "name": "stdout",
     "output_type": "stream",
     "text": [
      "Epoch 1/5\n",
      "60000/60000 [==============================] - 5s 81us/step - loss: 0.2546 - acc: 0.9268\n",
      "Epoch 2/5\n",
      "60000/60000 [==============================] - 5s 78us/step - loss: 0.1027 - acc: 0.9690\n",
      "Epoch 3/5\n",
      "60000/60000 [==============================] - 5s 79us/step - loss: 0.0678 - acc: 0.9795\n",
      "Epoch 4/5\n",
      "60000/60000 [==============================] - 5s 78us/step - loss: 0.0497 - acc: 0.9855\n",
      "Epoch 5/5\n",
      "60000/60000 [==============================] - 5s 77us/step - loss: 0.0379 - acc: 0.9887\n"
     ]
    },
    {
     "data": {
      "text/plain": [
       "<keras.callbacks.History at 0x7fa53c8d2d30>"
      ]
     },
     "execution_count": 91,
     "metadata": {
      "tags": []
     },
     "output_type": "execute_result"
    }
   ],
   "source": [
    "network.fit(train_images, train_labels, epochs=5, batch_size=128)"
   ]
  }
 ],
 "metadata": {
  "colab": {
   "name": "02_Before we begin_the mathematical building blocks of neural networks.ipynb",
   "provenance": [],
   "version": "0.3.2"
  },
  "kernelspec": {
   "display_name": "Python 3",
   "language": "python",
   "name": "python3"
  },
  "language_info": {
   "codemirror_mode": {
    "name": "ipython",
    "version": 3
   },
   "file_extension": ".py",
   "mimetype": "text/x-python",
   "name": "python",
   "nbconvert_exporter": "python",
   "pygments_lexer": "ipython3",
   "version": "3.6.5"
  }
 },
 "nbformat": 4,
 "nbformat_minor": 1
}
