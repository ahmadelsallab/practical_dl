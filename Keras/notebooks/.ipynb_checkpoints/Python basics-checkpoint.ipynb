{
 "cells": [
  {
   "cell_type": "code",
   "execution_count": 8,
   "metadata": {
    "collapsed": true
   },
   "outputs": [],
   "source": [
    "a = [1,2,3]"
   ]
  },
  {
   "cell_type": "code",
   "execution_count": 3,
   "metadata": {
    "collapsed": true
   },
   "outputs": [],
   "source": [
    "b = a\n",
    "b *= 2"
   ]
  },
  {
   "cell_type": "code",
   "execution_count": 4,
   "metadata": {},
   "outputs": [
    {
     "data": {
      "text/plain": [
       "[1, 2, 3, 1, 2, 3, 1, 2, 3, 1, 2, 3]"
      ]
     },
     "execution_count": 4,
     "metadata": {},
     "output_type": "execute_result"
    }
   ],
   "source": [
    "b"
   ]
  },
  {
   "cell_type": "code",
   "execution_count": 5,
   "metadata": {},
   "outputs": [
    {
     "data": {
      "text/plain": [
       "[1, 2, 3, 1, 2, 3, 1, 2, 3, 1, 2, 3]"
      ]
     },
     "execution_count": 5,
     "metadata": {},
     "output_type": "execute_result"
    }
   ],
   "source": [
    "# Reference pointer\n",
    "a"
   ]
  },
  {
   "cell_type": "code",
   "execution_count": 34,
   "metadata": {
    "collapsed": true
   },
   "outputs": [],
   "source": [
    "a = [1,2,3]"
   ]
  },
  {
   "cell_type": "code",
   "execution_count": 21,
   "metadata": {},
   "outputs": [],
   "source": [
    "b = a.copy()\n",
    "b *= 2 # same as b.append(b)"
   ]
  },
  {
   "cell_type": "code",
   "execution_count": 22,
   "metadata": {},
   "outputs": [
    {
     "data": {
      "text/plain": [
       "[1, 2, 3, 1, 2, 3]"
      ]
     },
     "execution_count": 22,
     "metadata": {},
     "output_type": "execute_result"
    }
   ],
   "source": [
    "b"
   ]
  },
  {
   "cell_type": "code",
   "execution_count": null,
   "metadata": {
    "collapsed": true
   },
   "outputs": [],
   "source": []
  },
  {
   "cell_type": "code",
   "execution_count": 24,
   "metadata": {},
   "outputs": [
    {
     "data": {
      "text/plain": [
       "[1, 2, 3, 1, 2, 3, 1, 2, 3, 1, 2, 3]"
      ]
     },
     "execution_count": 24,
     "metadata": {},
     "output_type": "execute_result"
    }
   ],
   "source": [
    "b"
   ]
  },
  {
   "cell_type": "code",
   "execution_count": 17,
   "metadata": {},
   "outputs": [
    {
     "data": {
      "text/plain": [
       "[1, 2, 3]"
      ]
     },
     "execution_count": 17,
     "metadata": {},
     "output_type": "execute_result"
    }
   ],
   "source": [
    "a"
   ]
  },
  {
   "cell_type": "code",
   "execution_count": null,
   "metadata": {
    "collapsed": true
   },
   "outputs": [],
   "source": [
    "# Element wise operations"
   ]
  },
  {
   "cell_type": "code",
   "execution_count": 32,
   "metadata": {},
   "outputs": [
    {
     "ename": "SyntaxError",
     "evalue": "invalid syntax (<ipython-input-32-4b38dee93f8e>, line 1)",
     "output_type": "error",
     "traceback": [
      "\u001b[0;36m  File \u001b[0;32m\"<ipython-input-32-4b38dee93f8e>\"\u001b[0;36m, line \u001b[0;32m1\u001b[0m\n\u001b[0;31m    b = b .* 2\u001b[0m\n\u001b[0m           ^\u001b[0m\n\u001b[0;31mSyntaxError\u001b[0m\u001b[0;31m:\u001b[0m invalid syntax\n"
     ]
    }
   ],
   "source": [
    "b = b .* 2"
   ]
  },
  {
   "cell_type": "code",
   "execution_count": null,
   "metadata": {
    "collapsed": true
   },
   "outputs": [],
   "source": [
    "c = 2"
   ]
  },
  {
   "cell_type": "code",
   "execution_count": 31,
   "metadata": {},
   "outputs": [
    {
     "ename": "SyntaxError",
     "evalue": "invalid syntax (<ipython-input-31-146a5976d97c>, line 1)",
     "output_type": "error",
     "traceback": [
      "\u001b[0;36m  File \u001b[0;32m\"<ipython-input-31-146a5976d97c>\"\u001b[0;36m, line \u001b[0;32m1\u001b[0m\n\u001b[0;31m    b = b .* a\u001b[0m\n\u001b[0m           ^\u001b[0m\n\u001b[0;31mSyntaxError\u001b[0m\u001b[0;31m:\u001b[0m invalid syntax\n"
     ]
    }
   ],
   "source": [
    "b = b .* a"
   ]
  },
  {
   "cell_type": "code",
   "execution_count": 39,
   "metadata": {},
   "outputs": [],
   "source": [
    "a = [1,2,3]\n",
    "b = a.copy()\n"
   ]
  },
  {
   "cell_type": "code",
   "execution_count": null,
   "metadata": {},
   "outputs": [],
   "source": []
  },
  {
   "cell_type": "code",
   "execution_count": null,
   "metadata": {
    "collapsed": true
   },
   "outputs": [],
   "source": [
    "# Using numpy array"
   ]
  },
  {
   "cell_type": "code",
   "execution_count": 40,
   "metadata": {},
   "outputs": [
    {
     "name": "stdout",
     "output_type": "stream",
     "text": [
      "[2 4 6]\n"
     ]
    }
   ],
   "source": [
    "import numpy as np\n",
    "b = np.array(b) * 2\n",
    "print(b)"
   ]
  },
  {
   "cell_type": "code",
   "execution_count": 42,
   "metadata": {},
   "outputs": [
    {
     "ename": "AttributeError",
     "evalue": "'numpy.ndarray' object has no attribute 'type'",
     "output_type": "error",
     "traceback": [
      "\u001b[0;31m---------------------------------------------------------------------------\u001b[0m",
      "\u001b[0;31mAttributeError\u001b[0m                            Traceback (most recent call last)",
      "\u001b[0;32m<ipython-input-42-7b4bf83bfe3c>\u001b[0m in \u001b[0;36m<module>\u001b[0;34m()\u001b[0m\n\u001b[1;32m      1\u001b[0m \u001b[0mget_ipython\u001b[0m\u001b[1;33m(\u001b[0m\u001b[1;33m)\u001b[0m\u001b[1;33m.\u001b[0m\u001b[0mmagic\u001b[0m\u001b[1;33m(\u001b[0m\u001b[1;34m'pinfo b'\u001b[0m\u001b[1;33m)\u001b[0m\u001b[1;33m\u001b[0m\u001b[0m\n\u001b[0;32m----> 2\u001b[0;31m \u001b[0mb\u001b[0m\u001b[1;33m.\u001b[0m\u001b[0mtype\u001b[0m\u001b[1;33m(\u001b[0m\u001b[1;33m)\u001b[0m\u001b[1;33m\u001b[0m\u001b[0m\n\u001b[0m",
      "\u001b[0;31mAttributeError\u001b[0m: 'numpy.ndarray' object has no attribute 'type'"
     ]
    }
   ],
   "source": [
    "b?\n",
    "#ndarray"
   ]
  },
  {
   "cell_type": "code",
   "execution_count": 45,
   "metadata": {},
   "outputs": [
    {
     "name": "stdout",
     "output_type": "stream",
     "text": [
      "[2, 4, 6]\n"
     ]
    }
   ],
   "source": [
    "# Back to list\n",
    "b = list(b)\n",
    "print(b)\n",
    "b?"
   ]
  },
  {
   "cell_type": "code",
   "execution_count": 1,
   "metadata": {},
   "outputs": [],
   "source": [
    "# To get attributes of function\n",
    "s = 'string'\n",
    "s.split?\n",
    "# or s.split(<TAB>"
   ]
  },
  {
   "cell_type": "code",
   "execution_count": 53,
   "metadata": {},
   "outputs": [
    {
     "ename": "TypeError",
     "evalue": "unhashable type: 'list'",
     "output_type": "error",
     "traceback": [
      "\u001b[0;31m---------------------------------------------------------------------------\u001b[0m",
      "\u001b[0;31mTypeError\u001b[0m                                 Traceback (most recent call last)",
      "\u001b[0;32m<ipython-input-53-c9db6d0c2ebe>\u001b[0m in \u001b[0;36m<module>\u001b[0;34m()\u001b[0m\n\u001b[1;32m      8\u001b[0m \u001b[0md\u001b[0m \u001b[1;33m=\u001b[0m \u001b[1;33m{\u001b[0m\u001b[0mt\u001b[0m\u001b[1;33m:\u001b[0m \u001b[1;36m10\u001b[0m\u001b[1;33m}\u001b[0m\u001b[1;33m\u001b[0m\u001b[0m\n\u001b[1;32m      9\u001b[0m \u001b[1;31m# List cannot be a key\u001b[0m\u001b[1;33m\u001b[0m\u001b[1;33m\u001b[0m\u001b[0m\n\u001b[0;32m---> 10\u001b[0;31m \u001b[0md\u001b[0m \u001b[1;33m=\u001b[0m \u001b[1;33m{\u001b[0m\u001b[0ml\u001b[0m\u001b[1;33m:\u001b[0m\u001b[1;36m10\u001b[0m\u001b[1;33m}\u001b[0m\u001b[1;33m\u001b[0m\u001b[0m\n\u001b[0m",
      "\u001b[0;31mTypeError\u001b[0m: unhashable type: 'list'"
     ]
    }
   ],
   "source": [
    "# List has order\n",
    "l = ['A', 'B', 'C']\n",
    "# Tuple has structrue\n",
    "# ('age', 'phone', 'credit')\n",
    "t = (25, 234141421, 302030)\n",
    "\n",
    "# Tuple can be a dict key\n",
    "d = {t: 10}\n",
    "# List cannot be a key\n",
    "d = {l:10}"
   ]
  },
  {
   "cell_type": "code",
   "execution_count": 57,
   "metadata": {},
   "outputs": [
    {
     "name": "stdout",
     "output_type": "stream",
     "text": [
      "1 2 (3, 4)\n",
      "1 [2, (3, 4)]\n"
     ]
    }
   ],
   "source": [
    "# Unpacking tuple\n",
    "t = (1,2,(3,4))\n",
    "t1, t2, t3 = t\n",
    "print(t1, t2, t3)\n",
    "\n",
    "# Interested only in first val\n",
    "t1, *t_rest = t\n",
    "print(t1, t_rest)"
   ]
  },
  {
   "cell_type": "code",
   "execution_count": 60,
   "metadata": {},
   "outputs": [
    {
     "ename": "TypeError",
     "evalue": "'tuple' object does not support item assignment",
     "output_type": "error",
     "traceback": [
      "\u001b[0;31m---------------------------------------------------------------------------\u001b[0m",
      "\u001b[0;31mTypeError\u001b[0m                                 Traceback (most recent call last)",
      "\u001b[0;32m<ipython-input-60-4c1f9ad583f5>\u001b[0m in \u001b[0;36m<module>\u001b[0;34m()\u001b[0m\n\u001b[1;32m      1\u001b[0m \u001b[1;31m# Tuple is not modifiable!!\u001b[0m\u001b[1;33m\u001b[0m\u001b[1;33m\u001b[0m\u001b[0m\n\u001b[0;32m----> 2\u001b[0;31m \u001b[0mt\u001b[0m\u001b[1;33m[\u001b[0m\u001b[1;36m0\u001b[0m\u001b[1;33m]\u001b[0m \u001b[1;33m=\u001b[0m \u001b[1;36m20\u001b[0m\u001b[1;33m\u001b[0m\u001b[0m\n\u001b[0m",
      "\u001b[0;31mTypeError\u001b[0m: 'tuple' object does not support item assignment"
     ]
    }
   ],
   "source": [
    "# Tuple is not modifiable!!\n",
    "t[0] = 20"
   ]
  },
  {
   "cell_type": "code",
   "execution_count": 55,
   "metadata": {},
   "outputs": [
    {
     "data": {
      "text/plain": [
       "'I have 20.00USD in my left pocket'"
      ]
     },
     "execution_count": 55,
     "metadata": {},
     "output_type": "execute_result"
    }
   ],
   "source": [
    "# String template parsing\n",
    "template = 'I have {0:.2f}USD in my {1:s} pocket' # Arg 0 = Amount of USD, Arg 1: left,right string\n",
    "template.format(20, 'left')"
   ]
  },
  {
   "cell_type": "code",
   "execution_count": 63,
   "metadata": {},
   "outputs": [
    {
     "name": "stdout",
     "output_type": "stream",
     "text": [
      "None\n",
      "[1, 2, 3, 4]\n",
      "['A', 'AA', 'AAA']\n"
     ]
    }
   ],
   "source": [
    "# List sorting in place\n",
    "l = [1,3,2,4]\n",
    "print(l.sort())# Nothing\n",
    "l.sort()\n",
    "print(l)\n",
    "\n",
    "# YOu can give a function/criteria to sort upon\n",
    "l = ['AA', 'A', 'AAA']\n",
    "l.sort(key=len)\n",
    "print(l)"
   ]
  },
  {
   "cell_type": "code",
   "execution_count": 1,
   "metadata": {},
   "outputs": [
    {
     "data": {
      "text/plain": [
       "[('foo', 'one'), ('bar', 'two'), ('baz', 'three')]"
      ]
     },
     "execution_count": 1,
     "metadata": {},
     "output_type": "execute_result"
    }
   ],
   "source": [
    "# Zip\n",
    "# zip “pairs” up the elements of a number of lists, tuples, or other sequences to create a list of tuples:\n",
    "\n",
    "seq1 = ['foo', 'bar', 'baz']\n",
    "seq2 = ['one', 'two', 'three']\n",
    "zipped = zip(seq1, seq2)\n",
    "list(zipped)"
   ]
  },
  {
   "cell_type": "code",
   "execution_count": 6,
   "metadata": {},
   "outputs": [
    {
     "name": "stdout",
     "output_type": "stream",
     "text": [
      "a=1, b=2, c=3\n",
      "a=4, b=5, c=6\n",
      "a=7, b=8, c=9\n"
     ]
    }
   ],
   "source": [
    "# A common use of variable unpacking is iterating over sequences of tuples or lists\n",
    "seq = [(1, 2, 3), (4, 5, 6), (7, 8, 9)]\n",
    "for a, b, c in seq:\n",
    "    print('a={0}, b={1}, c={2}'.format(a, b, c))"
   ]
  },
  {
   "cell_type": "code",
   "execution_count": 7,
   "metadata": {},
   "outputs": [
    {
     "name": "stdout",
     "output_type": "stream",
     "text": [
      "1\n",
      "2\n",
      "[3, 4, 5]\n"
     ]
    }
   ],
   "source": [
    "# The use of *rest\n",
    "values = 1, 2, 3, 4, 5\n",
    "a, b, *rest = values\n",
    "print(a)\n",
    "print(b)\n",
    "print(rest)"
   ]
  },
  {
   "cell_type": "code",
   "execution_count": 12,
   "metadata": {},
   "outputs": [
    {
     "name": "stdout",
     "output_type": "stream",
     "text": [
      "['foo', 'bar', 'baz']\n",
      "['AAA', 'bar', 'baz']\n"
     ]
    }
   ],
   "source": [
    "#In contrast with tuples, lists are variable-length and their contents can be modified in-place\n",
    "# You can convert tuple to list\n",
    "tup = ('foo', 'bar', 'baz')\n",
    "b_list = list(tup)\n",
    "print(b_list)\n",
    "b_list[0] = 'AAA'\n",
    "print(b_list)# Now the elements are modifible\n"
   ]
  },
  {
   "cell_type": "code",
   "execution_count": 5,
   "metadata": {},
   "outputs": [
    {
     "name": "stdout",
     "output_type": "stream",
     "text": [
      "('A', 0)\n",
      "A\n",
      "0\n",
      "('BB', 1)\n",
      "BB\n",
      "1\n",
      "('AB', 2)\n",
      "AB\n",
      "2\n",
      "A\n",
      "0\n",
      "BB\n",
      "1\n",
      "AB\n",
      "2\n"
     ]
    }
   ],
   "source": [
    "data = ['A', 'BB', 'AB']\n",
    "targets = [0, 1, 2]\n",
    "\n",
    "for example in zip(data, targets):\n",
    "    print(example)\n",
    "    #print(example[0])\n",
    "    #print(example[1])\n",
    "    data_sample, target = example\n",
    "    print(data_sample)\n",
    "    print(target)\n",
    "\n",
    "# To loop on paired sample and target:\n",
    "for sample, target in zip(data, targets):\n",
    "    print(sample)\n",
    "    print(target)\n"
   ]
  },
  {
   "cell_type": "code",
   "execution_count": 20,
   "metadata": {},
   "outputs": [
    {
     "name": "stdout",
     "output_type": "stream",
     "text": [
      "[1, 2, 2, 4, 2]\n",
      "[5, 1, 2, 2, 4, 2]\n",
      "[5, 1, 2, 2, 4]\n",
      "[5, 1, 2, 4]\n",
      "[5, 1, 2, 4, 'a', 'b', 'c']\n",
      "[5, 1, 2, 4, 'a', 'b', 'c', 'a', 'b', 'c']\n",
      "[5, 1, 2, 4, 'a', 'b', 'c', ['a', 'b', 'c']]\n",
      "True\n",
      "False\n"
     ]
    }
   ],
   "source": [
    "# List functions\n",
    "l = [1,2,2,4]\n",
    "#1. Append\n",
    "l.append(2)# adds at last element --> stack\n",
    "print(l)\n",
    "\n",
    "# 2. Insert\n",
    "l.insert(0,5)# (pos, val)\n",
    "print(l)\n",
    "\n",
    "# 3. Pop\n",
    "l.pop()# removes last element --> stack\n",
    "print(l)\n",
    "\n",
    "# 4. Remove\n",
    "l.remove(2)\n",
    "print(l) # only first existance of 2 is removed\n",
    "\n",
    "# 5. extend --> concat 2 lists\n",
    "l2 = ['a', 'b', 'c']\n",
    "l.extend(l2)\n",
    "print(l)\n",
    "# extend = +\n",
    "l3 = l + l2 # EXPENSIVE: needs the creation of new list, use extend\n",
    "print(l3)\n",
    "\n",
    "# See the difference from append:\n",
    "l.append(l2)\n",
    "print(l)# Adds a whole list in the last element --> double pointer\n",
    "\n",
    "# Check\n",
    "print('a' in l)\n",
    "print('aa' in l)\n"
   ]
  },
  {
   "cell_type": "code",
   "execution_count": 43,
   "metadata": {},
   "outputs": [
    {
     "name": "stdout",
     "output_type": "stream",
     "text": [
      "[1, 2, 3]\n",
      "[2, 1, 3]\n",
      "['a', 'aa', 'aaa']\n",
      "['a', 'aa', 'aaa']\n"
     ]
    }
   ],
   "source": [
    "# sort\n",
    "a = [3,1,2]\n",
    "a.sort()# in place\n",
    "print(a)\n",
    "\n",
    "# reverse sort\n",
    "a = [3,1,2]\n",
    "a.reverse()\n",
    "print(a)\n",
    "# strings are sorted by len in default\n",
    "b = ['aaa', 'a', 'aa']\n",
    "b.sort()\n",
    "print(b)\n",
    "\n",
    "# use key to apply any function and sort based on the scores\n",
    "b = ['aaa', 'a', 'aa']\n",
    "b.sort(key=len)\n",
    "print(b)\n",
    "\n"
   ]
  },
  {
   "cell_type": "code",
   "execution_count": 45,
   "metadata": {},
   "outputs": [
    {
     "name": "stdout",
     "output_type": "stream",
     "text": [
      "[2, 1, 3]\n",
      "[3, 2, 1]\n"
     ]
    }
   ],
   "source": [
    "# reverse: does not sort, only reverse indices\n",
    "a = [3,1,2]\n",
    "a.reverse()\n",
    "print(a)\n",
    "\n",
    "# To reverse sort, you need to sort first\n",
    "a = [3,1,2]\n",
    "a.sort()\n",
    "a.reverse()\n",
    "print(a)\n"
   ]
  },
  {
   "cell_type": "code",
   "execution_count": 32,
   "metadata": {},
   "outputs": [
    {
     "data": {
      "text/plain": [
       "4"
      ]
     },
     "execution_count": 32,
     "metadata": {},
     "output_type": "execute_result"
    }
   ],
   "source": [
    "# binary search\n",
    "import bisect\n",
    "c = [1, 2, 2, 2, 3, 4, 7]# LIST MUST BE ORDERED --> use sort() first\n",
    "bisect.bisect(c, 2)"
   ]
  },
  {
   "cell_type": "code",
   "execution_count": 33,
   "metadata": {},
   "outputs": [
    {
     "data": {
      "text/plain": [
       "[1, 2, 2, 2, 3, 4, 5, 7]"
      ]
     },
     "execution_count": 33,
     "metadata": {},
     "output_type": "execute_result"
    }
   ],
   "source": [
    "# insert and sort = insort\n",
    "bisect.insort(c, 5)\n",
    "c"
   ]
  },
  {
   "cell_type": "code",
   "execution_count": 35,
   "metadata": {},
   "outputs": [
    {
     "name": "stdout",
     "output_type": "stream",
     "text": [
      "[2]\n",
      "[1, 2]\n",
      "[1, 2]\n",
      "[3, 4, 5, 6]\n",
      "[5, 6]\n",
      "[1, 2, 3, 4]\n",
      "[3, 4]\n",
      "[]\n"
     ]
    }
   ],
   "source": [
    "#slicing\n",
    "s = [1,2,3,4,5,6]\n",
    "print(s[1:2])# from elem 1 to 2 --> Only 1 element --> N = N_end - N_start --> N_end is not included\n",
    "print(s[0:2])\n",
    "print(s[:2])# from begin to elem 2\n",
    "print(s[2:])# from elem 2 to end\n",
    "print(s[-2:])# from 2 elems from end to end\n",
    "print(s[:-2])# from begin to 2 elems from end\n",
    "print(s[-4:-2])# from 4 elems from end to 2 elems from end\n",
    "print(s[-2:-4])# illegal\n"
   ]
  },
  {
   "cell_type": "code",
   "execution_count": 42,
   "metadata": {},
   "outputs": [
    {
     "name": "stdout",
     "output_type": "stream",
     "text": [
      "a\n",
      "b\n",
      "c\n",
      "d\n",
      "0\n",
      "1\n",
      "2\n",
      "3\n",
      "0   a\n",
      "1   b\n",
      "2   c\n",
      "3   d\n",
      "{'a': 0, 'b': 1, 'c': 2, 'd': 3}\n",
      "0   a\n",
      "1   b\n",
      "2   c\n",
      "3   d\n",
      "Index:  0 , sample:  A , target:  0\n",
      "Index:  1 , sample:  BB , target:  1\n",
      "Index:  2 , sample:  AB , target:  2\n"
     ]
    }
   ],
   "source": [
    "# Each list/array has value and index\n",
    "# If you want to iterate values\n",
    "elements = ['a', 'b', 'c', 'd']\n",
    "\n",
    "for e in elements:\n",
    "    print(e)\n",
    "    \n",
    "# if you want to keep track of index\n",
    "cnt = 0\n",
    "for e in elements:\n",
    "    print(cnt)\n",
    "    cnt+=1\n",
    "\n",
    "# enumerate enables you to iterate on index and value\n",
    "for i, e in enumerate(elements):\n",
    "    print(i, ' ', e)\n",
    "    \n",
    "# Use case: you can create a dict/map\n",
    "mapping = {}\n",
    "for i, e in enumerate(elements):\n",
    "    mapping[e] = i\n",
    "print(mapping)\n",
    "\n",
    "# Now you can iterate over the keys, vals of the dict \n",
    "for key, val in enumerate(mapping):\n",
    "    print(key, ' ', val)\n",
    "    \n",
    "# You can mix enumerate and zip\n",
    "data = ['A', 'BB', 'AB']\n",
    "targets = [0, 1, 2]\n",
    "\n",
    "# To loop on paired sample and target:\n",
    "for i, (sample, target) in enumerate(zip(data, targets)):\n",
    "    print('Index: ', i, ', sample: ', sample, ', target: ', target)"
   ]
  },
  {
   "cell_type": "code",
   "execution_count": 62,
   "metadata": {},
   "outputs": [
    {
     "name": "stdout",
     "output_type": "stream",
     "text": [
      "val 1\n",
      "dict_keys(['key 1', 'key 2', 'key 3'])\n",
      "dict_values(['val 1', 'val 2', 'val 3'])\n",
      "dict_items([('key 1', 'val 1'), ('key 2', 'val 2'), ('key 3', 'val 3')])\n",
      "key:  0 , value:  key 1\n",
      "key:  1 , value:  key 2\n",
      "key:  2 , value:  key 3\n",
      "key:  key 1 , value:  val 1\n",
      "key:  key 2 , value:  val 2\n",
      "key:  key 3 , value:  val 3\n",
      "True\n",
      "True\n",
      "False\n",
      "True\n"
     ]
    },
    {
     "data": {
      "text/plain": [
       "dict_keys(['key 1', 'key 2', 'key 3'])"
      ]
     },
     "execution_count": 62,
     "metadata": {},
     "output_type": "execute_result"
    }
   ],
   "source": [
    "# Dict\n",
    "\n",
    "# Hash map --> key, value\n",
    "d = {'key 1': 'val 1', 'key 2': 'val 2', 'key 3': 'val 3'}\n",
    "print(d['key 1'])\n",
    "print(d.keys())# ALL keys--> used to loop on keys\n",
    "print(d.values())# values--> used to loop on values\n",
    "print(d.items())# Typle of keys and vals --> used to loop on both keys and vals\n",
    "\n",
    "# To loop on both keys and vals\n",
    "for key, val in enumerate(d):\n",
    "    print('key: ', key, ', value: ', val)# INCORRECT --> gives you index not key, while the val is the key\n",
    "    \n",
    "# OR\n",
    "for key, val in d.items():\n",
    "    print('key: ', key, ', value: ', val)\n",
    "\n",
    "# Check a key in a dict\n",
    "print('key 1' in d)\n",
    "print('key 1' in d.keys())# Same\n",
    "\n",
    "# Check a key in a dict\n",
    "print('val 1' in d)# Wrong\n",
    "print('val 1' in d.values())\n",
    "d.keys()\n"
   ]
  },
  {
   "cell_type": "markdown",
   "metadata": {},
   "source": [
    "It’s common to occasionally end up with two sequences that you want to pair up\n",
    "element-wise in a dict. As a first cut, you might write code like this:"
   ]
  },
  {
   "cell_type": "code",
   "execution_count": 65,
   "metadata": {},
   "outputs": [
    {
     "name": "stdout",
     "output_type": "stream",
     "text": [
      "{'k1': 'v1', 'k2': 'v2', 'k3': 'v3'}\n"
     ]
    }
   ],
   "source": [
    "mapping = {}\n",
    "key_list = ['k1', 'k2', 'k3']\n",
    "value_list = ['v1', 'v2', 'v3']\n",
    "for key, value in zip(key_list, value_list):\n",
    "    mapping[key] = value\n",
    "print(mapping)"
   ]
  },
  {
   "cell_type": "markdown",
   "metadata": {},
   "source": [
    "Since a dict is essentially a collection of 2-tuples, the dict function accepts a list of\n",
    "2-tuples:"
   ]
  },
  {
   "cell_type": "code",
   "execution_count": 66,
   "metadata": {},
   "outputs": [
    {
     "name": "stdout",
     "output_type": "stream",
     "text": [
      "{'k1': 'v1', 'k2': 'v2', 'k3': 'v3'}\n"
     ]
    }
   ],
   "source": [
    "mapping = dict(zip(key_list, value_list))\n",
    "print(mapping)"
   ]
  },
  {
   "cell_type": "markdown",
   "metadata": {},
   "source": [
    "It’s very common to have logic like:"
   ]
  },
  {
   "cell_type": "code",
   "execution_count": 67,
   "metadata": {},
   "outputs": [
    {
     "name": "stdout",
     "output_type": "stream",
     "text": [
      "0\n"
     ]
    }
   ],
   "source": [
    "key = 'k4'\n",
    "default_value = 0\n",
    "if key in mapping:\n",
    "    value = mapping[k]\n",
    "else:\n",
    "    value = default_value\n",
    "    \n",
    "print(default_value)"
   ]
  },
  {
   "cell_type": "code",
   "execution_count": 68,
   "metadata": {},
   "outputs": [
    {
     "name": "stdout",
     "output_type": "stream",
     "text": [
      "0\n"
     ]
    }
   ],
   "source": [
    "value = mapping.get(key, default_value)\n",
    "print(default_value)"
   ]
  },
  {
   "cell_type": "code",
   "execution_count": 69,
   "metadata": {},
   "outputs": [
    {
     "data": {
      "text/plain": [
       "{1, 2, 3}"
      ]
     },
     "execution_count": 69,
     "metadata": {},
     "output_type": "execute_result"
    }
   ],
   "source": [
    "# set\n",
    "# Unordered, unique elements\n",
    "# A set is a dict with only keys, but no values\n",
    "set([2, 2, 2, 1, 3, 3])"
   ]
  },
  {
   "cell_type": "code",
   "execution_count": 70,
   "metadata": {},
   "outputs": [
    {
     "data": {
      "text/plain": [
       "{1, 2, 3}"
      ]
     },
     "execution_count": 70,
     "metadata": {},
     "output_type": "execute_result"
    }
   ],
   "source": [
    "# Set lateral\n",
    "{2, 2, 2, 1, 3, 3}"
   ]
  },
  {
   "cell_type": "markdown",
   "metadata": {},
   "source": [
    "Sets support mathematical set operations like union, intersection, difference, and\n",
    "symmetric difference. Consider these two example sets"
   ]
  },
  {
   "cell_type": "code",
   "execution_count": 81,
   "metadata": {},
   "outputs": [
    {
     "name": "stdout",
     "output_type": "stream",
     "text": [
      "{1, 2, 3, 4, 5, 6, 7, 8}\n",
      "{1, 2, 3, 4, 5, 6, 7, 8}\n",
      "{1, 2, 3, 4, 5}\n",
      "{3, 4, 5}\n",
      "{3, 4, 5, 6, 7, 8}\n",
      "{3, 4, 5}\n"
     ]
    }
   ],
   "source": [
    "a = {1, 2, 3, 4, 5}\n",
    "b = {3, 4, 5, 6, 7, 8}\n",
    "\n",
    "print(a.union(b))\n",
    "print(a | b)\n",
    "print(a or b)\n",
    "print(a.intersection(b))\n",
    "print(a and b)\n",
    "print(a & b)\n",
    "\n"
   ]
  },
  {
   "cell_type": "markdown",
   "metadata": {},
   "source": [
    "# List, Set, and Dict Comprehensions\n",
    "## List comprehensions\n",
    "\n",
    "    [expr for val in collection if condition]\n",
    "\n",
    "Equivalent to :\n",
    "\n",
    "    result = []\n",
    "    for val in collection:\n",
    "        if condition:\n",
    "            result.append(expr)"
   ]
  },
  {
   "cell_type": "code",
   "execution_count": 83,
   "metadata": {},
   "outputs": [
    {
     "data": {
      "text/plain": [
       "['BAT', 'CAR', 'DOVE', 'PYTHON']"
      ]
     },
     "execution_count": 83,
     "metadata": {},
     "output_type": "execute_result"
    }
   ],
   "source": [
    "strings = ['a', 'as', 'bat', 'car', 'dove', 'python']\n",
    "[x.upper() for x in strings if len(x) > 2]\n",
    "l = [x.upper() for x in strings if len(x) > 2]\n",
    "l"
   ]
  },
  {
   "cell_type": "markdown",
   "metadata": {},
   "source": [
    "## Dict comprehensions\n",
    "    dict_comp = {key-expr : value-expr for value in collection if condition}"
   ]
  },
  {
   "cell_type": "code",
   "execution_count": 89,
   "metadata": {},
   "outputs": [
    {
     "name": "stdout",
     "output_type": "stream",
     "text": [
      "{'k1': 'v1', 'k3': 'v3'}\n"
     ]
    }
   ],
   "source": [
    "key_list = ['k1', 'k2', 'k3']\n",
    "value_list = ['v1', 'v2', 'v3']\n",
    "mapping = {key : val for key, val in zip(key_list, value_list) if key != 'k2'}# Remove k2\n",
    "print(mapping)"
   ]
  }
 ],
 "metadata": {
  "anaconda-cloud": {},
  "kernelspec": {
   "display_name": "Python 3",
   "language": "python",
   "name": "python3"
  },
  "language_info": {
   "codemirror_mode": {
    "name": "ipython",
    "version": 3
   },
   "file_extension": ".py",
   "mimetype": "text/x-python",
   "name": "python",
   "nbconvert_exporter": "python",
   "pygments_lexer": "ipython3",
   "version": "3.6.5"
  }
 },
 "nbformat": 4,
 "nbformat_minor": 1
}
