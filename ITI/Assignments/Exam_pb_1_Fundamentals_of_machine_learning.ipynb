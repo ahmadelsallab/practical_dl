{
  "nbformat": 4,
  "nbformat_minor": 0,
  "metadata": {
    "colab": {
      "name": "Exam_pb 1_Fundamentals of machine learning.ipynb",
      "version": "0.3.2",
      "provenance": []
    },
    "kernelspec": {
      "display_name": "Python 3",
      "language": "python",
      "name": "python3"
    }
  },
  "cells": [
    {
      "cell_type": "markdown",
      "metadata": {
        "id": "3qVFFJ7xu4_f",
        "colab_type": "text"
      },
      "source": [
        "#<font color='red'>Question 1</font> \n",
        "__Describe the difference between AI, ML,  DL?__\n",
        "\n"
      ]
    },
    {
      "cell_type": "markdown",
      "metadata": {
        "id": "m2mfiJrfwYBc",
        "colab_type": "text"
      },
      "source": [
        ""
      ]
    },
    {
      "cell_type": "markdown",
      "metadata": {
        "id": "q_udUG0BS0ow",
        "colab_type": "text"
      },
      "source": [
        "#<font color='red'>Question 2</font> \n",
        "#What are the branches of ML, and describe each\n"
      ]
    },
    {
      "cell_type": "markdown",
      "metadata": {
        "id": "tpdW7CSisWmq",
        "colab_type": "text"
      },
      "source": [
        ""
      ]
    },
    {
      "cell_type": "markdown",
      "metadata": {
        "id": "bHsriQ9mS0oz",
        "colab_type": "text"
      },
      "source": [
        "#<font color='red'>Question 3</font> \n",
        "__Describe each of the following terms:__\n",
        "\n",
        "## Write your answer next to each of them after double clicking the cell:\n",
        "\n",
        "- __Sample or input__\n",
        "\n",
        "\n",
        "- __Prediction or output__\n",
        "\n",
        "- __Target or Label__\n",
        "\n",
        "- __Prediction error or loss value__\n",
        "\n",
        "- __Classes__\n",
        "\n",
        "- __Ground-truth or annotations__\n",
        "\n",
        "- __Binary classification__\n",
        "\n",
        "- __Multiclass classification__\n",
        "\n",
        "- __Multilabel classification__\n",
        "\n",
        "- __Scalar regression__\n",
        "\n",
        "- __Vector regression__\n",
        "\n",
        "- __Mini-batch or batch__\n"
      ]
    },
    {
      "cell_type": "markdown",
      "metadata": {
        "id": "HxDAkbkZ3Wsa",
        "colab_type": "text"
      },
      "source": [
        ""
      ]
    },
    {
      "cell_type": "markdown",
      "metadata": {
        "id": "vo2xHhk6sjb1",
        "colab_type": "text"
      },
      "source": [
        "#<font color='red'>Question 4</font> \n",
        "\n",
        "__What is the difference between Classification and Regression?__"
      ]
    },
    {
      "cell_type": "markdown",
      "metadata": {
        "id": "7PvVynmwslGP",
        "colab_type": "text"
      },
      "source": [
        ""
      ]
    },
    {
      "cell_type": "markdown",
      "metadata": {
        "id": "Bi1Zd-HXS0o3",
        "colab_type": "text"
      },
      "source": [
        "#<font color='red'>Question 5</font> \n",
        "__How do you evaluate ML model? Describe the protocol and the datasets types needed__\n"
      ]
    },
    {
      "cell_type": "markdown",
      "metadata": {
        "id": "2aGToqFGtyE-",
        "colab_type": "text"
      },
      "source": [
        ""
      ]
    },
    {
      "cell_type": "markdown",
      "metadata": {
        "colab_type": "text",
        "id": "g4Bs1AuYuDZs"
      },
      "source": [
        "#<font color='red'>Question 6 </font> \n",
        "__Why we need a validation set? Describe different spliting methods of data__\n",
        "\n",
        "__When you need to use cross validation?__\n"
      ]
    },
    {
      "cell_type": "markdown",
      "metadata": {
        "id": "AyIh5C9auTL-",
        "colab_type": "text"
      },
      "source": [
        ""
      ]
    },
    {
      "cell_type": "markdown",
      "metadata": {
        "colab_type": "text",
        "id": "2_yAOhmRw2bv"
      },
      "source": [
        "#<font color='red'>Question 7</font> \n",
        "__What is the difference between overfitting and underfitting?__\n"
      ]
    },
    {
      "cell_type": "markdown",
      "metadata": {
        "colab_type": "text",
        "id": "KzftlAJMw2IG"
      },
      "source": [
        ""
      ]
    },
    {
      "cell_type": "markdown",
      "metadata": {
        "id": "7ok_shcjvSyD",
        "colab_type": "text"
      },
      "source": [
        "#<font color='red'>Question 8</font> \n",
        "\n",
        "\n",
        "__Mention the five steps to avoid overfitting__"
      ]
    },
    {
      "cell_type": "markdown",
      "metadata": {
        "id": "amQ1JjGiwD1m",
        "colab_type": "text"
      },
      "source": [
        ""
      ]
    },
    {
      "cell_type": "markdown",
      "metadata": {
        "id": "hQ-SlvpCwFel",
        "colab_type": "text"
      },
      "source": [
        "#<font color='red'>Question 9</font> \n",
        "\n",
        "__Mention the 7 steps of universal ML workflow__"
      ]
    },
    {
      "cell_type": "markdown",
      "metadata": {
        "id": "blfXHVShvSUg",
        "colab_type": "text"
      },
      "source": [
        ""
      ]
    },
    {
      "cell_type": "markdown",
      "metadata": {
        "id": "rPdF7oOyxadp",
        "colab_type": "text"
      },
      "source": [
        "#<font color='red'>Question 10</font> \n",
        "\n",
        "__For each of the following problem types, mention the proper loss function and output activation:__\n",
        "\n",
        "- Binary classification\n",
        "\n",
        "- Multi-class, single label classification\n",
        "\n",
        "- Multi-class, multi label classification\n",
        "\n",
        "- Regression with arbitrary output\n",
        "\n",
        "- Regreression with (0,1) output"
      ]
    },
    {
      "cell_type": "markdown",
      "metadata": {
        "id": "-ksirEqw3VgJ",
        "colab_type": "text"
      },
      "source": [
        ""
      ]
    },
    {
      "cell_type": "markdown",
      "metadata": {
        "id": "zNhNzeQzyRnD",
        "colab_type": "text"
      },
      "source": [
        "#<font color='red'>Question 11</font> \n",
        "\n",
        "__Describe the Convolution layers in brief, their advantages over Dense, and when to use them?__\n"
      ]
    },
    {
      "cell_type": "markdown",
      "metadata": {
        "id": "VjjOatjTybhb",
        "colab_type": "text"
      },
      "source": [
        ""
      ]
    },
    {
      "cell_type": "markdown",
      "metadata": {
        "id": "kmwNZ1Jw1hqW",
        "colab_type": "text"
      },
      "source": [
        "#<font color='red'>Question 12</font> \n",
        "\n",
        "__What are the main design parameters to Conv2D layers?__"
      ]
    },
    {
      "cell_type": "markdown",
      "metadata": {
        "id": "Pk89jLYM1huf",
        "colab_type": "text"
      },
      "source": [
        ""
      ]
    },
    {
      "cell_type": "markdown",
      "metadata": {
        "id": "XSA9Y13Kycgc",
        "colab_type": "text"
      },
      "source": [
        "#<font color='red'>Question 13</font> \n",
        "\n",
        "__Roughtly, how many training examples you need for K-classes classification problem?__\n",
        "\n",
        "__What would you do if you have small of insuffuicient data?__"
      ]
    },
    {
      "cell_type": "markdown",
      "metadata": {
        "id": "__cUPShYzCtQ",
        "colab_type": "text"
      },
      "source": [
        ""
      ]
    },
    {
      "cell_type": "markdown",
      "metadata": {
        "id": "uaxQTk3BzEQc",
        "colab_type": "text"
      },
      "source": [
        "#<font color='red'>Question 14</font> \n",
        "\n",
        "You have a pre-trained ConvNet (conv_base), and you want to use transfer learning from that model to your problem.\n",
        "\n",
        "__What are the different Transfer Learning scenarios you can use the pre-trained ConvNet with your model?__\n",
        "\n"
      ]
    },
    {
      "cell_type": "markdown",
      "metadata": {
        "id": "6HjtqIMK0xP1",
        "colab_type": "text"
      },
      "source": [
        ""
      ]
    },
    {
      "cell_type": "markdown",
      "metadata": {
        "id": "tcd_-ts70wit",
        "colab_type": "text"
      },
      "source": [
        "#<font color='red'>Question 15</font> \n",
        "\n",
        "You think to fine tune the conv_base.\n",
        "\n",
        "\n",
        "__How do you decide what type of transfer learning you should perform on a new dataset?__\n"
      ]
    },
    {
      "cell_type": "markdown",
      "metadata": {
        "id": "SOf4zxtZ1Vat",
        "colab_type": "text"
      },
      "source": [
        ""
      ]
    }
  ]
}