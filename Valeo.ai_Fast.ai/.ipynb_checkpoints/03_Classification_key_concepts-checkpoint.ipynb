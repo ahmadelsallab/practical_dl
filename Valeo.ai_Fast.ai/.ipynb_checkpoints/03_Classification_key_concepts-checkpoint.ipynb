{
 "cells": [
  {
   "cell_type": "markdown",
   "metadata": {
    "colab_type": "text",
    "id": "hxp9XboFNOxJ"
   },
   "source": [
    "# Lesson 3: \n",
    "- Video >> https://youtu.be/9C06ZPF8Uuc\n",
    "- wiki >> http://forums.fast.ai/t/wiki-lesson-3/9401\n",
    "- Lesson notes >> https://medium.com/@hiromi_suenaga/deep-learning-2-part-1-lesson-3-74b0ef79e56"
   ]
  },
  {
   "cell_type": "code",
   "execution_count": 0,
   "metadata": {
    "colab": {},
    "colab_type": "code",
    "id": "gsTTLtm1NQlM"
   },
   "outputs": [],
   "source": []
  },
  {
   "cell_type": "code",
   "execution_count": 0,
   "metadata": {
    "colab": {},
    "colab_type": "code",
    "id": "kb2fpebUNQ2m"
   },
   "outputs": [],
   "source": []
  },
  {
   "cell_type": "markdown",
   "metadata": {
    "colab_type": "text",
    "id": "FgwWzRfjNOxK"
   },
   "source": [
    "There is no practical work in this lesson but please, watch carefully the video as there are important notions and their theory introduced:\n",
    "- What is a **convolution**\n",
    "- What is **ReLu**\n",
    "- What is a **SoftMax**\n",
    "- What **activation function** to use in case of binary classification or multi-label classification: **SoftMax** vs **Sigmoid**"
   ]
  }
 ],
 "metadata": {
  "colab": {
   "name": "03_Classification_key_concepts.ipynb",
   "provenance": [],
   "version": "0.3.2"
  },
  "kernelspec": {
   "display_name": "Python 3",
   "language": "python",
   "name": "python3"
  },
  "language_info": {
   "codemirror_mode": {
    "name": "ipython",
    "version": 3
   },
   "file_extension": ".py",
   "mimetype": "text/x-python",
   "name": "python",
   "nbconvert_exporter": "python",
   "pygments_lexer": "ipython3",
   "version": "3.6.5"
  }
 },
 "nbformat": 4,
 "nbformat_minor": 1
}
