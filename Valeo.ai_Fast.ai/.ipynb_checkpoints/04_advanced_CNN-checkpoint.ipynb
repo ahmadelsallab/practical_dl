{
 "cells": [
  {
   "cell_type": "markdown",
   "metadata": {
    "colab_type": "text",
    "id": "YZ8kIhMzWOmt"
   },
   "source": [
    "# Lesson 4: CNN from scratch\n",
    "- Video >> https://www.youtube.com/watch?v=H3g26EVADgY&t=4377s\n",
    "- wiki >> http://forums.fast.ai/t/wiki-lesson-7/9405\n",
    "- Lesson notes >> https://medium.com/@hiromi_suenaga/deep-learning-2-part-1-lesson-7-1b9503aff0c\n",
    "\n",
    "The objective of this lesson is to dig deeper into a CNN. We saw up to now different building blocks like a convolution, ReLu, DropOut... Let's design ourself from scratch our own CNN and understand why it works like this and how to improve!"
   ]
  },
  {
   "cell_type": "code",
   "execution_count": 1,
   "metadata": {
    "colab": {
     "base_uri": "https://localhost:8080/",
     "height": 632
    },
    "colab_type": "code",
    "executionInfo": {
     "elapsed": 14829,
     "status": "ok",
     "timestamp": 1544092219070,
     "user": {
      "displayName": "Alexandre BRIOT",
      "photoUrl": "",
      "userId": "14239098906299914061"
     },
     "user_tz": -60
    },
    "id": "rw4H5LMbkI1o",
    "outputId": "119c3bb2-cba6-4604-d4bb-c66aecd57dce"
   },
   "outputs": [
    {
     "name": "stdout",
     "output_type": "stream",
     "text": [
      "Collecting git+https://github.com/keras-team/keras.git\n",
      "  Cloning https://github.com/keras-team/keras.git to /tmp/pip-req-build-o1nllriq\n",
      "Collecting git+https://github.com/valeoai/dl_utils.git\n",
      "  Cloning https://github.com/valeoai/dl_utils.git to /tmp/pip-req-build-t2pno3wt\n",
      "Collecting imageio\n",
      "\u001b[?25l  Downloading https://files.pythonhosted.org/packages/28/b4/cbb592964dfd71a9de6a5b08f882fd334fb99ae09ddc82081dbb2f718c81/imageio-2.4.1.tar.gz (3.3MB)\n",
      "\u001b[K    100% |████████████████████████████████| 3.3MB 1.4MB/s \n",
      "\u001b[?25hRequirement already satisfied, skipping upgrade: numpy>=1.9.1 in /usr/local/lib/python3.6/dist-packages (from Keras==2.2.4) (1.14.6)\n",
      "Requirement already satisfied, skipping upgrade: scipy>=0.14 in /usr/local/lib/python3.6/dist-packages (from Keras==2.2.4) (1.1.0)\n",
      "Requirement already satisfied, skipping upgrade: six>=1.9.0 in /usr/local/lib/python3.6/dist-packages (from Keras==2.2.4) (1.11.0)\n",
      "Requirement already satisfied, skipping upgrade: pyyaml in /usr/local/lib/python3.6/dist-packages (from Keras==2.2.4) (3.13)\n",
      "Requirement already satisfied, skipping upgrade: h5py in /usr/local/lib/python3.6/dist-packages (from Keras==2.2.4) (2.8.0)\n",
      "Requirement already satisfied, skipping upgrade: keras_applications>=1.0.6 in /usr/local/lib/python3.6/dist-packages (from Keras==2.2.4) (1.0.6)\n",
      "Requirement already satisfied, skipping upgrade: keras_preprocessing>=1.0.5 in /usr/local/lib/python3.6/dist-packages (from Keras==2.2.4) (1.0.5)\n",
      "Requirement already satisfied, skipping upgrade: matplotlib in /usr/local/lib/python3.6/dist-packages (from dl-utils==0.1) (2.1.2)\n",
      "Requirement already satisfied, skipping upgrade: scikit-learn in /usr/local/lib/python3.6/dist-packages (from dl-utils==0.1) (0.19.2)\n",
      "Requirement already satisfied, skipping upgrade: pillow in /usr/local/lib/python3.6/dist-packages (from imageio) (4.0.0)\n",
      "Requirement already satisfied, skipping upgrade: python-dateutil>=2.1 in /usr/local/lib/python3.6/dist-packages (from matplotlib->dl-utils==0.1) (2.5.3)\n",
      "Requirement already satisfied, skipping upgrade: cycler>=0.10 in /usr/local/lib/python3.6/dist-packages (from matplotlib->dl-utils==0.1) (0.10.0)\n",
      "Requirement already satisfied, skipping upgrade: pyparsing!=2.0.4,!=2.1.2,!=2.1.6,>=2.0.1 in /usr/local/lib/python3.6/dist-packages (from matplotlib->dl-utils==0.1) (2.3.0)\n",
      "Requirement already satisfied, skipping upgrade: pytz in /usr/local/lib/python3.6/dist-packages (from matplotlib->dl-utils==0.1) (2018.7)\n",
      "Requirement already satisfied, skipping upgrade: olefile in /usr/local/lib/python3.6/dist-packages (from pillow->imageio) (0.46)\n",
      "Building wheels for collected packages: imageio, Keras, dl-utils\n",
      "  Running setup.py bdist_wheel for imageio ... \u001b[?25l-\b \b\\\b \b|\b \b/\b \bdone\n",
      "\u001b[?25h  Stored in directory: /root/.cache/pip/wheels/e0/43/31/605de9372ceaf657f152d3d5e82f42cf265d81db8bbe63cde1\n",
      "  Running setup.py bdist_wheel for Keras ... \u001b[?25l-\b \b\\\b \bdone\n",
      "\u001b[?25h  Stored in directory: /tmp/pip-ephem-wheel-cache-5uqzqwcp/wheels/da/a4/7e/6b7bd9af18cc2e23b8dd5ed6de07a7e13bd80a17214eb88932\n",
      "  Running setup.py bdist_wheel for dl-utils ... \u001b[?25l-\b \bdone\n",
      "\u001b[?25h  Stored in directory: /tmp/pip-ephem-wheel-cache-5uqzqwcp/wheels/71/ad/e4/ef0ed3b20fc1828e7eb4b7fddc4342ae6a7672d62fa2b89c6a\n",
      "Successfully built imageio Keras dl-utils\n",
      "Installing collected packages: imageio, Keras, dl-utils\n",
      "  Found existing installation: Keras 2.2.4\n",
      "    Uninstalling Keras-2.2.4:\n",
      "      Successfully uninstalled Keras-2.2.4\n",
      "Successfully installed Keras-2.2.4 dl-utils-0.1 imageio-2.4.1\n"
     ]
    }
   ],
   "source": [
    "! pip install --upgrade git+https://github.com/keras-team/keras.git \\\n",
    "                        git+https://github.com/valeoai/dl_utils.git \\\n",
    "                        imageio"
   ]
  },
  {
   "cell_type": "markdown",
   "metadata": {
    "colab_type": "text",
    "id": "4WUbjP4dWOmu"
   },
   "source": [
    "## CIFAR 10"
   ]
  },
  {
   "cell_type": "code",
   "execution_count": 2,
   "metadata": {
    "colab": {
     "base_uri": "https://localhost:8080/",
     "height": 34
    },
    "colab_type": "code",
    "executionInfo": {
     "elapsed": 16057,
     "status": "ok",
     "timestamp": 1544092220323,
     "user": {
      "displayName": "Alexandre BRIOT",
      "photoUrl": "",
      "userId": "14239098906299914061"
     },
     "user_tz": -60
    },
    "id": "bmnUxYrOWOmw",
    "outputId": "4bb359bf-c86d-4674-a52a-19dbb559f557"
   },
   "outputs": [
    {
     "name": "stderr",
     "output_type": "stream",
     "text": [
      "Using TensorFlow backend.\n"
     ]
    }
   ],
   "source": [
    "# standard lib we need!\n",
    "import os\n",
    "from pathlib import Path # lib to handle filesystem paths with semantics appropriate for different OS\n",
    "import matplotlib.pyplot as plt # Matplotlib is a plotting library for the Python but it has also some IO functions\n",
    "import numpy as np \n",
    "import keras\n",
    "from keras.preprocessing.image import ImageDataGenerator\n",
    "from keras.models import Sequential\n",
    "from keras import optimizers\n",
    "from dlutils import LRFinder\n",
    "from dlutils import SGDRScheduler"
   ]
  },
  {
   "cell_type": "markdown",
   "metadata": {
    "colab_type": "text",
    "id": "TSoSc3DzWOm5"
   },
   "source": [
    "CIFAR10 Dataset is already included in Keras.datasets, you just need to import it, quite easy!"
   ]
  },
  {
   "cell_type": "code",
   "execution_count": 3,
   "metadata": {
    "colab": {
     "base_uri": "https://localhost:8080/",
     "height": 102
    },
    "colab_type": "code",
    "executionInfo": {
     "elapsed": 35133,
     "status": "ok",
     "timestamp": 1544092239419,
     "user": {
      "displayName": "Alexandre BRIOT",
      "photoUrl": "",
      "userId": "14239098906299914061"
     },
     "user_tz": -60
    },
    "id": "cQ4bQtVEWOm6",
    "outputId": "0e9c0dcd-81ef-4544-aee7-0be47083a76e"
   },
   "outputs": [
    {
     "name": "stdout",
     "output_type": "stream",
     "text": [
      "Downloading data from https://www.cs.toronto.edu/~kriz/cifar-10-python.tar.gz\n",
      "170500096/170498071 [==============================] - 16s 0us/step\n",
      "X_train shape: (50000, 32, 32, 3)\n",
      "50000 train samples\n",
      "10000 test samples\n"
     ]
    }
   ],
   "source": [
    "from keras.datasets import cifar10\n",
    "\n",
    "# The data, split between train and test sets:\n",
    "(X_train, Y_train), (X_test, Y_test) = cifar10.load_data()\n",
    "X_CIFAR = X_test\n",
    "Y_CIFAR = Y_test\n",
    "print('X_train shape:', X_train.shape)\n",
    "print(X_train.shape[0], 'train samples')\n",
    "print(X_test.shape[0], 'test samples')"
   ]
  },
  {
   "cell_type": "markdown",
   "metadata": {
    "colab_type": "text",
    "id": "u7sNDE4lWOm9"
   },
   "source": [
    "### Look at the data"
   ]
  },
  {
   "cell_type": "code",
   "execution_count": 4,
   "metadata": {
    "colab": {
     "base_uri": "https://localhost:8080/",
     "height": 209
    },
    "colab_type": "code",
    "executionInfo": {
     "elapsed": 36915,
     "status": "ok",
     "timestamp": 1544092241212,
     "user": {
      "displayName": "Alexandre BRIOT",
      "photoUrl": "",
      "userId": "14239098906299914061"
     },
     "user_tz": -60
    },
    "id": "7xWIVRE5WOm9",
    "outputId": "f8ed95f8-46a0-4d17-965e-adf8337497bb"
   },
   "outputs": [
    {
     "data": {
      "image/png": "[encoded data removed]",
      "text/plain": [
       "<matplotlib.figure.Figure at 0x7f3b0e0a4908>"
      ]
     },
     "metadata": {
      "tags": []
     },
     "output_type": "display_data"
    }
   ],
   "source": [
    "nb_classes = 10\n",
    "class_names = ('plane', 'car', 'bird', 'cat', 'deer', 'dog', 'frog', 'horse', 'ship', 'truck')\n",
    "\n",
    "fig = plt.figure(figsize=(8,3))\n",
    "for i in range(nb_classes):\n",
    "    ax = fig.add_subplot(2, 5, 1 + i, xticks=[], yticks=[])\n",
    "    idx = np.where(Y_train[:]==i)[0]\n",
    "    im = X_train[idx[0]]\n",
    "    ax.set_title(class_names[i])\n",
    "    plt.imshow(im)\n",
    "plt.show()"
   ]
  },
  {
   "cell_type": "markdown",
   "metadata": {
    "colab_type": "text",
    "id": "LViJ0gRDWOnB"
   },
   "source": [
    "## Fully connected model"
   ]
  },
  {
   "cell_type": "code",
   "execution_count": 0,
   "metadata": {
    "colab": {},
    "colab_type": "code",
    "id": "H-jZLFUyWOnB"
   },
   "outputs": [],
   "source": [
    "from keras.models import Sequential\n",
    "from keras.layers import Dense, Dropout, Activation, Flatten\n",
    "\n",
    "def SimpleNet():\n",
    "    model = Sequential()\n",
    "    model.add(Dense(40, input_shape=(32*32*3,)))\n",
    "    model.add(Dense(10))\n",
    "    model.add(Activation('softmax'))\n",
    "    \n",
    "    return model"
   ]
  },
  {
   "cell_type": "code",
   "execution_count": 6,
   "metadata": {
    "colab": {
     "base_uri": "https://localhost:8080/",
     "height": 238
    },
    "colab_type": "code",
    "executionInfo": {
     "elapsed": 36901,
     "status": "ok",
     "timestamp": 1544092241219,
     "user": {
      "displayName": "Alexandre BRIOT",
      "photoUrl": "",
      "userId": "14239098906299914061"
     },
     "user_tz": -60
    },
    "id": "kmdFEa6ZWOnD",
    "outputId": "c90c21ca-0b78-44f8-b8a0-775bc53806ff"
   },
   "outputs": [
    {
     "name": "stdout",
     "output_type": "stream",
     "text": [
      "_________________________________________________________________\n",
      "Layer (type)                 Output Shape              Param #   \n",
      "=================================================================\n",
      "dense_1 (Dense)              (None, 40)                122920    \n",
      "_________________________________________________________________\n",
      "dense_2 (Dense)              (None, 10)                410       \n",
      "_________________________________________________________________\n",
      "activation_1 (Activation)    (None, 10)                0         \n",
      "=================================================================\n",
      "Total params: 123,330\n",
      "Trainable params: 123,330\n",
      "Non-trainable params: 0\n",
      "_________________________________________________________________\n"
     ]
    }
   ],
   "source": [
    "net = SimpleNet()\n",
    "net.summary()"
   ]
  },
  {
   "cell_type": "code",
   "execution_count": 0,
   "metadata": {
    "colab": {},
    "colab_type": "code",
    "id": "BHflsqR6WOnG"
   },
   "outputs": [],
   "source": [
    "# we prepare the data to fit with the expected model format: an image is a vector of pixels and some basic preprocessng\n",
    "X_train = X_train.astype('float32')\n",
    "X_test = X_test.astype('float32')\n",
    "X_train /= 255.0\n",
    "X_test /= 255.0\n",
    "\n",
    "X_train_L = X_train.reshape(50000, 32 * 32 * 3)\n",
    "X_test_L = X_test.reshape(10000, 32 * 32 * 3)\n",
    "\n",
    "# instead of providing a 1D vector where a label is a scalar between 0 to nb_classes\n",
    "# we have to provide a vector per label of size nb_classes where only 1 class is activated (9 zeros and only one 1)\n",
    "Y_train = keras.utils.to_categorical(Y_train, nb_classes)\n",
    "Y_test = keras.utils.to_categorical(Y_test, nb_classes)"
   ]
  },
  {
   "cell_type": "code",
   "execution_count": 8,
   "metadata": {
    "colab": {
     "base_uri": "https://localhost:8080/",
     "height": 399
    },
    "colab_type": "code",
    "executionInfo": {
     "elapsed": 42095,
     "status": "ok",
     "timestamp": 1544092246432,
     "user": {
      "displayName": "Alexandre BRIOT",
      "photoUrl": "",
      "userId": "14239098906299914061"
     },
     "user_tz": -60
    },
    "id": "gb77XOBlWOnH",
    "outputId": "da970b81-4a37-46fc-af1a-1aff6790f1ed"
   },
   "outputs": [
    {
     "name": "stdout",
     "output_type": "stream",
     "text": [
      "Epoch 1/1\n",
      "50000/50000 [==============================] - 3s 51us/step - loss: 2.3192 - acc: 0.2318\n"
     ]
    },
    {
     "data": {
      "image/png": "[encoded data removed]",
      "text/plain": [
       "<matplotlib.figure.Figure at 0x7f3b0da3d240>"
      ]
     },
     "metadata": {
      "tags": []
     },
     "output_type": "display_data"
    }
   ],
   "source": [
    "# we launch the learning rate finder\n",
    "batch_size = 128\n",
    "\n",
    "net.compile(optimizer='SGD',loss='categorical_crossentropy', metrics=['accuracy'])\n",
    "# The Loss is categorical_crossentropy as we have more than 2 category!\n",
    "\n",
    "lr_finder = LRFinder(min_lr=1e-4, \n",
    "                     max_lr=1e-1, \n",
    "                     steps_per_epoch=len(X_train)//batch_size)\n",
    "\n",
    "# Fit the model on the batches\n",
    "net.fit(X_train_L, Y_train,batch_size=batch_size,callbacks=[lr_finder])\n",
    "\n",
    "lr_finder.plot_loss()"
   ]
  },
  {
   "cell_type": "code",
   "execution_count": 9,
   "metadata": {
    "colab": {
     "base_uri": "https://localhost:8080/",
     "height": 391
    },
    "colab_type": "code",
    "executionInfo": {
     "elapsed": 60701,
     "status": "ok",
     "timestamp": 1544092265050,
     "user": {
      "displayName": "Alexandre BRIOT",
      "photoUrl": "",
      "userId": "14239098906299914061"
     },
     "user_tz": -60
    },
    "id": "1FMl9M6yWOnL",
    "outputId": "983a1f92-7a98-4320-f14d-d328f5bd76ea"
   },
   "outputs": [
    {
     "name": "stdout",
     "output_type": "stream",
     "text": [
      "Train on 50000 samples, validate on 10000 samples\n",
      "Epoch 1/10\n",
      "50000/50000 [==============================] - 2s 39us/step - loss: 1.8421 - acc: 0.3643 - val_loss: 1.8316 - val_acc: 0.3681\n",
      "Epoch 2/10\n",
      "50000/50000 [==============================] - 2s 37us/step - loss: 1.8218 - acc: 0.3705 - val_loss: 1.8183 - val_acc: 0.3723\n",
      "Epoch 3/10\n",
      "50000/50000 [==============================] - 2s 37us/step - loss: 1.8103 - acc: 0.3751 - val_loss: 1.8083 - val_acc: 0.3765\n",
      "Epoch 4/10\n",
      "50000/50000 [==============================] - 2s 37us/step - loss: 1.8009 - acc: 0.3774 - val_loss: 1.7985 - val_acc: 0.3768\n",
      "Epoch 5/10\n",
      "50000/50000 [==============================] - 2s 37us/step - loss: 1.7934 - acc: 0.3798 - val_loss: 1.7933 - val_acc: 0.3757\n",
      "Epoch 6/10\n",
      "50000/50000 [==============================] - 2s 37us/step - loss: 1.7869 - acc: 0.3814 - val_loss: 1.7886 - val_acc: 0.3813\n",
      "Epoch 7/10\n",
      "50000/50000 [==============================] - 2s 37us/step - loss: 1.7809 - acc: 0.3846 - val_loss: 1.7886 - val_acc: 0.3794\n",
      "Epoch 8/10\n",
      "50000/50000 [==============================] - 2s 37us/step - loss: 1.7758 - acc: 0.3859 - val_loss: 1.7788 - val_acc: 0.3854\n",
      "Epoch 9/10\n",
      "50000/50000 [==============================] - 2s 37us/step - loss: 1.7710 - acc: 0.3890 - val_loss: 1.7760 - val_acc: 0.3835\n",
      "Epoch 10/10\n",
      "50000/50000 [==============================] - 2s 38us/step - loss: 1.7668 - acc: 0.3903 - val_loss: 1.7680 - val_acc: 0.3900\n"
     ]
    },
    {
     "data": {
      "text/plain": [
       "<keras.callbacks.History at 0x7f3b0763e6a0>"
      ]
     },
     "execution_count": 9,
     "metadata": {
      "tags": []
     },
     "output_type": "execute_result"
    }
   ],
   "source": [
    "# we define  few parameters\n",
    "LR = 6e-3\n",
    "nb_epochs = 10\n",
    "\n",
    "sgd = optimizers.SGD(lr=LR)\n",
    "net.compile(optimizer=sgd,loss='categorical_crossentropy', metrics=['accuracy'])\n",
    "# training\n",
    "net.fit(X_train_L, Y_train,\n",
    "          batch_size=batch_size,\n",
    "          epochs=nb_epochs,\n",
    "          verbose=1,\n",
    "          validation_data=(X_test_L, Y_test))"
   ]
  },
  {
   "cell_type": "markdown",
   "metadata": {
    "colab_type": "text",
    "id": "UkOSJ4p3WOnN"
   },
   "source": [
    "<b>Results is pretty bad, we obtained about 40% of accuracy on the test set</b>\n",
    "\n",
    "Actually, it is not a suprised. Indeed, this architecture is pretty inefficient, each pixel has its own weight, resulting to a huge number of parameters, about 100k parameters (32.32.3*40). It is actually a dot product. We are missing some kind of feature extraction --> let's use Convolution for that"
   ]
  },
  {
   "cell_type": "markdown",
   "metadata": {
    "colab_type": "text",
    "id": "UF7_1ZTnWOnN"
   },
   "source": [
    "## Convolutional Model\n",
    "Let's do it a bit deeper and use 2D convolutions.\n",
    "We will start with a standard pattern using a sequence of <b>convolutions >> ReLu >> MaxPooling</b> and finally ending by a fully connected layer and a SoftMax activation (see [here](http://cs231n.github.io/convolutional-networks/#layerpat) for common architecture).\n",
    "\n",
    "<img src=\"https://raw.githubusercontent.com/valeoai/tutorial-images/master/images/04_advanced_CNN/CNN_archi.png\" width=\"80%\">\n",
    "\n",
    "Remember:\n",
    "- Convolution acts like a feature extractor (Linear operation) (see [here](http://cs231n.github.io/convolutional-networks/#conv) for details)\n",
    "- ReLu in a non linear transformation which gives the ability to build complex shapes\n",
    "<img src=\"https://raw.githubusercontent.com/valeoai/tutorial-images/master/images/04_advanced_CNNCNN_archi.png\" width=\"80%\">\n",
    "- MaxPooling is mainly used to reduce the number of parameters, that is to say memory and computation constraints ([here](http://cs231n.github.io/convolutional-networks/#pool) for details) <img src=\"https://raw.githubusercontent.com/valeoai/tutorial-images/master/images//MaxPooling.jpeg\" width=\"50%\">\n",
    "We can either specify how big is the area to use <kbd>MaxPooling2D</kbd> or how big is the output resolution <kbd>GlobalAveragePooling2D</kbd>\n",
    "- Fully Connected Layer, each neuron has full connections to all activations in the previous layer\n",
    "- SoftMax is an activation layer to classify. If we want to predict a value rather than classifying, then we should suppress the SOftMax Layer"
   ]
  },
  {
   "cell_type": "code",
   "execution_count": 0,
   "metadata": {
    "colab": {},
    "colab_type": "code",
    "id": "Hnuu_leDWOnO"
   },
   "outputs": [],
   "source": [
    "from keras.layers import Conv2D, MaxPooling2D,GlobalAveragePooling2D\n",
    "\n",
    "def CNNnet():\n",
    "    model = Sequential()\n",
    "    model.add(Conv2D(32, (5, 5), padding='same',input_shape=X_train.shape[1:]))\n",
    "    model.add(Activation('relu'))\n",
    "   \n",
    "    model.add(Conv2D(32, (3, 3),padding='same',strides=1))\n",
    "    model.add(Activation('relu'))\n",
    "    model.add(MaxPooling2D(pool_size=(2, 2)))\n",
    "\n",
    "    model.add(Conv2D(64, (3, 3), padding='same'))\n",
    "    model.add(Activation('relu'))\n",
    "    \n",
    "    model.add(Conv2D(64, (3, 3),padding='same'))\n",
    "    model.add(Activation('relu'))\n",
    "    \n",
    "    model.add(GlobalAveragePooling2D())\n",
    "               \n",
    "    model.add(Dense(nb_classes))\n",
    "    model.add(Activation('softmax'))    \n",
    "    return model "
   ]
  },
  {
   "cell_type": "markdown",
   "metadata": {
    "colab_type": "text",
    "id": "NJ4TA7WrWOnQ"
   },
   "source": [
    "<b>Trick:</b> first layer usually uses bigger conv size compared to the rest of the network to extract more rich information than the image itself."
   ]
  },
  {
   "cell_type": "code",
   "execution_count": 11,
   "metadata": {
    "colab": {
     "base_uri": "https://localhost:8080/",
     "height": 544
    },
    "colab_type": "code",
    "executionInfo": {
     "elapsed": 60864,
     "status": "ok",
     "timestamp": 1544092265234,
     "user": {
      "displayName": "Alexandre BRIOT",
      "photoUrl": "",
      "userId": "14239098906299914061"
     },
     "user_tz": -60
    },
    "id": "MOSCSdHpWOnQ",
    "outputId": "e444df77-ac96-47cb-8b4b-82db75cd228a"
   },
   "outputs": [
    {
     "name": "stdout",
     "output_type": "stream",
     "text": [
      "_________________________________________________________________\n",
      "Layer (type)                 Output Shape              Param #   \n",
      "=================================================================\n",
      "conv2d_1 (Conv2D)            (None, 32, 32, 32)        2432      \n",
      "_________________________________________________________________\n",
      "activation_2 (Activation)    (None, 32, 32, 32)        0         \n",
      "_________________________________________________________________\n",
      "conv2d_2 (Conv2D)            (None, 32, 32, 32)        9248      \n",
      "_________________________________________________________________\n",
      "activation_3 (Activation)    (None, 32, 32, 32)        0         \n",
      "_________________________________________________________________\n",
      "max_pooling2d_1 (MaxPooling2 (None, 16, 16, 32)        0         \n",
      "_________________________________________________________________\n",
      "conv2d_3 (Conv2D)            (None, 16, 16, 64)        18496     \n",
      "_________________________________________________________________\n",
      "activation_4 (Activation)    (None, 16, 16, 64)        0         \n",
      "_________________________________________________________________\n",
      "conv2d_4 (Conv2D)            (None, 16, 16, 64)        36928     \n",
      "_________________________________________________________________\n",
      "activation_5 (Activation)    (None, 16, 16, 64)        0         \n",
      "_________________________________________________________________\n",
      "global_average_pooling2d_1 ( (None, 64)                0         \n",
      "_________________________________________________________________\n",
      "dense_3 (Dense)              (None, 10)                650       \n",
      "_________________________________________________________________\n",
      "activation_6 (Activation)    (None, 10)                0         \n",
      "=================================================================\n",
      "Total params: 67,754\n",
      "Trainable params: 67,754\n",
      "Non-trainable params: 0\n",
      "_________________________________________________________________\n"
     ]
    }
   ],
   "source": [
    "net2 = CNNnet()\n",
    "net2.summary()"
   ]
  },
  {
   "cell_type": "code",
   "execution_count": 12,
   "metadata": {
    "colab": {
     "base_uri": "https://localhost:8080/",
     "height": 399
    },
    "colab_type": "code",
    "executionInfo": {
     "elapsed": 361300,
     "status": "ok",
     "timestamp": 1544092565679,
     "user": {
      "displayName": "Alexandre BRIOT",
      "photoUrl": "",
      "userId": "14239098906299914061"
     },
     "user_tz": -60
    },
    "id": "s1w0nDOrWOnU",
    "outputId": "5b499b8c-cb8a-4822-c1e6-2cc09f980a75"
   },
   "outputs": [
    {
     "name": "stdout",
     "output_type": "stream",
     "text": [
      "Epoch 1/1\n",
      "50000/50000 [==============================] - 299s 6ms/step - loss: 2.2464 - acc: 0.1425\n"
     ]
    },
    {
     "data": {
      "image/png": "[encoded data removed]",
      "text/plain": [
       "<matplotlib.figure.Figure at 0x7f3b07616940>"
      ]
     },
     "metadata": {
      "tags": []
     },
     "output_type": "display_data"
    }
   ],
   "source": [
    "# As usual, as we don t know which learning rate to use, we then start with a learning rate finder\n",
    "batch_size = 128\n",
    "\n",
    "net2.compile(optimizer='SGD',loss='categorical_crossentropy', metrics=['accuracy'])\n",
    "# The Loss is categorical_crossentropy as we have more than 2 category!\n",
    "\n",
    "lr_finder = LRFinder(min_lr=1e-3, \n",
    "                     max_lr=1e-1, \n",
    "                     steps_per_epoch=len(X_train)//batch_size)\n",
    "\n",
    "# Fit the model on the batches\n",
    "net2.fit(X_train, Y_train,batch_size=batch_size, callbacks=[lr_finder])\n",
    "\n",
    "lr_finder.plot_loss()"
   ]
  },
  {
   "cell_type": "code",
   "execution_count": 0,
   "metadata": {
    "colab": {},
    "colab_type": "code",
    "id": "lZr8bGpDWOnY"
   },
   "outputs": [],
   "source": [
    "# we define  few parameters\n",
    "sgd = optimizers.SGD(lr=2e-2)\n",
    "net2.compile(optimizer=sgd,loss='categorical_crossentropy', metrics=['accuracy'])\n",
    "\n",
    "sgdr = SGDRScheduler(min_lr=1e-3,\n",
    "                     max_lr=1e-1,\n",
    "                     steps_per_epoch=len(X_train)//batch_size,\n",
    "                     lr_decay=0.8,\n",
    "                     number_of_cycle = 3,\n",
    "                     cycle_length=15,\n",
    "                     cycle_mult_factor=1.5)"
   ]
  },
  {
   "cell_type": "code",
   "execution_count": 0,
   "metadata": {
    "colab": {
     "base_uri": "https://localhost:8080/",
     "height": 816
    },
    "colab_type": "code",
    "executionInfo": {
     "elapsed": 63770,
     "status": "error",
     "timestamp": 1543602466108,
     "user": {
      "displayName": "julien rebut",
      "photoUrl": "",
      "userId": "00499212326528792575"
     },
     "user_tz": 300
    },
    "id": "e-xVsaJ0WOnd",
    "outputId": "99856867-8fbf-429e-9e32-cf9fed708a9c"
   },
   "outputs": [
    {
     "name": "stdout",
     "output_type": "stream",
     "text": [
      "Train on 50000 samples, validate on 10000 samples\n",
      "Epoch 1/71\n",
      "50000/50000 [==============================] - 312s 6ms/step - loss: 2.0839 - acc: 0.2116 - val_loss: 2.0171 - val_acc: 0.2270\n",
      "Epoch 2/71\n",
      "50000/50000 [==============================] - 310s 6ms/step - loss: 1.9404 - acc: 0.2702 - val_loss: 2.0418 - val_acc: 0.2556\n",
      "Epoch 3/71\n",
      "50000/50000 [==============================] - 312s 6ms/step - loss: 1.8455 - acc: 0.3078 - val_loss: 1.8210 - val_acc: 0.2823\n",
      "Epoch 4/71\n",
      "50000/50000 [==============================] - 310s 6ms/step - loss: 1.7407 - acc: 0.3518 - val_loss: 1.6684 - val_acc: 0.3891\n",
      "Epoch 5/71\n",
      "50000/50000 [==============================] - 311s 6ms/step - loss: 1.6544 - acc: 0.3904 - val_loss: 1.6109 - val_acc: 0.4033\n",
      "Epoch 6/71\n",
      "50000/50000 [==============================] - 314s 6ms/step - loss: 1.5870 - acc: 0.4190 - val_loss: 1.5455 - val_acc: 0.4277\n",
      "Epoch 7/71\n",
      "50000/50000 [==============================] - 313s 6ms/step - loss: 1.5189 - acc: 0.4475 - val_loss: 1.4549 - val_acc: 0.4622\n",
      "Epoch 8/71\n",
      "50000/50000 [==============================] - 313s 6ms/step - loss: 1.4641 - acc: 0.4662 - val_loss: 1.4126 - val_acc: 0.4890\n",
      "Epoch 9/71\n",
      "50000/50000 [==============================] - 314s 6ms/step - loss: 1.4158 - acc: 0.4883 - val_loss: 1.4205 - val_acc: 0.4842\n",
      "Epoch 10/71\n",
      "50000/50000 [==============================] - 315s 6ms/step - loss: 1.3697 - acc: 0.5087 - val_loss: 1.3500 - val_acc: 0.5171\n",
      "Epoch 11/71\n",
      "50000/50000 [==============================] - 313s 6ms/step - loss: 1.3344 - acc: 0.5197 - val_loss: 1.3143 - val_acc: 0.5301\n",
      "Epoch 12/71\n",
      "50000/50000 [==============================] - 312s 6ms/step - loss: 1.3064 - acc: 0.5320 - val_loss: 1.2882 - val_acc: 0.5391\n",
      "Epoch 13/71\n",
      "50000/50000 [==============================] - 309s 6ms/step - loss: 1.2862 - acc: 0.5396 - val_loss: 1.2738 - val_acc: 0.5453\n",
      "Epoch 14/71\n",
      "50000/50000 [==============================] - 309s 6ms/step - loss: 1.2745 - acc: 0.5444 - val_loss: 1.2685 - val_acc: 0.5472\n",
      "Epoch 15/71\n",
      "50000/50000 [==============================] - 316s 6ms/step - loss: 1.2695 - acc: 0.5457 - val_loss: 1.2669 - val_acc: 0.5476\n",
      "Epoch 16/71\n",
      "50000/50000 [==============================] - 313s 6ms/step - loss: 1.5426 - acc: 0.4492 - val_loss: 1.4057 - val_acc: 0.4922\n",
      "Epoch 17/71\n",
      "50000/50000 [==============================] - 316s 6ms/step - loss: 1.4021 - acc: 0.4952 - val_loss: 1.3194 - val_acc: 0.5318\n",
      "Epoch 18/71\n",
      "50000/50000 [==============================] - 315s 6ms/step - loss: 1.3546 - acc: 0.5155 - val_loss: 1.4048 - val_acc: 0.4895\n",
      "Epoch 19/71\n",
      "50000/50000 [==============================] - 315s 6ms/step - loss: 1.3093 - acc: 0.5301 - val_loss: 1.2774 - val_acc: 0.5458\n",
      "Epoch 20/71\n",
      "50000/50000 [==============================] - 316s 6ms/step - loss: 1.2694 - acc: 0.5454 - val_loss: 1.2667 - val_acc: 0.5442\n",
      "Epoch 21/71\n",
      "50000/50000 [==============================] - 317s 6ms/step - loss: 1.2355 - acc: 0.5577 - val_loss: 1.2620 - val_acc: 0.5527\n",
      "Epoch 22/71\n",
      "50000/50000 [==============================] - 315s 6ms/step - loss: 1.1987 - acc: 0.5714 - val_loss: 1.2115 - val_acc: 0.5607\n",
      "Epoch 23/71\n",
      "49920/50000 [============================>.] - ETA: 0s - loss: 1.1650 - acc: 0.5859"
     ]
    }
   ],
   "source": [
    "history = net2.fit(X_train, Y_train, batch_size=batch_size, epochs=sgdr.nb_epoch,\n",
    "                   validation_data=(X_test, Y_test),\n",
    "                   verbose=1,\n",
    "                   callbacks=[sgdr])\n",
    "\n",
    "# summarize history for accuracy\n",
    "plt.plot(history.history['acc'])\n",
    "plt.plot(history.history['val_acc'])\n",
    "plt.title('model accuracy')\n",
    "plt.ylabel('accuracy')\n",
    "plt.xlabel('epoch')\n",
    "plt.legend(['train', 'test'], loc='upper left')\n",
    "plt.show()\n",
    "# summarize history for loss\n",
    "plt.plot(history.history['loss'])\n",
    "plt.plot(history.history['val_loss'])\n",
    "plt.title('model loss')\n",
    "plt.ylabel('loss')\n",
    "plt.xlabel('epoch')\n",
    "plt.legend(['train', 'test'], loc='upper left')\n",
    "plt.show()\n",
    "\n",
    "plt.plot(sgdr.history['lr'])\n",
    "plt.title('Learning rate')\n",
    "plt.ylabel('LR')\n",
    "plt.xlabel('Epoch')\n",
    "plt.show()"
   ]
  },
  {
   "cell_type": "markdown",
   "metadata": {
    "colab_type": "text",
    "id": "jbsJUUnCWOnf"
   },
   "source": [
    "We reach about 69% of accuracy on validation set for only 67k parameters!\n",
    "\n",
    "We can run for more epochs but we will overfit soon.\n",
    "\n",
    "Actually, it is not an issue of number of example as we have already 50k samples, but rather an issue of model complexity: our model is too simple!"
   ]
  },
  {
   "cell_type": "markdown",
   "metadata": {
    "colab_type": "text",
    "id": "oM_6HxoNWOnf"
   },
   "source": [
    "## BatchNorm\n",
    "\n",
    "Normalize the activations of the previous layer at each batch, i.e. applies a transformation that maintains the mean activation close to 0 and the activation standard deviation close to 1.\n",
    "\n",
    "[link](https://towardsdatascience.com/batch-normalization-in-neural-networks-1ac91516821c)\n",
    "[link](https://www.learnopencv.com/batch-normalization-in-deep-networks/)\n",
    "\n",
    "\n",
    "it suppresses Mean & STD of the weights and then add an added value + scale factor as new hyper parameter"
   ]
  },
  {
   "cell_type": "code",
   "execution_count": 0,
   "metadata": {
    "colab": {},
    "colab_type": "code",
    "id": "qtXrn1zyWOng"
   },
   "outputs": [],
   "source": [
    "from keras.layers import BatchNormalization\n",
    "\n",
    "def CNN_BN():\n",
    "    model = Sequential()\n",
    "    model.add(Conv2D(32, (5, 5), padding='same',input_shape=X_train.shape[1:]))\n",
    "    model.add(Activation('relu'))\n",
    "    model.add(BatchNormalization())\n",
    "   \n",
    "    model.add(Conv2D(32, (3, 3),padding='same',strides=1))\n",
    "    model.add(Activation('relu'))\n",
    "    model.add(BatchNormalization())\n",
    "    model.add(MaxPooling2D(pool_size=(2, 2)))\n",
    "\n",
    "    model.add(Conv2D(64, (3, 3), padding='same'))\n",
    "    model.add(Activation('relu'))\n",
    "    model.add(BatchNormalization())\n",
    "    \n",
    "    model.add(Conv2D(64, (3, 3),padding='same'))\n",
    "    model.add(Activation('relu'))\n",
    "    model.add(BatchNormalization())\n",
    "\n",
    "    model.add(GlobalAveragePooling2D())\n",
    "               \n",
    "    model.add(Dense(nb_classes))\n",
    "    model.add(Activation('softmax'))    \n",
    "    return model "
   ]
  },
  {
   "cell_type": "code",
   "execution_count": 0,
   "metadata": {
    "colab": {},
    "colab_type": "code",
    "id": "qH6QFyJdWOnj"
   },
   "outputs": [],
   "source": [
    "net3 = CNN_BN()\n",
    "net3.summary()"
   ]
  },
  {
   "cell_type": "code",
   "execution_count": 0,
   "metadata": {
    "colab": {},
    "colab_type": "code",
    "id": "BKtB9Z3VWOnl"
   },
   "outputs": [],
   "source": [
    "# we define  few parameters\n",
    "sgd = optimizers.SGD(lr=2e-1)\n",
    "net3.compile(optimizer=sgd,loss='categorical_crossentropy', metrics=['accuracy'])\n",
    "\n",
    "sgdr = SGDRScheduler(min_lr=1e-4,\n",
    "                     max_lr=1e-1,\n",
    "                     steps_per_epoch=len(X_train)//batch_size,\n",
    "                     lr_decay=0.8,\n",
    "                     number_of_cycle = 3,\n",
    "                     cycle_length=15,\n",
    "                     cycle_mult_factor=2)\n",
    "\n",
    "# we defined a cycle length of 10 epoch, so if we want 3 restart, we should then put 30 epochs\n",
    "history = net3.fit(X_train, Y_train, batch_size=batch_size, epochs=sgdr.nb_epoch,\n",
    "                   validation_data=(X_test, Y_test),\n",
    "                   verbose=1,\n",
    "                   callbacks=[sgdr])\n",
    "\n",
    "# summarize history for accuracy\n",
    "plt.plot(history.history['acc'])\n",
    "plt.plot(history.history['val_acc'])\n",
    "plt.title('model accuracy')\n",
    "plt.ylabel('accuracy')\n",
    "plt.xlabel('epoch')\n",
    "plt.legend(['train', 'test'], loc='upper left')\n",
    "plt.show()\n",
    "# summarize history for loss\n",
    "plt.plot(history.history['loss'])\n",
    "plt.plot(history.history['val_loss'])\n",
    "plt.title('model loss')\n",
    "plt.ylabel('loss')\n",
    "plt.xlabel('epoch')\n",
    "plt.legend(['train', 'test'], loc='upper left')\n",
    "plt.show()"
   ]
  },
  {
   "cell_type": "markdown",
   "metadata": {
    "colab_type": "text",
    "id": "qgaFcCUzWOnn"
   },
   "source": [
    "Not bad, 77% of accuracy using BatchNorm and we overfit!\n",
    "so, it s time to use some dropout ;-)"
   ]
  },
  {
   "cell_type": "markdown",
   "metadata": {
    "colab_type": "text",
    "id": "-V01EVRhWOno"
   },
   "source": [
    "## DropOut\n",
    "\n",
    "\n",
    "Remember, in one of our previous course, we introduced two ways to reduce overfitting:\n",
    "- more data, using Data Augmentation\n",
    "- Regularization: make use of Dropout\n",
    "\n",
    "\n",
    "<b>DropOut</b> is a technique where randomly selected neurons are ignored during training. They are “dropped-out” randomly. This means that their contribution to the activation of downstream neurons is temporally removed on the forward pass and any weight updates are not applied to the neuron on the backward pass. Its parameter is the percentage of neurom dropout.\n",
    "\n",
    "<img src=\"https://raw.githubusercontent.com/valeoai/tutorial-images/master/images/04_advanced_CNN/Dropout.png\" width=\"50%\">\n",
    "\n",
    "Further readings [here](https://medium.com/@amarbudhiraja/https-medium-com-amarbudhiraja-learning-less-to-learn-better-dropout-in-deep-machine-learning-74334da4bfc5) and [here](https://machinelearningmastery.com/dropout-regularization-deep-learning-models-keras/)"
   ]
  },
  {
   "cell_type": "code",
   "execution_count": 0,
   "metadata": {
    "colab": {},
    "colab_type": "code",
    "id": "RgiWnwYxWOno"
   },
   "outputs": [],
   "source": [
    "def CNN_Dropout():    \n",
    "    \n",
    "    model = Sequential()\n",
    "    model.add(Conv2D(32, (5, 5), padding='same',input_shape=X_train.shape[1:]))\n",
    "    model.add(Activation('relu'))\n",
    "    model.add(BatchNormalization())\n",
    "    model.add(Dropout(0.25))\n",
    "    \n",
    "    model.add(Conv2D(32, (3, 3),padding='same',strides=1))\n",
    "    model.add(Activation('relu'))\n",
    "    model.add(BatchNormalization())\n",
    "    model.add(MaxPooling2D(pool_size=(2, 2)))\n",
    "    model.add(Dropout(0.25))\n",
    "\n",
    "    model.add(Conv2D(64, (3, 3), padding='same'))\n",
    "    model.add(Activation('relu'))\n",
    "    model.add(BatchNormalization())\n",
    "    \n",
    "    model.add(Conv2D(64, (3, 3),padding='same'))\n",
    "    model.add(Activation('relu'))\n",
    "    model.add(BatchNormalization())\n",
    "    model.add(Dropout(0.25))\n",
    "    \n",
    "    model.add(GlobalAveragePooling2D())\n",
    "               \n",
    "    model.add(Dense(nb_classes))\n",
    "    model.add(Activation('softmax'))    \n",
    "    return model "
   ]
  },
  {
   "cell_type": "code",
   "execution_count": 0,
   "metadata": {
    "colab": {},
    "colab_type": "code",
    "id": "lK2sN8AWWOnq"
   },
   "outputs": [],
   "source": [
    "net4 = CNN_Dropout()\n",
    "net4.summary()"
   ]
  },
  {
   "cell_type": "code",
   "execution_count": 0,
   "metadata": {
    "colab": {},
    "colab_type": "code",
    "id": "SlmwjO6_WOns"
   },
   "outputs": [],
   "source": [
    "# we define  few parameters\n",
    "sgd = optimizers.SGD(lr=2e-1)\n",
    "net4.compile(optimizer=sgd,loss='categorical_crossentropy', metrics=['accuracy'])\n",
    "\n",
    "sgdr = SGDRScheduler(min_lr=1e-4,\n",
    "                     max_lr=1e-1,\n",
    "                     steps_per_epoch=len(X_train)//batch_size,\n",
    "                     lr_decay=0.8,\n",
    "                     number_of_cycle = 3,\n",
    "                     cycle_length=15,\n",
    "                     cycle_mult_factor=2)\n",
    "\n",
    "history = net4.fit(X_train, Y_train, batch_size=batch_size, epochs=sgdr.nb_epoch,\n",
    "                   validation_data=(X_test, Y_test),\n",
    "                   verbose=1,\n",
    "                   callbacks=[sgdr])\n",
    "\n",
    "# summarize history for accuracy\n",
    "plt.plot(history.history['acc'])\n",
    "plt.plot(history.history['val_acc'])\n",
    "plt.title('model accuracy')\n",
    "plt.ylabel('accuracy')\n",
    "plt.xlabel('epoch')\n",
    "plt.legend(['train', 'test'], loc='upper left')\n",
    "plt.show()\n",
    "# summarize history for loss\n",
    "plt.plot(history.history['loss'])\n",
    "plt.plot(history.history['val_loss'])\n",
    "plt.title('model loss')\n",
    "plt.ylabel('loss')\n",
    "plt.xlabel('epoch')\n",
    "plt.legend(['train', 'test'], loc='upper left')\n",
    "plt.show()"
   ]
  },
  {
   "cell_type": "markdown",
   "metadata": {
    "colab_type": "text",
    "id": "ksPbYo5WWOnv"
   },
   "source": [
    "Dropout give 4% more of accuracy by discarding randomly few neurons (20%).\n",
    "We start to overfit after Epoch 70. So we can either add more severe Dropout or provide more data, or both ;-)\n",
    "\n",
    "Finally, evrything we did is to apply what we learned during the lesson and stack together some layer like LEGO. "
   ]
  },
  {
   "cell_type": "markdown",
   "metadata": {
    "colab_type": "text",
    "id": "a0YYI8GMWOnv"
   },
   "source": [
    "## Refactoring\n",
    "\n",
    "For the sake of clarity, we are going to refactor what we did. Indeed, the architecture is a sequence of pattern that we can put into a function. So that, it will be much easier to stack convolution on the top of previous layers."
   ]
  },
  {
   "cell_type": "code",
   "execution_count": 0,
   "metadata": {
    "colab": {},
    "colab_type": "code",
    "id": "yN72B8mEWOnw"
   },
   "outputs": [],
   "source": [
    "def Conv_block(kernel_size,strides,n_output,MaxPooling,DropOut,BN):\n",
    "    # kernel_size: size of the convolution kernel\n",
    "    # strides: stride size\n",
    "    # n_output: number of feature maps in the block\n",
    "    # MaxPooling: True or False\n",
    "    \n",
    "    def f(input):\n",
    "        x = Conv2D(kernel_size=kernel_size, filters=n_output, strides=strides, padding='same')(input)\n",
    "        x = Activation(relu)(x)\n",
    "        if(BN==True):\n",
    "            x = BatchNormalization()(x)\n",
    "        if(MaxPooling==True):\n",
    "            x = MaxPooling2D(pool_size=(2, 2))(x)\n",
    "        if(DropOut==True):\n",
    "            x = Dropout(0.25)(x)\n",
    "\n",
    "        return x\n",
    "    \n",
    "    return f"
   ]
  },
  {
   "cell_type": "code",
   "execution_count": 0,
   "metadata": {
    "colab": {},
    "colab_type": "code",
    "id": "gXfhKtgrWOnx"
   },
   "outputs": [],
   "source": [
    "from keras.layers import Input,GlobalAveragePooling2D\n",
    "from keras.activations import relu, softmax\n",
    "from keras.models import Model\n",
    "\n",
    "def CNN_Refactored():\n",
    "    input_tensor = Input(X_train.shape[1:])\n",
    "   \n",
    "    x = Conv_block(kernel_size=5,strides=1,n_output=32,MaxPooling=False,DropOut=True,BN=True)(input_tensor)\n",
    "    \n",
    "    x = Conv_block(kernel_size=3,strides=1,n_output=32,MaxPooling=True,DropOut=True,BN=True)(x)\n",
    "    \n",
    "    x = Conv_block(kernel_size=3,strides=1,n_output=64,MaxPooling=False,DropOut=False,BN=False)(x)\n",
    "    \n",
    "    x = Conv_block(kernel_size=3,strides=1,n_output=64,MaxPooling=False,DropOut=True,BN=True)(x)\n",
    "    \n",
    "    x = GlobalAveragePooling2D()(x)\n",
    "\n",
    "    x = Dense(nb_classes)(x)\n",
    "    x = Activation(softmax)(x)\n",
    "    \n",
    "    model = Model(inputs=input_tensor, outputs=x)\n",
    "    return model    "
   ]
  },
  {
   "cell_type": "markdown",
   "metadata": {
    "colab_type": "text",
    "id": "3ikm10kVWOnz"
   },
   "source": [
    "## Resnet\n",
    "\n",
    "As you might have noticed, since the beginning of the Fast.ai lesson, it uses ResNet model. However, we did not used it up to now because only ResNet50 has pretrained weights available in Keras.\n",
    "\n",
    "With CIFAR10, it is now the opportunity to try our own tiny version of ResNet as with learn from scratch!\n",
    "\n",
    "There are [here](https://medium.com/@14prakash/understanding-and-implementing-architectures-of-resnet-and-resnext-for-state-of-the-art-image-cf51669e1624) and [here](https://blog.waya.ai/deep-residual-learning-9610bb62c355) some interesting posts about Residual Network.\n",
    "\n",
    "<img src=\"https://raw.githubusercontent.com/valeoai/tutorial-images/master/images/ResNet2.png\" width=\"70%\">\n",
    "\n",
    "The ResNet architecture can be represented as following:\n",
    "<img src=\"https://raw.githubusercontent.com/valeoai/tutorial-images/master/images/ResNet_archi.png\" width=\"40%\">\n",
    "\n",
    "In practice, we can't use the identity function everywhere because the addition as to use consistent inputs dimensions. So, when the input x and output F(x) have different dimensions, we have to use special tricks:\n",
    "- spatial dimension of the Tensor is not the same: it can be reduce either by the convolution stride or a MaxPoolingLayer\n",
    "- Depth of tensor is not the same: we can use a 2d convolution with 1x1 kernel to replace the identity function. \n",
    "\n",
    "Therefore, we have to slightly modify our initial network to comply with this constraint. looking to our previous Tensor size:\n",
    "\n",
    "| Layer                        |output size               |param  |   \n",
    "|------------------------------|--------------------------|-------|\n",
    "| conv2d_49 (Conv2D)           |(None, 32, 32, 32)        |2432   |   \n",
    "|activation_61 (Activation)    |(None, 32, 32, 32)        | 0     |         \n",
    "|batch_normalization_4 (Batch  |(None, 32, 32, 32)        |128    |       \n",
    "|conv2d_50 (Conv2D)            |(None, 32, 32, 32)        |9248   |      \n",
    "|activation_62 (Activation)    |(None, 32, 32, 32)        |0      |   \n",
    "|batch_normalization_5 (Batch  |(None, 32, 32, 32)        |128    |   \n",
    "|max_pooling2d_12 (MaxPooling  |(None, 16, 16, 32)        |0      |   \n",
    "|conv2d_51 (Conv2D)            |(None, 16, 16, 64)        |18496  |   \n",
    "|activation_63 (Activation)    |(None, 16, 16, 64)        |0      |   \n",
    "|conv2d_52 (Conv2D)            |(None, 16, 16, 64)        |36928  |   \n",
    "|activation_64 (Activation)    |(None, 16, 16, 64)        |0      |   \n",
    "|batch_normalization_6 (Batch  |(None, 16, 16, 64)        |256    |   \n",
    "|global_average_pooling2d_12   |(None, 64)                |0      |\n",
    "|dense_14 (Dense)              |(None, 10)                |650    |\n",
    "\n",
    "It looks quite simple to make a shortcut between the output of max_pooling2d_12 (16, 16, 32) and the output of batch_normalization_6 (16, 16, 64) --> we just need to upscale the depth of the tensor\n",
    "\n",
    "\n"
   ]
  },
  {
   "cell_type": "code",
   "execution_count": 0,
   "metadata": {
    "colab": {},
    "colab_type": "code",
    "id": "dEabC7B2WOnz"
   },
   "outputs": [],
   "source": [
    "from keras.layers.merge import add\n",
    "\n",
    "#shortcut connection.\n",
    "\n",
    "def CNN_ResNet():\n",
    "    input_tensor = Input(X_train.shape[1:])\n",
    "   \n",
    "    x = Conv_block(kernel_size=5,strides=1,n_output=32,MaxPooling=False,DropOut=True,BN=True)(input_tensor) # (32, 32, 32)\n",
    "    \n",
    "    # Fist block\n",
    "    x = Conv_block(kernel_size=3,strides=1,n_output=32,MaxPooling=True,DropOut=True,BN=True)(x) #(16, 16, 32)\n",
    "    \n",
    "    x = Conv_block(kernel_size=3,strides=1,n_output=64,MaxPooling=False,DropOut=False,BN=False)(x) #(16, 16, 64))\n",
    "    \n",
    "    F = Conv_block(kernel_size=3,strides=1,n_output=64,MaxPooling=False,DropOut=True,BN=True)(x) # (16, 16, 64) \n",
    "    \n",
    "    F = Conv_block(kernel_size=1,strides=1,n_output=64,MaxPooling=False,DropOut=False,BN=False)(F) # upscale\n",
    "    R_1 = add([F, x])\n",
    "    \n",
    "    x = GlobalAveragePooling2D()(R_1)\n",
    "\n",
    "    x = Dense(nb_classes)(x)\n",
    "    x = Activation(softmax)(x)\n",
    "    \n",
    "    model = Model(inputs=input_tensor, outputs=x)\n",
    "    return model    "
   ]
  },
  {
   "cell_type": "code",
   "execution_count": 0,
   "metadata": {
    "colab": {},
    "colab_type": "code",
    "id": "fodLx_RdWOn1"
   },
   "outputs": [],
   "source": [
    "net5 = CNN_ResNet()\n",
    "net5.summary()"
   ]
  },
  {
   "cell_type": "code",
   "execution_count": 0,
   "metadata": {
    "colab": {},
    "colab_type": "code",
    "id": "x37laadgWOn4"
   },
   "outputs": [],
   "source": [
    "# we define  few parameters\n",
    "sgd = optimizers.SGD(lr=2e-1)\n",
    "net5.compile(optimizer=sgd,loss='categorical_crossentropy', metrics=['accuracy'])\n",
    "\n",
    "sgdr = SGDRScheduler(min_lr=1e-4,\n",
    "                     max_lr=1e-1,\n",
    "                     steps_per_epoch=len(X_train)//batch_size,\n",
    "                     lr_decay=0.8,\n",
    "                     number_of_cycle = 3,\n",
    "                     cycle_length=15,\n",
    "                     cycle_mult_factor=2)\n",
    "\n",
    "history = net5.fit(X_train, Y_train, batch_size=batch_size, epochs=sgdr.nb_epoch,\n",
    "                   validation_data=(X_test, Y_test),\n",
    "                   verbose=1,\n",
    "                   callbacks=[sgdr])\n",
    "\n",
    "# summarize history for accuracy\n",
    "plt.plot(history.history['acc'])\n",
    "plt.plot(history.history['val_acc'])\n",
    "plt.title('model accuracy')\n",
    "plt.ylabel('accuracy')\n",
    "plt.xlabel('epoch')\n",
    "plt.legend(['train', 'test'], loc='upper left')\n",
    "plt.show()\n",
    "# summarize history for loss\n",
    "plt.plot(history.history['loss'])\n",
    "plt.plot(history.history['val_loss'])\n",
    "plt.title('model loss')\n",
    "plt.ylabel('loss')\n",
    "plt.xlabel('epoch')\n",
    "plt.legend(['train', 'test'], loc='upper left')\n",
    "plt.show()"
   ]
  },
  {
   "cell_type": "markdown",
   "metadata": {
    "colab_type": "text",
    "id": "LrwYeBPLWOn7"
   },
   "source": [
    "We add a slight gain of 2%. It is not amazing but just adding a shortcuts is already good. \n",
    "At this stage, we do not overfit. So, if we want to improve our performances, we need a deeper architecture.\n",
    "And only in a second time if we overfit, then we can use data augmentation"
   ]
  },
  {
   "cell_type": "code",
   "execution_count": 0,
   "metadata": {
    "colab": {},
    "colab_type": "code",
    "id": "WDU3luzBWOn8"
   },
   "outputs": [],
   "source": [
    "def conv_block2(n_output, upscale=False):\n",
    "    # n_output: number of feature maps in the block\n",
    "    # upscale: should we use the 1x1 conv2d mapping for shortcut or not\n",
    "    \n",
    "    # keras functional api: return the function of type\n",
    "    # Tensor -> Tensor\n",
    "    def f(x):\n",
    "        \n",
    "        # H_l(x):\n",
    "        # first pre-activation\n",
    "        # first convolution\n",
    "        h = Conv2D(kernel_size=3, filters=n_output, strides=1, padding='same')(x)\n",
    "        h = Activation(relu)(h)\n",
    "        h = BatchNormalization()(h)\n",
    "        \n",
    "        # second pre-activation\n",
    "        # second convolution\n",
    "        h = Conv2D(kernel_size=3, filters=n_output, strides=1, padding='same')(h)\n",
    "        h = Activation(relu)(h)        \n",
    "        h = BatchNormalization()(h)\n",
    "        \n",
    "        # f(x):\n",
    "        if upscale:\n",
    "            # 1x1 conv2d\n",
    "            f = Conv2D(kernel_size=1, filters=n_output, strides=1, padding='same')(x)\n",
    "        else:\n",
    "            # identity\n",
    "            f = x\n",
    "        \n",
    "        # F_l(x) = f(x) + H_l(x):\n",
    "        return add([f, h])\n",
    "    \n",
    "    return f\n",
    "\n",
    "\n",
    "def CNN_ResNet_Deeper():\n",
    "    \n",
    "    input_tensor = Input(X_train.shape[1:])\n",
    "\n",
    "    # first conv2d with post-activation to transform the input data to some reasonable form\n",
    "    x = Conv_block(kernel_size=5,strides=1,n_output=32,MaxPooling=False,DropOut=True,BN=True)(input_tensor) \n",
    "\n",
    "    # F_1\n",
    "    x = conv_block2(32,upscale=True)(x)\n",
    "    \n",
    "    # F_2\n",
    "    x = conv_block2(32)(x)\n",
    "    x = Dropout(0.25)(x)\n",
    "\n",
    "    # F_3\n",
    "    x = conv_block2(64, upscale=True)(x)      \n",
    "    \n",
    "    # F_4\n",
    "    x = conv_block2(64)(x)\n",
    "    x = Dropout(0.2)(x)\n",
    "\n",
    "    x = Conv_block(kernel_size=5,strides=1,n_output=64,MaxPooling=True,DropOut=True,BN=True)(x) \n",
    "    \n",
    "    x = GlobalAveragePooling2D()(x)\n",
    "\n",
    "    # last softmax layer\n",
    "    x = Dense(units=10)(x)\n",
    "    x = Activation(softmax)(x)\n",
    "\n",
    "    model = Model(inputs=input_tensor, outputs=x)\n",
    "    return model"
   ]
  },
  {
   "cell_type": "code",
   "execution_count": 0,
   "metadata": {
    "colab": {},
    "colab_type": "code",
    "id": "F7L91_VNWOn-"
   },
   "outputs": [],
   "source": [
    "net6 = CNN_ResNet_Deeper()\n",
    "net6.summary()"
   ]
  },
  {
   "cell_type": "code",
   "execution_count": 0,
   "metadata": {
    "colab": {},
    "colab_type": "code",
    "id": "IQzzaFVCWOn_"
   },
   "outputs": [],
   "source": [
    "# we define  few parameters\n",
    "sgd = optimizers.SGD(lr=2e-1)\n",
    "net6.compile(optimizer=sgd,loss='categorical_crossentropy', metrics=['accuracy'])\n",
    "\n",
    "sgdr = SGDRScheduler(min_lr=1e-4,\n",
    "                     max_lr=1e-1,\n",
    "                     steps_per_epoch=len(X_train)//batch_size,\n",
    "                     lr_decay=0.8,\n",
    "                     number_of_cycle = 3,\n",
    "                     cycle_length=15,\n",
    "                     cycle_mult_factor=2)\n",
    "\n",
    "history = net6.fit(X_train, Y_train, batch_size=batch_size, epochs=sgdr.nb_epoch,\n",
    "                   validation_data=(X_test, Y_test),\n",
    "                   verbose=1,\n",
    "                   callbacks=[sgdr])\n",
    "\n",
    "# summarize history for accuracy\n",
    "plt.plot(history.history['acc'])\n",
    "plt.plot(history.history['val_acc'])\n",
    "plt.title('model accuracy')\n",
    "plt.ylabel('accuracy')\n",
    "plt.xlabel('epoch')\n",
    "plt.legend(['train', 'test'], loc='upper left')\n",
    "plt.show()\n",
    "# summarize history for loss\n",
    "plt.plot(history.history['loss'])\n",
    "plt.plot(history.history['val_loss'])\n",
    "plt.title('model loss')\n",
    "plt.ylabel('loss')\n",
    "plt.xlabel('epoch')\n",
    "plt.legend(['train', 'test'], loc='upper left')\n",
    "plt.show()"
   ]
  },
  {
   "cell_type": "code",
   "execution_count": 0,
   "metadata": {
    "colab": {},
    "colab_type": "code",
    "id": "dh5uPYjlWOoC"
   },
   "outputs": [],
   "source": [
    "# First, we have to define the kind of transformations we want to apply\n",
    "datagen = ImageDataGenerator(\n",
    "    featurewise_center=False,  # set input mean to 0 over the dataset\n",
    "    samplewise_center=False,  # set each sample mean to 0\n",
    "    featurewise_std_normalization=False,  # divide inputs by std of the dataset\n",
    "    samplewise_std_normalization=False,  # divide each input by its std\n",
    "    zca_whitening=False,  # apply ZCA whitening\n",
    "    zca_epsilon=1e-06,  # epsilon for ZCA whitening\n",
    "    rotation_range=0,  # randomly rotate images in the range (degrees, 0 to 180)\n",
    "    # randomly shift images horizontally (fraction of total width)\n",
    "    width_shift_range=0.1,\n",
    "    # randomly shift images vertically (fraction of total height)\n",
    "    height_shift_range=0.1,\n",
    "    shear_range=0.,  # set range for random shear\n",
    "    zoom_range=0.,  # set range for random zoom\n",
    "    channel_shift_range=0.,  # set range for random channel shifts\n",
    "    # set mode for filling points outside the input boundaries\n",
    "    fill_mode='nearest',\n",
    "    cval=0.,  # value used for fill_mode = \"constant\"\n",
    "    horizontal_flip=True,  # randomly flip images\n",
    "    vertical_flip=False,  # randomly flip images\n",
    "    # set rescaling factor (applied before any other transformation)\n",
    "    rescale=None,\n",
    "    # set function that will be applied on each input\n",
    "    preprocessing_function=None,\n",
    "    # image data format, either \"channels_first\" or \"channels_last\"\n",
    "    data_format=None,\n",
    "    # fraction of images reserved for validation (strictly between 0 and 1)\n",
    "    validation_split=0.0)\n",
    "\n",
    "# Compute quantities required for feature-wise normalization\n",
    "# (std, mean, and principal components if ZCA whitening is applied).\n",
    "datagen.fit(X_train)"
   ]
  },
  {
   "cell_type": "code",
   "execution_count": 0,
   "metadata": {
    "colab": {},
    "colab_type": "code",
    "id": "YWUkwYw7WOoD"
   },
   "outputs": [],
   "source": [
    "net6.compile(optimizer=optimizers.SGD(lr=1e-1),loss='categorical_crossentropy', metrics=['accuracy'])\n",
    "net6.fit_generator(datagen.flow(X_train, Y_train,batch_size=batch_size), \n",
    "                             epochs=20,\n",
    "                             validation_data=(X_test, Y_test),\n",
    "                             verbose=1)\n",
    "\n",
    "net6.compile(optimizer=optimizers.SGD(lr=1e-2),loss='categorical_crossentropy', metrics=['accuracy'])\n",
    "net6.fit_generator(datagen.flow(X_train, Y_train,batch_size=batch_size), \n",
    "                             epochs=20,\n",
    "                             validation_data=(X_test, Y_test),\n",
    "                             verbose=1)\n",
    "\n",
    "net6.compile(optimizer=optimizers.SGD(lr=1e-3),loss='categorical_crossentropy', metrics=['accuracy'])\n",
    "net6.fit_generator(datagen.flow(X_train, Y_train,batch_size=batch_size), \n",
    "                             epochs=60,\n",
    "                             validation_data=(X_test, Y_test),\n",
    "                             verbose=1)\n",
    "\n",
    "\n",
    "# summarize history for accuracy\n",
    "plt.plot(history.history['acc'])\n",
    "plt.plot(history.history['val_acc'])\n",
    "plt.title('model accuracy')\n",
    "plt.ylabel('accuracy')\n",
    "plt.xlabel('epoch')\n",
    "plt.legend(['train', 'test'], loc='upper left')\n",
    "plt.show()\n",
    "# summarize history for loss\n",
    "plt.plot(history.history['loss'])\n",
    "plt.plot(history.history['val_loss'])\n",
    "plt.title('model loss')\n",
    "plt.ylabel('loss')\n",
    "plt.xlabel('epoch')\n",
    "plt.legend(['train', 'test'], loc='upper left')\n",
    "plt.show()"
   ]
  },
  {
   "cell_type": "markdown",
   "metadata": {
    "colab_type": "text",
    "id": "X3tFzliqWOoF"
   },
   "source": [
    "## What did we learnt?\n",
    "\n",
    "We learnt today how to build from scratch our own ConvNet inspired from standard architecture patterns as well as latest research tricks. We have seen step by step what are the effect of key components such as Pooling, BatchNorm... to performances and computation time.\n",
    "\n",
    "Below is a summary of the performances improvements we did:\n",
    "\n",
    "|       Version       | Nb Param  | Accuracy |\n",
    "|---------------------|-----------|----------|\n",
    "| Linear              | 123,330   |   39%    |\n",
    "|---------------------|-----------|----------|\n",
    "| Conv+ReLu+Pooling   | 67,754    |   69%    |\n",
    "|---------------------|-----------|----------|\n",
    "| + BatchNorm         | 68,266    |   77%    |\n",
    "|---------------------|-----------|----------|\n",
    "| + Dropout           | 68,266    |   81%    |\n",
    "|---------------------|-----------|----------|\n",
    "| ResNet              | 70,378    |   84%    |\n",
    "|---------------------|-----------|----------|\n",
    "| ResNet++            | 276,906   |   85%    |\n",
    "|---------------------|-----------|----------|\n",
    "| ResNet++ & Data Aug.| 276,906   |   87%    |\n",
    "|---------------------|-----------|----------|\n",
    "\n",
    "<img src=\"https://raw.githubusercontent.com/valeoai/tutorial-images/master/images/04_advanced_CNN/END.gif\" width=\"40%\">"
   ]
  },
  {
   "cell_type": "markdown",
   "metadata": {
    "colab_type": "text",
    "id": "0UOqRQ96WOoF"
   },
   "source": [
    "# Conclusion on Part 1"
   ]
  },
  {
   "cell_type": "markdown",
   "metadata": {
    "colab_type": "text",
    "id": "iCE6rlN3WOoF"
   },
   "source": [
    "In Part 1, we have seen how to use a ConvNet for Image Classification and we understand now most of it building blocks.\n",
    "\n",
    "Except for this latest lesson, most of the time, we use Transfert Learning technics for the simple reason that most of the time you don t have enough data and it is quite likely that someone did domething in the same type of Data. So, there might be something to reuse!\n",
    "\n",
    "We have learnt with Fast.ai the steps for an efficient Transfert Learning:\n",
    "<img src=\"https://raw.githubusercontent.com/valeoai/tutorial-images/master/images/04_advanced_CNN/TransfertLearning.png\" width=\"60%\">\n",
    "\n",
    "\n",
    "But Transfert Learning does not work all the time, so when do we use it (see [here](https://deeplearningsandbox.com/how-to-use-transfer-learning-and-fine-tuning-in-keras-and-tensorflow-to-build-an-image-recognition-94b0b02444f2\n",
    ") for more details)?\n",
    "\n",
    "<img src=\"https://raw.githubusercontent.com/valeoai/tutorial-images/master/images/04_advanced_CNN/transfer_learning.png\" width=\"60%\">\n",
    "\n",
    "*you should also experiment with training from scratch as well.\n",
    "\n",
    "The figure above and the bullets below describe some general advice for when to choose which approach.\n",
    "\n",
    "- Similar & small dataset: avoid overfitting by not fine-tuning the weights on a small dataset, and use extracted features from the highest levels of the ConvNet to leverage dataset similarity.\n",
    "- Different & small dataset: avoid overfitting by not fine-tuning the weights on a small dataset, and use extracted features from lower levels of the ConvNet which are more generalizable.\n",
    "- Similar & large dataset: with a large dataset we can fine-tune the weights with less of a chance to overfit the training data.\n",
    "- Different & large dataset: with a large dataset we again can fine-tune the weights with less of a chance to overfit."
   ]
  },
  {
   "cell_type": "markdown",
   "metadata": {
    "colab_type": "text",
    "id": "ubuIcYwUWOoG"
   },
   "source": [
    "# Assignment\n",
    "\n",
    "to define"
   ]
  },
  {
   "cell_type": "markdown",
   "metadata": {
    "colab_type": "text",
    "collapsed": true,
    "hidden": true,
    "id": "6Ptc0ZdDWOoG"
   },
   "source": [
    "# End"
   ]
  }
 ],
 "metadata": {
  "colab": {
   "collapsed_sections": [],
   "name": "04_advanced_CNN.ipynb",
   "provenance": [],
   "toc_visible": true,
   "version": "0.3.2"
  },
  "kernelspec": {
   "display_name": "Python 3",
   "language": "python",
   "name": "python3"
  },
  "language_info": {
   "codemirror_mode": {
    "name": "ipython",
    "version": 3
   },
   "file_extension": ".py",
   "mimetype": "text/x-python",
   "name": "python",
   "nbconvert_exporter": "python",
   "pygments_lexer": "ipython3",
   "version": "3.6.5"
  }
 },
 "nbformat": 4,
 "nbformat_minor": 1
}
