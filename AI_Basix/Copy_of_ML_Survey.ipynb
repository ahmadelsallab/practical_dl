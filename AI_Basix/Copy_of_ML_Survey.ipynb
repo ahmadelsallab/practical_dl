{
  "nbformat": 4,
  "nbformat_minor": 0,
  "metadata": {
    "colab": {
      "name": "Copy of ML Survey.ipynb",
      "provenance": []
    },
    "kernelspec": {
      "name": "python3",
      "display_name": "Python 3"
    }
  },
  "cells": [
    {
      "cell_type": "code",
      "metadata": {
        "id": "NLSNfz7SA9zT",
        "colab_type": "code",
        "colab": {}
      },
      "source": [
        ""
      ],
      "execution_count": 0,
      "outputs": []
    },
    {
      "cell_type": "markdown",
      "metadata": {
        "id": "vDOUZyIDCiRi",
        "colab_type": "text"
      },
      "source": [
        "https://docs.google.com/forms/d/1VwZD1k2tvsLhq_W-HwHdbwg-13xj8eAlnZSRQMECNQ4/edit\n",
        "https://docs.google.com/spreadsheets/d/1-Vwlsdikors3ZyKQZs_uADMFgakpRv3_2ANUj_-tEjo/edit#gid=0\n",
        "https://docs.google.com/spreadsheets/d/13YFsyKP2elw-cDZvIrn5XnXtcjDFMY_jyMATm2n2En0/edit?usp=drive_web&ouid=101918908225833150446\n",
        "\n"
      ]
    },
    {
      "cell_type": "markdown",
      "metadata": {
        "id": "X3Ue2qH4A-l6",
        "colab_type": "text"
      },
      "source": [
        "$q^i=[q1, q2,...qN]$, $N$ is the number of questions in the survey\n",
        "\n",
        "$q_j^i$ is the answer of question j for user i\n",
        "\n",
        "$q_j^i \\in [0,1]$ for (Y/N) questions \n",
        "$q_j^i \\in [0,L]$ for range questions, where $L \\in R$\n",
        "\n",
        "$0<=i<=M, M=$number of users\n",
        "\n",
        "For each $q^i$ we want to predict Y/N result indicating whether the user knows or not ML: $y^i \\in [0,1]$\n",
        "\n",
        "The question now, how to find a mapping from $q^i$ to $y^i$?\n",
        "\n",
        "$y^i = f(q^i)$\n",
        "\n",
        "Specifically, how to find f?\n",
        "\n",
        "Let's assume we will give every question $j$ in the survey a certain _importance_ $w_j \\in R$\n",
        "\n",
        "Now, we can have a score for each question as follows:\n",
        "\n",
        "$s_j^i = w_j*q^i_j$\n",
        "\n",
        "The above score is unnormalized, meaning, it can take any value. \n",
        "\n",
        "We better have a nomalized weight $0 <= w_j <= 1$:\n",
        "\n",
        "$s_j^i = w_j/\\sum_{j=1}^N(w_j)*q^i_j$\n",
        "\n",
        "Now we can have normalized scores $0<=s_j^i<=L$, where $L$ is 1 for binary questions or max for range ones.\n",
        "\n",
        "if we want $0<=s_j^i<=1$then we formulate $s_j^i$ as follows:\n",
        "$s_j^i = w_j/\\sum_{j=1}^N(w_j)*q^i_j/L_j$, where $L_j$ is the range of the question $q_j^i$\n",
        "\n",
        "Now to get a score for the whole user $s^i$, all we need is to sum the individual scores:\n",
        "\n",
        "$s^i = \\sum_{j=1}^N s_j^i$\n",
        "\n",
        "But this will give us a score that cannot be > 1, since we normalize the weights. Check if all weights are 1 ,  $w_j=1$:\n",
        "\n",
        "$s^i = 1/N * \\sum_{j=1}^N q^i_j/L_j$\n",
        "\n",
        "So it's like the average score, which is either [0,1] for the normalized case above (when each question answer we divide by $L_j$) or [0, $L_j$] if we don't divide.\n",
        "Say if all answers $q_j=L_j$, then the final answer is either 1 for the normalized case or $L_j$ for the unnormalized case.\n",
        "\n",
        "\n",
        "A special case of the above if all questions have the same range $L_j = L$, and if we want the final score to be in the same range (say [0,10] not [0,1]), all what we need to do is multiply by L:\n",
        "$s^i = L * \\sum_{j=1}^N s_j^i$\n",
        "\n",
        "In this case, we just have a weighted average of the questions:\n",
        "$s^i = \\sum_{j=1}^N (w_j/\\sum_{j=1}^N(w_j))*q^i_j$\n",
        "\n",
        "Check, if all questions have $w_j=1$ and $q^i_j=L_j$, then have have normalized $s^i=1$ and unnormalize $s^i=L_j$\n",
        "\n",
        "$s^i = 1/N * \\sum_{j=1}^N q^i_j$\n",
        "\n",
        "Which is again the average.\n",
        "\n",
        "Now, back to the normal case, if we plug the whole equation we get:\n",
        "\n",
        "$s^i = \\sum_{j=1}^N (w_j/\\sum_{j=1}^N(w_j))*q^i_j/L_j$\n",
        "\n",
        "The is just a parameterized function mapping from $q^i_j$ to a score $s^i$\n",
        "\n",
        "$s^i = s(q^i_j;w_j)$\n",
        "\n",
        "To get a final result $y^i$ whether a person knows ML or not, we need to apply a threshold, say 0.5:\n",
        "\n",
        "$y^i = 1\\{s^i > 0.5\\}$\n",
        "\n",
        "Now, two questions remain:\n",
        "\n",
        "1- How to choose $w_j$ ?\n",
        "\n",
        "If the answer to this question is: \"by experience or applying pre-defined rule\", then you are doing rule-based AI or traditional AI.\n",
        "\n",
        "If the answer is \"we learn $w_j$\" then you are doing ML.\n",
        "\n",
        "2- How to choose the questions $q^i_j$?\n",
        "We call the questions vector $q^i=[q1, q2,...qN]$ _features vector_\n",
        "\n",
        "In case of structured data like above, normally we choose them based on experince.\n",
        "\n",
        "In case of unstructured data like images, the $q^i$ vector is just the pixel values. So the question, what are $q_i^j$\n",
        "\n",
        "If the answer is say, we perform some statistics on the pixels, say \"sum\", then use this as score of the image $i$, then you are doing ML.\n",
        "\n",
        "If the answer is that we just use the raw pixel values, then you are doing DL.\n",
        "\n",
        "\n"
      ]
    },
    {
      "cell_type": "code",
      "metadata": {
        "id": "6w_UZpQtDlGs",
        "colab_type": "code",
        "colab": {}
      },
      "source": [
        "::"
      ],
      "execution_count": 0,
      "outputs": []
    }
  ]
}